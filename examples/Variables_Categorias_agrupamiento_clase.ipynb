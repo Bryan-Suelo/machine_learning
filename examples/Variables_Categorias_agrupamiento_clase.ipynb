{
  "nbformat": 4,
  "nbformat_minor": 0,
  "metadata": {
    "colab": {
      "name": "Variables_Categorias_agrupamiento_clase.ipynb",
      "provenance": [],
      "collapsed_sections": []
    },
    "kernelspec": {
      "name": "python3",
      "display_name": "Python 3"
    }
  },
  "cells": [
    {
      "cell_type": "markdown",
      "metadata": {
        "id": "qmdztgSXxfs0"
      },
      "source": [
        "#**Ajuste de variables categóricas en el caso de agrupamiento de nivels con pocos valores**\n",
        "\n",
        "Datos tarjetas de crédito - Australia\n",
        "https://archive.ics.uci.edu/ml/datasets/statlog+(australian+credit+approval)"
      ]
    },
    {
      "cell_type": "code",
      "metadata": {
        "id": "4mL9A3fmL_UU"
      },
      "source": [
        "from sklearn import preprocessing\n",
        "import numpy as np\n",
        "import pandas as pd\n",
        "import seaborn as sns \n",
        "import matplotlib.pyplot as plt \n",
        "import statsmodels.api as sm \n",
        "\n",
        "from sklearn.model_selection import train_test_split\n",
        "from sklearn.metrics import confusion_matrix"
      ],
      "execution_count": null,
      "outputs": []
    },
    {
      "cell_type": "code",
      "metadata": {
        "id": "Q1OkRRG0Mgel"
      },
      "source": [
        "from google.colab import drive\n",
        "drive.mount('/content/drive')"
      ],
      "execution_count": null,
      "outputs": []
    },
    {
      "cell_type": "code",
      "metadata": {
        "id": "F6_bNYLpMqZz"
      },
      "source": [
        "mypath = \"/content/drive/My Drive/data/australian.dat\"\n"
      ],
      "execution_count": null,
      "outputs": []
    },
    {
      "cell_type": "markdown",
      "metadata": {
        "id": "rdWZ6FeTSl-S"
      },
      "source": [
        "### Los cargamos y le ponemos nombres a las columnas:"
      ]
    },
    {
      "cell_type": "code",
      "metadata": {
        "id": "LvqPKCieM3Tq"
      },
      "source": [
        "data = pd.read_csv(mypath, sep=\" \", header=None)\n",
        "\n",
        "data.columns = ['A1','A2','A3','A4','A5','A6','A7','A8','A9','A10','A11','A12','A13','A14','class']\n",
        "data.head(7)"
      ],
      "execution_count": null,
      "outputs": []
    },
    {
      "cell_type": "code",
      "metadata": {
        "id": "7tI8j9yUuD6b"
      },
      "source": [
        "data.info()"
      ],
      "execution_count": null,
      "outputs": []
    },
    {
      "cell_type": "code",
      "metadata": {
        "id": "e_AoJaV_8rdx"
      },
      "source": [
        "# Correlation analysis\n",
        "corrMatt = data.corr()\n",
        "mask = np.array(corrMatt)\n",
        "mask[np.tril_indices_from(mask)] = False\n",
        "fig,ax= plt.subplots()\n",
        "fig.set_size_inches(20,10)\n",
        "sns.heatmap(corrMatt, mask=mask,vmax=.8, square=True,annot=True)"
      ],
      "execution_count": null,
      "outputs": []
    },
    {
      "cell_type": "markdown",
      "metadata": {
        "id": "Qx3xN0XlbLy3"
      },
      "source": [
        "##**Variables de entrada (independientes o predictores) y de salida (dependiente u objetivo)**"
      ]
    },
    {
      "cell_type": "code",
      "metadata": {
        "id": "pva3ONDS3TKJ"
      },
      "source": [
        "X = data[['A1','A2','A3','A4','A5','A6','A7','A8','A9','A10','A11','A12','A13','A14']]\n",
        "\n",
        "Y = data[['class']]"
      ],
      "execution_count": null,
      "outputs": []
    },
    {
      "cell_type": "code",
      "metadata": {
        "id": "VurzkeuA2jT_"
      },
      "source": [
        "# Verifiquemos qué tan bien balanceadas están las dos clases:\n",
        "\n",
        "# 1 : (clase positiva) : Se autoriza el crédito\n",
        "# 0 : (clase negativa) : No se autoriza el crédito\n",
        "\n",
        "sum(Y['class'])"
      ],
      "execution_count": null,
      "outputs": []
    },
    {
      "cell_type": "code",
      "metadata": {
        "id": "9a3VCkB-udLR"
      },
      "source": [
        "307/690   # clase positiva"
      ],
      "execution_count": null,
      "outputs": []
    },
    {
      "cell_type": "code",
      "metadata": {
        "id": "VwaaqPWouhWS"
      },
      "source": [
        "1 -307/690   # clase negativa"
      ],
      "execution_count": null,
      "outputs": []
    },
    {
      "cell_type": "markdown",
      "metadata": {
        "id": "cwOEs8azbp-R"
      },
      "source": [
        "#**Variables de valor entero: ¿Categóricas o Numéricas?**\n",
        "\n",
        "##**Analicemos primeramente las variables de entrada X de tipo entero y determinar si las consideraremos Categórics o Numéricas**\n",
        "\n",
        "Recuerda que es un problema de Calsificación: se aprueba (1) o no (0) el crédito.\n"
      ]
    },
    {
      "cell_type": "markdown",
      "metadata": {
        "id": "Oe7TQhKVIB0y"
      },
      "source": [
        "###**Obtengamos primeramente sus histogramas y ver qué información podemos empezar a observar.**"
      ]
    },
    {
      "cell_type": "code",
      "metadata": {
        "id": "hoNgcpJjvRnp"
      },
      "source": [
        "Xint = ['A1','A4','A5','A6','A8','A9','A10','A11','A12','A13','A14']"
      ],
      "execution_count": null,
      "outputs": []
    },
    {
      "cell_type": "code",
      "metadata": {
        "id": "1J4572dfxij3"
      },
      "source": [
        "sns.set(rc={'figure.figsize':(14,16)})   # (width, height)"
      ],
      "execution_count": null,
      "outputs": []
    },
    {
      "cell_type": "code",
      "metadata": {
        "id": "BtTgO8WkFrbv"
      },
      "source": [
        "fig, axes = plt.subplots(4, 3)\n",
        "\n",
        "for k in range(0,11):\n",
        "  plt.subplot(4,3,k+1)\n",
        "  plt.hist(data[Xint[k]])\n",
        "  plt.xlabel(Xint[k])\n",
        "\n",
        "plt.show()"
      ],
      "execution_count": null,
      "outputs": []
    },
    {
      "cell_type": "code",
      "metadata": {
        "id": "AY5oFf0Dbhlr"
      },
      "source": [
        "X.describe()  # no ayuda mucho este resumen..."
      ],
      "execution_count": null,
      "outputs": []
    },
    {
      "cell_type": "code",
      "metadata": {
        "id": "6N8pZsD8JZ-C"
      },
      "source": [
        "sns.set(rc={'figure.figsize':(6,4)})   # (width, height)"
      ],
      "execution_count": null,
      "outputs": []
    },
    {
      "cell_type": "code",
      "metadata": {
        "id": "XLoUSNA8bhik"
      },
      "source": [
        "plt.hist(data['A1'], bins=20)\n",
        "plt.xlabel(\"A1\")\n",
        "plt.show()"
      ],
      "execution_count": null,
      "outputs": []
    },
    {
      "cell_type": "code",
      "metadata": {
        "id": "DmQmhfwebhgO"
      },
      "source": [
        "print(X['A1'].value_counts())\n",
        "\n",
        "print(X['A1'].value_counts() / X.shape[0])"
      ],
      "execution_count": null,
      "outputs": []
    },
    {
      "cell_type": "markdown",
      "metadata": {
        "id": "w8PTehyCmNUL"
      },
      "source": [
        "###**Conclusión A1: Variable Categórica**"
      ]
    },
    {
      "cell_type": "code",
      "metadata": {
        "id": "qxls5eR-bhb-"
      },
      "source": [
        "print(X['A4'].value_counts())\n",
        "\n",
        "print(X['A4'].value_counts() / X.shape[0])"
      ],
      "execution_count": null,
      "outputs": []
    },
    {
      "cell_type": "markdown",
      "metadata": {
        "id": "tHLjkdJYmgs4"
      },
      "source": [
        "###**Conclusión A4: Variable Categórica**"
      ]
    },
    {
      "cell_type": "code",
      "metadata": {
        "id": "xFx52kIcbhPZ"
      },
      "source": [
        "print(X['A5'].value_counts())\n",
        "\n",
        "print(X['A5'].value_counts() / X.shape[0])"
      ],
      "execution_count": null,
      "outputs": []
    },
    {
      "cell_type": "code",
      "metadata": {
        "id": "wwUbipb4bhNV"
      },
      "source": [
        "plt.hist(data['A5'], bins=20)\n",
        "plt.xlabel(\"A5\")\n",
        "plt.show()"
      ],
      "execution_count": null,
      "outputs": []
    },
    {
      "cell_type": "code",
      "metadata": {
        "id": "dmcBrvkybhW0"
      },
      "source": [
        "# para ver el número de categorías diferentes:\n",
        "\n",
        "print(X['A5'].value_counts().count())"
      ],
      "execution_count": null,
      "outputs": []
    },
    {
      "cell_type": "code",
      "metadata": {
        "id": "MfLzg_WvpSn7"
      },
      "source": [
        "plt.boxplot(data['A5'], vert=False)\n",
        "plt.title(\"A5\")\n",
        "plt.show()"
      ],
      "execution_count": null,
      "outputs": []
    },
    {
      "cell_type": "markdown",
      "metadata": {
        "id": "We6flELxmwel"
      },
      "source": [
        "###**Conclusión A5: Este tipo de variables están en el umbral de poder considerarse categóricas o numéricas. Del histograma y el porcentaje de datos en cada entero, convendría mejor considerarla como categórica e inclusive agruparlos de a 2 enteros consecutivos para tener mayor información en cada nivel.**\n",
        "\n",
        "###**Se recomienda tambié usar One-hot encoder**\n",
        "\n",
        "**Hay una regla empírica que nos dice que lo deseable que en cada nivel de una variable empírica se tenga aproximadamente un 10% de la información.**"
      ]
    },
    {
      "cell_type": "code",
      "metadata": {
        "id": "LUuJ6zLpbhH7"
      },
      "source": [
        "print(X['A6'].value_counts())\n",
        "\n",
        "print(X['A6'].value_counts() / X.shape[0])"
      ],
      "execution_count": null,
      "outputs": []
    },
    {
      "cell_type": "code",
      "metadata": {
        "id": "KUx66EX7woPF"
      },
      "source": [
        "plt.hist(data['A6'], bins=20)\n",
        "plt.xlabel(\"A6\")\n",
        "plt.show()"
      ],
      "execution_count": null,
      "outputs": []
    },
    {
      "cell_type": "code",
      "metadata": {
        "id": "EvX_Ss3ndZ0q"
      },
      "source": [
        "values = array(X['A6'])"
      ],
      "execution_count": null,
      "outputs": []
    },
    {
      "cell_type": "markdown",
      "metadata": {
        "id": "5YpJ4ykYqVo-"
      },
      "source": [
        "###**Conclusión A6: Variable Categórica y se podrían reagrupar en 2 o 3 niveles.**"
      ]
    },
    {
      "cell_type": "code",
      "metadata": {
        "id": "47beyDzOwoLR"
      },
      "source": [
        "print(X['A8'].value_counts())\n",
        "\n",
        "print(X['A8'].value_counts() / X.shape[0])"
      ],
      "execution_count": null,
      "outputs": []
    },
    {
      "cell_type": "markdown",
      "metadata": {
        "id": "9UYTsuSFqxKk"
      },
      "source": [
        "###**Conclusión A8: Variable Categórica**"
      ]
    },
    {
      "cell_type": "code",
      "metadata": {
        "id": "aJ05_ZsnwoH-"
      },
      "source": [
        "print(X['A9'].value_counts())\n",
        "\n",
        "print(X['A9'].value_counts() / X.shape[0])"
      ],
      "execution_count": null,
      "outputs": []
    },
    {
      "cell_type": "markdown",
      "metadata": {
        "id": "h2l7yi87q2xZ"
      },
      "source": [
        "###**Conclusión A9: Variable Categórica**"
      ]
    },
    {
      "cell_type": "code",
      "metadata": {
        "id": "TBYE0oslxQWW"
      },
      "source": [
        "print(X['A10'].value_counts())\n",
        "\n",
        "print(X['A10'].value_counts() / X.shape[0])"
      ],
      "execution_count": null,
      "outputs": []
    },
    {
      "cell_type": "code",
      "metadata": {
        "id": "F0peHLJO2SiP"
      },
      "source": [
        "print(X['A10'].value_counts().count())"
      ],
      "execution_count": null,
      "outputs": []
    },
    {
      "cell_type": "code",
      "metadata": {
        "id": "E-OG7d0zxQS8"
      },
      "source": [
        "plt.hist(data['A10'], bins=20)\n",
        "plt.xlabel(\"A10\")\n",
        "plt.show()"
      ],
      "execution_count": null,
      "outputs": []
    },
    {
      "cell_type": "code",
      "metadata": {
        "id": "F9dmxrBt7XvS"
      },
      "source": [
        "plt.boxplot(data['A10'], vert=False)\n",
        "plt.title(\"A10\")\n",
        "plt.show()"
      ],
      "execution_count": null,
      "outputs": []
    },
    {
      "cell_type": "markdown",
      "metadata": {
        "id": "sdjWrb3xrBTj"
      },
      "source": [
        "###**Conclusión A10: Por la cantidad de valores diferentes esta variable ya podría considerarse numérica, aunque bien podría discretizarse o aplicar alguna trnsformación para minimizar el efecto negativo que pudieran tener los outliers.**\n",
        "\n",
        "**Hay otra regla empírica que nos dice que si una variable tiene arriba de 15 o 20 valores diferentes, debiera considerarse como numérica.**\n",
        "\n",
        "###**También se puede aplicar One-Hot encoder y luego algún criterio de reducción de dimensionalidad si se considera que creció mucho el espacio de los predictores.**"
      ]
    },
    {
      "cell_type": "code",
      "metadata": {
        "id": "75iQhXi_xx2f"
      },
      "source": [
        "print(X['A11'].value_counts())\n",
        "\n",
        "print(X['A11'].value_counts() / X.shape[0])"
      ],
      "execution_count": null,
      "outputs": []
    },
    {
      "cell_type": "markdown",
      "metadata": {
        "id": "7J16q0b3sTa5"
      },
      "source": [
        "###**Conclusión A11: Variable Categórica**"
      ]
    },
    {
      "cell_type": "code",
      "metadata": {
        "id": "qEO8E4XvxxzN"
      },
      "source": [
        "print(X['A12'].value_counts())\n",
        "\n",
        "print(X['A12'].value_counts() / X.shape[0])"
      ],
      "execution_count": null,
      "outputs": []
    },
    {
      "cell_type": "markdown",
      "metadata": {
        "id": "WOsMYYQRsYYR"
      },
      "source": [
        "###**Conclusión A12: Variable Categórica y se recomendaría agrupar los dos niveles con menor información.**"
      ]
    },
    {
      "cell_type": "code",
      "metadata": {
        "id": "dbKvHtSlxxu2"
      },
      "source": [
        "print(X['A13'].value_counts())\n",
        "\n",
        "print(X['A13'].value_counts() / X.shape[0])"
      ],
      "execution_count": null,
      "outputs": []
    },
    {
      "cell_type": "code",
      "metadata": {
        "id": "NiJ2o1wxyCEt"
      },
      "source": [
        "print(X['A13'].value_counts().count())\n"
      ],
      "execution_count": null,
      "outputs": []
    },
    {
      "cell_type": "code",
      "metadata": {
        "id": "IFD14CawyCQH"
      },
      "source": [
        "plt.hist(data['A13'], bins=20)\n",
        "plt.xlabel(\"A13\")\n",
        "plt.show()"
      ],
      "execution_count": null,
      "outputs": []
    },
    {
      "cell_type": "code",
      "metadata": {
        "id": "28zeGIJB8NHe"
      },
      "source": [
        "plt.boxplot(data['A13'], vert=False)\n",
        "plt.title(\"A13\")\n",
        "plt.show()"
      ],
      "execution_count": null,
      "outputs": []
    },
    {
      "cell_type": "markdown",
      "metadata": {
        "id": "75JHkB4esyBi"
      },
      "source": [
        "###**Conclusión A13: Variable Numérica y sería recomendable también tratar de hacer alguna transformación que ayude a minimizar el peso de los outliers y observado en la forma de la distribución del histograma con sesgo positivo.**"
      ]
    },
    {
      "cell_type": "code",
      "metadata": {
        "id": "_c49gw8ZyWxg"
      },
      "source": [
        "print(X['A14'].value_counts())\n",
        "\n",
        "print(X['A14'].value_counts() / X.shape[0])"
      ],
      "execution_count": null,
      "outputs": []
    },
    {
      "cell_type": "code",
      "metadata": {
        "colab": {
          "base_uri": "https://localhost:8080/"
        },
        "id": "BRlih4kyycem",
        "outputId": "1de8f9a5-739d-4521-eed5-6800592d6b3c"
      },
      "source": [
        "print(X['A14'].value_counts().count())"
      ],
      "execution_count": null,
      "outputs": [
        {
          "output_type": "stream",
          "name": "stdout",
          "text": [
            "240\n"
          ]
        }
      ]
    },
    {
      "cell_type": "code",
      "metadata": {
        "id": "Oob9UQ3Kyha5"
      },
      "source": [
        "plt.hist(data['A14'], bins=20)\n",
        "plt.xlabel(\"A14\")\n",
        "plt.show()"
      ],
      "execution_count": null,
      "outputs": []
    },
    {
      "cell_type": "code",
      "metadata": {
        "id": "SLBzGOpc8SRT"
      },
      "source": [
        "plt.boxplot(data['A14'], vert=False)\n",
        "plt.title(\"A14\")\n",
        "plt.show()"
      ],
      "execution_count": null,
      "outputs": []
    },
    {
      "cell_type": "markdown",
      "metadata": {
        "id": "ZP5bUCr2tYwI"
      },
      "source": [
        "###**Conclusión A14: Variable Numérica y definitivamente hay que hacer algo con respecto a los outliers.**"
      ]
    },
    {
      "cell_type": "markdown",
      "metadata": {
        "id": "nScL5jB-IjtG"
      },
      "source": [
        "#**Variable Numéricas**\n",
        "\n",
        "###**Analicemos ahora las variables numéricas tipo flotante o de números reales.**"
      ]
    },
    {
      "cell_type": "code",
      "metadata": {
        "id": "4pSNtDr8xQO-"
      },
      "source": [
        "Xreal = ['A2','A3','A7']"
      ],
      "execution_count": null,
      "outputs": []
    },
    {
      "cell_type": "markdown",
      "metadata": {
        "id": "-3F-WnaxNpB8"
      },
      "source": [
        "#**¿Qué puedes decir a partir de estos histogramas?**"
      ]
    },
    {
      "cell_type": "code",
      "metadata": {
        "id": "iuIpGG2gKGo7"
      },
      "source": [
        "sns.set(rc={'figure.figsize':(16,4)})   # (width, height)\n",
        "fig, axes = plt.subplots(4, 3)\n",
        "\n",
        "for k in range(0,3):\n",
        "  plt.subplot(1,3,k+1)\n",
        "  plt.hist(data[Xreal[k]], bins=30)\n",
        "  plt.xlabel(Xreal[k])\n",
        "\n",
        "plt.show()"
      ],
      "execution_count": null,
      "outputs": []
    },
    {
      "cell_type": "markdown",
      "metadata": {
        "id": "EySktlP0N99U"
      },
      "source": [
        "#**Variable de Salida/Objetivo/Dependiente**"
      ]
    },
    {
      "cell_type": "code",
      "metadata": {
        "id": "Ll45ViNCJMj8"
      },
      "source": [
        "print(Y.value_counts())\n",
        "\n",
        "print(Y.value_counts() / Y.shape[0])"
      ],
      "execution_count": null,
      "outputs": []
    },
    {
      "cell_type": "markdown",
      "metadata": {
        "id": "hkNnu8dqOskN"
      },
      "source": [
        "#**Realicemos el prerpocesamiento de algunas de estas variables a manera de ejemplo.**\n",
        "\n",
        "Iniciemos con la variable de objetivo Y:"
      ]
    },
    {
      "cell_type": "code",
      "metadata": {
        "id": "NU9xaizKJMge"
      },
      "source": [
        "print(Y['class'])"
      ],
      "execution_count": null,
      "outputs": []
    },
    {
      "cell_type": "markdown",
      "metadata": {
        "id": "JeTPtAeRP-Sv"
      },
      "source": [
        "Observamos que es una variable binaria con valores enteros 0 y 1. \n",
        "\n",
        "Con esto es suficiente para empezar a utilizarla, aunque algunos autores recomenda hacerla flotante para su uso dentro de los algoritmos numéricos de aprendizaje automático, aunque esto Python lo maneja de manera atuomática.\n",
        "\n",
        "En dado caso se podría reasignar como sigue:"
      ]
    },
    {
      "cell_type": "code",
      "metadata": {
        "id": "RKvN-goqQsbB"
      },
      "source": [
        "Y.astype(float)[0:5]"
      ],
      "execution_count": null,
      "outputs": []
    },
    {
      "cell_type": "code",
      "metadata": {
        "id": "Z44Jl0Ewxyu2"
      },
      "source": [
        "Y.astype('category')[0:5]   # vemos que como \"category\" binario los maneja como enteros.... ¿total?"
      ],
      "execution_count": null,
      "outputs": []
    },
    {
      "cell_type": "code",
      "metadata": {
        "id": "RlHPueE9x8Zg"
      },
      "source": [
        "Y[0:5]    "
      ],
      "execution_count": null,
      "outputs": []
    },
    {
      "cell_type": "code",
      "metadata": {
        "id": "u5PYk8iLyCI_"
      },
      "source": [
        "Y.info()"
      ],
      "execution_count": null,
      "outputs": []
    },
    {
      "cell_type": "markdown",
      "metadata": {
        "id": "1LUSdmrgUZFN"
      },
      "source": [
        "De manera análoga las variables predictoras que son binarias, las podemos dejar como tales. \n",
        "\n",
        "**Estas variables binarias son: A1, A8, A9, A11.**\n",
        "\n",
        "Están por otro lado las variables **A4** y **A12** que son categóricas con 3 niveles, pero que uno de los niveles tiene una cantidad mínima de datos. Veamos nuevamente su información:"
      ]
    },
    {
      "cell_type": "code",
      "metadata": {
        "id": "cHKh1F0HJMaC"
      },
      "source": [
        "print(X['A4'].value_counts())\n",
        "\n",
        "print(X['A4'].value_counts() / X.shape[0])"
      ],
      "execution_count": null,
      "outputs": []
    },
    {
      "cell_type": "code",
      "metadata": {
        "id": "C-3HY49eVRC-"
      },
      "source": [
        "print(X['A12'].value_counts())\n",
        "\n",
        "print(X['A12'].value_counts() / X.shape[0])"
      ],
      "execution_count": null,
      "outputs": []
    },
    {
      "cell_type": "markdown",
      "metadata": {
        "id": "IXM_bLetYJvX"
      },
      "source": [
        "Existen varias aproximaciones para el procesamiento en estos casos. Tomaremos una de las más inmediateas y sencillas en este ejemplo, que es la de conjuntar las dos clases con menor información en una sola clase nueva.\n",
        "\n",
        "Si las variables tienen un nombre específico, se le puede asignar un nombre al resultado de conjuntarlas y llamarlas \"otros\". "
      ]
    },
    {
      "cell_type": "code",
      "metadata": {
        "id": "qVTlK1IJJMQ6"
      },
      "source": [
        "X.iloc[497:503]"
      ],
      "execution_count": null,
      "outputs": []
    },
    {
      "cell_type": "code",
      "metadata": {
        "id": "_GlSzLstfssj"
      },
      "source": [
        "X.info()"
      ],
      "execution_count": null,
      "outputs": []
    },
    {
      "cell_type": "code",
      "metadata": {
        "id": "CmOiz6xjjAHF"
      },
      "source": [
        "X['A4'].replace(to_replace=[1,2,3], value=[1, 2, 1], inplace=True)"
      ],
      "execution_count": null,
      "outputs": []
    },
    {
      "cell_type": "code",
      "metadata": {
        "id": "pnmP5p-KjpUb"
      },
      "source": [
        "# veamos que A4 ya solo tiene ahora 2 niveles:\n",
        "\n",
        "X.iloc[497:503]"
      ],
      "execution_count": null,
      "outputs": []
    },
    {
      "cell_type": "code",
      "metadata": {
        "id": "FshElg3OqRQd"
      },
      "source": [
        "print(X['A4'].value_counts())\n",
        "\n",
        "print(X['A4'].value_counts() / X.shape[0])"
      ],
      "execution_count": null,
      "outputs": []
    },
    {
      "cell_type": "markdown",
      "metadata": {
        "id": "vQef5k9QnHlf"
      },
      "source": [
        "**Procedemos de manera análoga con A12:**"
      ]
    },
    {
      "cell_type": "code",
      "metadata": {
        "id": "PwFfsqswjpLi"
      },
      "source": [
        "X['A12'].replace(to_replace=[1,2,3], value=[1, 2, 1], inplace=True)"
      ],
      "execution_count": null,
      "outputs": []
    },
    {
      "cell_type": "code",
      "metadata": {
        "id": "AK7SHMXWuFGJ"
      },
      "source": [
        "X['A12'] = X['A12'].astype('category', copy=False)  # se puede cambiar a categórico"
      ],
      "execution_count": null,
      "outputs": []
    },
    {
      "cell_type": "code",
      "metadata": {
        "id": "A50zcO_7nYew"
      },
      "source": [
        "print(X['A12'].value_counts())\n",
        "\n",
        "print(X['A12'].value_counts() / X.shape[0])"
      ],
      "execution_count": null,
      "outputs": []
    },
    {
      "cell_type": "code",
      "metadata": {
        "id": "QANy6f2ynYY4"
      },
      "source": [
        "X.info()   # ve la reducción de la memoria, de 71 KB a 66.3 KB con solo una variable.."
      ],
      "execution_count": null,
      "outputs": []
    },
    {
      "cell_type": "markdown",
      "metadata": {
        "id": "cPNToM1jA4-x"
      },
      "source": [
        "##**Veamos la variable A5**\n",
        "\n",
        "Esta variable podría procesarse de varias formas. Una como la que hicimos con A4 y A12, donde en este caso se pueden reagrupar de a 2 niveles, para formar uno nuevo. Y observando el diagrama de barras, podrían reetiquetarse como sigue:\n"
      ]
    },
    {
      "cell_type": "code",
      "metadata": {
        "id": "YwajC1UMnYWV"
      },
      "source": [
        "print(X['A5'].value_counts())\n",
        "\n",
        "print(X['A5'].value_counts() / X.shape[0])"
      ],
      "execution_count": null,
      "outputs": []
    },
    {
      "cell_type": "code",
      "metadata": {
        "colab": {
          "base_uri": "https://localhost:8080/"
        },
        "id": "vz6QmyoqG_Ua",
        "outputId": "9db927fb-c4b6-4120-9829-2f02416616ee"
      },
      "source": [
        "print(X['A5'].value_counts().count())"
      ],
      "execution_count": null,
      "outputs": [
        {
          "output_type": "stream",
          "name": "stdout",
          "text": [
            "14\n"
          ]
        }
      ]
    },
    {
      "cell_type": "code",
      "metadata": {
        "id": "RqgMCG0d3G_U"
      },
      "source": [
        "sns.set(rc={'figure.figsize':(8,4)})   # (width, height)\n",
        "\n",
        "plt.hist(data['A5'], bins=20)\n",
        "plt.xlabel(\"A5\")\n",
        "plt.show()"
      ],
      "execution_count": null,
      "outputs": []
    },
    {
      "cell_type": "code",
      "metadata": {
        "id": "KJkf9TdFGn5x"
      },
      "source": [
        "X['A5'].replace(to_replace=[1,2,3,4,5,6,7,8,9,10,11,12,13,14], value=[1,1, 2,2, 3,3, 4,4, 5,5, 6,6, 7,7], inplace=True)"
      ],
      "execution_count": null,
      "outputs": []
    },
    {
      "cell_type": "code",
      "metadata": {
        "id": "8ipamUPs3G8v"
      },
      "source": [
        "print(X['A5'].value_counts())\n",
        "\n",
        "print(X['A5'].value_counts() / X.shape[0])"
      ],
      "execution_count": null,
      "outputs": []
    },
    {
      "cell_type": "markdown",
      "metadata": {
        "id": "JqpPUzOxHzIO"
      },
      "source": [
        "**Puedes poceder de manera análoga con A6.**"
      ]
    },
    {
      "cell_type": "markdown",
      "metadata": {
        "id": "GCMUgcarIgdS"
      },
      "source": [
        "#**Variable Numérica A13**\n",
        "\n",
        "Como se comentó previamente, esta variable debe considerarse numérica, pero conviene aplicar alguna transformación que ayude en el ajuste del marcado sesgo positivo que tiene la distribución."
      ]
    },
    {
      "cell_type": "code",
      "metadata": {
        "id": "D7yWWCCC3EcY"
      },
      "source": [
        "plt.hist(data['A13'], bins=40)\n",
        "plt.xlabel(\"A13\")\n",
        "plt.show()"
      ],
      "execution_count": null,
      "outputs": []
    }
  ]
}