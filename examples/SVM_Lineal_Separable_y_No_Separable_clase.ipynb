{
  "nbformat": 4,
  "nbformat_minor": 0,
  "metadata": {
    "colab": {
      "name": "SVM_Lineal_Separable_y_No_Separable_clase.ipynb",
      "provenance": [],
      "collapsed_sections": []
    },
    "kernelspec": {
      "name": "python3",
      "display_name": "Python 3"
    }
  },
  "cells": [
    {
      "cell_type": "markdown",
      "metadata": {
        "id": "bCuE4-EKn9gX"
      },
      "source": [
        "# SVM Ejercicio - Hiperplano de Margen Máximo - Caso Lineal\n"
      ]
    },
    {
      "cell_type": "code",
      "metadata": {
        "id": "cAi3rDATn8iJ"
      },
      "source": [
        "import sklearn\n",
        "from sklearn import datasets\n",
        "from sklearn import svm\n",
        "#from sklearn import metrics\n",
        "\n",
        "import numpy as np\n",
        "import matplotlib.pyplot as plt\n",
        "import seaborn as sns "
      ],
      "execution_count": 2,
      "outputs": []
    },
    {
      "cell_type": "markdown",
      "metadata": {
        "id": "jC6oYGRNuhFN"
      },
      "source": [
        "# Conjuntos Linealmente Separables:\n",
        "\n",
        "https://scikit-learn.org/stable/modules/generated/sklearn.datasets.make_blobs.html "
      ]
    },
    {
      "cell_type": "code",
      "metadata": {
        "id": "emUATMZo5Jgf"
      },
      "source": [
        "N=1000  # total de datos a generar.\n",
        "noisy_data = sklearn.datasets.make_blobs(n_samples=N, n_features=2, centers=[(-4,-4),(4,4)], cluster_std=1.0, random_state=10)  # centers=2"
      ],
      "execution_count": 3,
      "outputs": []
    },
    {
      "cell_type": "code",
      "metadata": {
        "id": "n4Biwjjk5YQy"
      },
      "source": [
        "X, Y = noisy_data\n",
        "Y = Y.reshape(Y.shape[0],1)\n",
        "print(X.shape)\n",
        "print(Y.shape)"
      ],
      "execution_count": null,
      "outputs": []
    },
    {
      "cell_type": "code",
      "metadata": {
        "id": "stXDH22t5kAN"
      },
      "source": [
        "print(X[0:6,:])"
      ],
      "execution_count": null,
      "outputs": []
    },
    {
      "cell_type": "code",
      "metadata": {
        "id": "-VbVH6PI5mfU"
      },
      "source": [
        "print(Y[0:6,0])"
      ],
      "execution_count": null,
      "outputs": []
    },
    {
      "cell_type": "markdown",
      "metadata": {
        "id": "1Yem7Lho7qjw"
      },
      "source": [
        "### Dibujemos algunas rectas que separen ambas clases:"
      ]
    },
    {
      "cell_type": "code",
      "metadata": {
        "id": "VqLytIXRC9ED"
      },
      "source": [
        "sns.set(rc={'figure.figsize':(9,7)})   # (width, height) - definiendo el tamaño de las gráficas."
      ],
      "execution_count": null,
      "outputs": []
    },
    {
      "cell_type": "code",
      "metadata": {
        "id": "NcYHakOe5r3j"
      },
      "source": [
        "plt.scatter(X[:,0], X[:,1], c=Y, s=20, cmap=plt.cm.Spectral);  # Puntos de ambas clases\n",
        "\n",
        "xhs = np.linspace(-8, 8)   # Algunas rectas-clasificadores lineales: Hiperplano/margen Separador\n",
        "for m, b, d in [(-1, 0.7, 2.4),  (-0.2, -1, 0.8)]:      # (m,b,d) --> m: pendientes  /  b: ordenadas en el origen   /  d: margen máximo\n",
        "    yhs = m * xhs + b\n",
        "    plt.plot(xhs, yhs, '-k');\n",
        "    #plt.fill_between(xhs, yhs - d, yhs + d, edgecolor='none',color='#AAAAAA', alpha=0.3);  # márgenes máximos de cada HiperplanoSeparador\n",
        "\n",
        "#plt.plot([-2], [1], 'x', color='green',  markersize=10);  # Un nuevo punto que deseamos clasificar... ¿a qué clase la asignarías?"
      ],
      "execution_count": null,
      "outputs": []
    },
    {
      "cell_type": "markdown",
      "metadata": {
        "id": "GY2uz6dRvMDZ"
      },
      "source": [
        "##**Modelo SVM:**\n",
        "\n",
        "https://scikit-learn.org/stable/modules/generated/sklearn.svm.SVC.html "
      ]
    },
    {
      "cell_type": "code",
      "metadata": {
        "id": "JgKGhwXjx8_L"
      },
      "source": [
        "model = svm.SVC(kernel='linear', C=1E10)\n",
        "model.fit(X, Y)\n"
      ],
      "execution_count": null,
      "outputs": []
    },
    {
      "cell_type": "markdown",
      "metadata": {
        "id": "_UcXXB19KqTf"
      },
      "source": [
        "### Una función para visualizar los hiperplanos separadores e identicar los vectores de soporte:"
      ]
    },
    {
      "cell_type": "code",
      "metadata": {
        "id": "KJFmRr-aK8p8"
      },
      "source": [
        "def plot_svc_decision_function(model, ax=None, plot_support=True):    \n",
        "\n",
        "    if ax is None:\n",
        "        ax = plt.gca()\n",
        "    xlim = ax.get_xlim()\n",
        "    ylim = ax.get_ylim()\n",
        "    \n",
        "    # create grid to evaluate model\n",
        "    x = np.linspace(xlim[0], xlim[1], 30)\n",
        "    y = np.linspace(ylim[0], ylim[1], 30)\n",
        "    Y, X = np.meshgrid(y, x)\n",
        "\n",
        "    xy = np.vstack([X.ravel(), Y.ravel()]).T    # ravel convierte cada uno a 1-D.\n",
        "    P = model.decision_function(xy).reshape(X.shape)    # generamos las predicciones para cada punto del grid.\n",
        "    \n",
        "    # plot decision boundary and margins\n",
        "    ax.contour(X, Y, P, colors='k',\n",
        "               levels=[-1, 0, 1], alpha=0.5,\n",
        "               linestyles=['--', '-', '-.'])    # para distinguir cada hiperplano\n",
        "    \n",
        "    # plot support vectors\n",
        "    if plot_support:\n",
        "        ax.scatter(model.support_vectors_[:, 0],\n",
        "                   model.support_vectors_[:, 1],\n",
        "                   s=400, facecolors='yellow', alpha=0.3);\n",
        "    ax.set_xlim(xlim)\n",
        "    ax.set_ylim(ylim)"
      ],
      "execution_count": null,
      "outputs": []
    },
    {
      "cell_type": "markdown",
      "metadata": {
        "id": "O5MW0fogLi87"
      },
      "source": [
        "### Grafiquemos ahora los límites del Hiperplano Separador/Margen Máximo:"
      ]
    },
    {
      "cell_type": "code",
      "metadata": {
        "id": "9nJ4kxe4LJGT"
      },
      "source": [
        "plt.scatter(X[:, 0], X[:, 1], c=Y, s=20, cmap=plt.cm.Spectral)\n",
        "plot_svc_decision_function(model);"
      ],
      "execution_count": null,
      "outputs": []
    },
    {
      "cell_type": "markdown",
      "metadata": {
        "id": "zDzeysQvQOvP"
      },
      "source": [
        "Los vectores de soporte indicados en la imagen son los siguientes:"
      ]
    },
    {
      "cell_type": "code",
      "metadata": {
        "id": "lKyqFfJANmSm"
      },
      "source": [
        "model.support_vectors_"
      ],
      "execution_count": null,
      "outputs": []
    },
    {
      "cell_type": "markdown",
      "metadata": {
        "id": "ZVoJ0X41uqUD"
      },
      "source": [
        "# Caso: conjuntos Linealmente No-Seprables:"
      ]
    },
    {
      "cell_type": "code",
      "metadata": {
        "id": "zBluiwg2vCjH"
      },
      "source": [
        "N=1000\n",
        "noisy_data2 = sklearn.datasets.make_blobs(n_samples=N, n_features=2, centers=[(-4,-4),(4,4)], cluster_std=2.0, random_state=10)  "
      ],
      "execution_count": null,
      "outputs": []
    },
    {
      "cell_type": "code",
      "metadata": {
        "id": "5pBnd-f9uy4S"
      },
      "source": [
        "X2, Y2 = noisy_data2\n",
        "Y2 = Y2.reshape(Y2.shape[0],1)"
      ],
      "execution_count": null,
      "outputs": []
    },
    {
      "cell_type": "code",
      "metadata": {
        "id": "g98brtUXvh4E"
      },
      "source": [
        "plt.scatter(X2[:,0], X2[:,1], c=Y2, s=40, cmap=plt.cm.Spectral); "
      ],
      "execution_count": null,
      "outputs": []
    },
    {
      "cell_type": "code",
      "metadata": {
        "id": "S8gmpKSwyZXh"
      },
      "source": [
        "C =  .1000"
      ],
      "execution_count": null,
      "outputs": []
    },
    {
      "cell_type": "code",
      "metadata": {
        "id": "VzarAdl6xbVO"
      },
      "source": [
        "modelnol = svm.SVC(kernel='linear', C=C)\n",
        "modelnol.fit(X2, Y2)"
      ],
      "execution_count": null,
      "outputs": []
    },
    {
      "cell_type": "code",
      "metadata": {
        "id": "Usng_2rW1JZD"
      },
      "source": [
        "plt.scatter(X2[:, 0], X2[:, 1], c=Y2, s=50, cmap=plt.cm.Spectral)\n",
        "plot_svc_decision_function(modelnol)"
      ],
      "execution_count": null,
      "outputs": []
    },
    {
      "cell_type": "code",
      "metadata": {
        "id": "8bNPP01_3Shk"
      },
      "source": [
        "modelnol.support_vectors_"
      ],
      "execution_count": null,
      "outputs": []
    },
    {
      "cell_type": "markdown",
      "metadata": {
        "id": "VyYpvFT0BZP4"
      },
      "source": [
        "### Seleccionado los mejores parámetros - C y Gamma:"
      ]
    },
    {
      "cell_type": "code",
      "metadata": {
        "id": "z6Ty4DI-Bf-E"
      },
      "source": [
        "from sklearn.model_selection import StratifiedShuffleSplit\n",
        "from sklearn.model_selection import GridSearchCV"
      ],
      "execution_count": null,
      "outputs": []
    },
    {
      "cell_type": "code",
      "metadata": {
        "id": "H2Y2rHYGBriM"
      },
      "source": [
        "C_range = np.logspace(-2, 10, 13)\n",
        "gamma_range = np.logspace(-9, 3, 13)"
      ],
      "execution_count": null,
      "outputs": []
    },
    {
      "cell_type": "code",
      "metadata": {
        "id": "FAfYdt9bcLS0"
      },
      "source": [
        "C_range"
      ],
      "execution_count": null,
      "outputs": []
    },
    {
      "cell_type": "code",
      "metadata": {
        "id": "4sJjLWxRDy1a"
      },
      "source": [
        "gamma_range"
      ],
      "execution_count": null,
      "outputs": []
    },
    {
      "cell_type": "code",
      "metadata": {
        "id": "V9SBFjMHBvKz"
      },
      "source": [
        "param_grid = dict(gamma=gamma_range, C=C_range)"
      ],
      "execution_count": null,
      "outputs": []
    },
    {
      "cell_type": "code",
      "metadata": {
        "id": "pbIITat8B455"
      },
      "source": [
        "cv = StratifiedShuffleSplit(n_splits=5, test_size=0.2, random_state=42)"
      ],
      "execution_count": null,
      "outputs": []
    },
    {
      "cell_type": "code",
      "metadata": {
        "id": "zV14_SggB-ZD"
      },
      "source": [
        "grid = GridSearchCV(svm.SVC(), param_grid=param_grid, cv=cv)"
      ],
      "execution_count": null,
      "outputs": []
    },
    {
      "cell_type": "code",
      "metadata": {
        "id": "zuPpQgSxCGcb"
      },
      "source": [
        "grid.fit(X2, Y2)"
      ],
      "execution_count": null,
      "outputs": []
    },
    {
      "cell_type": "code",
      "metadata": {
        "id": "DlPHXLcdC1FA"
      },
      "source": [
        "print(\"Los mejores parametros son %s con un score de %0.2f\"\n",
        "      % (grid.best_params_, grid.best_score_))"
      ],
      "execution_count": null,
      "outputs": []
    }
  ]
}