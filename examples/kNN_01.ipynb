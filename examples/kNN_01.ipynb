{
  "nbformat": 4,
  "nbformat_minor": 0,
  "metadata": {
    "colab": {
      "name": "kNN_01.ipynb",
      "provenance": [],
      "collapsed_sections": []
    },
    "kernelspec": {
      "name": "python3",
      "display_name": "Python 3"
    },
    "language_info": {
      "name": "python"
    }
  },
  "cells": [
    {
      "cell_type": "markdown",
      "metadata": {
        "id": "_ac9UJRs9kxk"
      },
      "source": [
        "#**Vecino más cercano - kNN**\n",
        "\n",
        "https://scikit-learn.org/stable/modules/generated/sklearn.neighbors.KNeighborsClassifier.html"
      ]
    },
    {
      "cell_type": "code",
      "metadata": {
        "id": "M7JuVnpezvkf"
      },
      "source": [
        "import numpy as np\n",
        "\n",
        "#import matplotlib\n",
        "import matplotlib.pyplot as plt\n",
        "\n",
        "#import sklearn\n",
        "import sklearn.datasets\n",
        "from sklearn.model_selection import train_test_split  \n",
        "from sklearn.neighbors import KNeighborsClassifier\n",
        "from sklearn.metrics import confusion_matrix"
      ],
      "execution_count": 15,
      "outputs": []
    },
    {
      "cell_type": "code",
      "metadata": {
        "id": "8TUs3K7V1fOi"
      },
      "source": [
        "N=1000\n",
        "\n",
        "#noisy_data = sklearn.datasets.make_blobs(n_samples=N, n_features=2, centers=2, cluster_std=.2, random_state=23)\n",
        "noisy_data = sklearn.datasets.make_moons(n_samples=N, noise=.23, random_state=23) \n",
        "#noisy_data = sklearn.datasets.make_gaussian_quantiles(n_samples=N, n_features=2, n_classes=2 random_state=23)  \n",
        "#noisy_data = sklearn.datasets.make_circles(n_samples=N, noise=.1, random_state=23, factor=0.7)  "
      ],
      "execution_count": 49,
      "outputs": []
    },
    {
      "cell_type": "code",
      "metadata": {
        "id": "hCrXXQUV1iAI"
      },
      "source": [
        "X, Y = noisy_data\n",
        "\n",
        "print(X.shape)\n",
        "print(Y.shape)"
      ],
      "execution_count": null,
      "outputs": []
    },
    {
      "cell_type": "code",
      "metadata": {
        "id": "ZLGCjYdZ1ltc"
      },
      "source": [
        "plt.scatter(X[:,0], X[:,1], c=Y, s=20, cmap=plt.cm.Spectral);"
      ],
      "execution_count": null,
      "outputs": []
    },
    {
      "cell_type": "code",
      "metadata": {
        "id": "5cmZ3QLy11qp"
      },
      "source": [
        "X_train, X_test, Y_train, Y_test = train_test_split(X, Y, train_size=.60)\n",
        "\n",
        "print(X_train.shape)\n",
        "print(Y_train.shape)\n",
        "print(X_test.shape)\n",
        "print(Y_test.shape)"
      ],
      "execution_count": null,
      "outputs": []
    },
    {
      "cell_type": "code",
      "metadata": {
        "id": "V3d7F9AK2GWA"
      },
      "source": [
        "modelo_kNN = KNeighborsClassifier(n_neighbors=3)\n",
        "\n",
        "modelo_kNN.fit(X_train, Y_train)\n",
        "\n",
        "modelo_kNN.score(X_test, Y_test)"
      ],
      "execution_count": null,
      "outputs": []
    },
    {
      "cell_type": "code",
      "metadata": {
        "id": "0Haa_Yju2yrB"
      },
      "source": [
        "modelo_MLP = MLPClassifier(max_iter=1000)\n",
        "\n",
        "modelo_MLP.fit(X_train, Y_train)\n",
        "\n",
        "modelo_MLP.score(X_test,Y_test)"
      ],
      "execution_count": null,
      "outputs": []
    },
    {
      "cell_type": "markdown",
      "metadata": {
        "id": "RBnTiZbk7Rli"
      },
      "source": [
        "###**Grid Search**\n",
        "\n",
        "https://scikit-learn.org/stable/modules/generated/sklearn.model_selection.GridSearchCV.html\n",
        "\n",
        "https://scikit-learn.org/stable/modules/generated/sklearn.model_selection.RandomizedSearchCV.html\n",
        "\n",
        "Usando GridSearchCV:\n"
      ]
    },
    {
      "cell_type": "code",
      "metadata": {
        "id": "pdiXdJ1w7Q_B"
      },
      "source": [
        "from sklearn.model_selection import GridSearchCV\n",
        "\n",
        "param_grid = {'n_neighbors':[1,3,4,11,15], \n",
        "              'weights':['uniform', 'distance'],  \n",
        "              'metric':['euclidean', 'manhattan']}\n",
        "\n",
        "kNN = KNeighborsClassifier()\n",
        "\n",
        "modelo_kNN = GridSearchCV(kNN, param_grid=param_grid, cv=3)\n",
        "\n",
        "modelo_kNN.fit(X_train,Y_train)\n",
        "\n",
        "print(\"Los mejores parametros son %s con un score de %0.2f\"\n",
        "      % (modelo_kNN.best_params_, modelo_kNN.best_score_))"
      ],
      "execution_count": null,
      "outputs": []
    },
    {
      "cell_type": "code",
      "metadata": {
        "id": "eVGTJA7G7oXx"
      },
      "source": [
        "kNN2 = KNeighborsClassifier(n_neighbors=11, metric='manhattan', weights='uniform')\n",
        "\n",
        "kNN2.fit(X_train, Y_train)\n",
        "\n",
        "kNN2.score(X_test, Y_test)"
      ],
      "execution_count": null,
      "outputs": []
    },
    {
      "cell_type": "markdown",
      "metadata": {
        "id": "k91EtbbdE5eT"
      },
      "source": [
        "Usando RandomizedSearchCV:"
      ]
    },
    {
      "cell_type": "code",
      "metadata": {
        "id": "wmaBtj8RD1qS"
      },
      "source": [
        "from sklearn.model_selection import RandomizedSearchCV\n",
        "\n",
        "param_grid = {'n_neighbors':[1,3,4,11,15], \n",
        "              'weights':['uniform', 'distance'],  \n",
        "              'metric':['euclidean', 'manhattan']}\n",
        "\n",
        "kNN = KNeighborsClassifier()\n",
        "\n",
        "modelo_kNN = RandomizedSearchCV(kNN, param_distributions=param_grid, \n",
        "                                cv=3,  # Cross-Validation \n",
        "                                n_iter=10) # n_iter=total de valores seleccionados del grid\n",
        "\n",
        "modelo_kNN.fit(X_train,Y_train)\n",
        "\n",
        "print(\"Los mejores parametros son %s con un score de %0.2f\"\n",
        "      % (modelo_kNN.best_params_, modelo_kNN.best_score_))"
      ],
      "execution_count": null,
      "outputs": []
    },
    {
      "cell_type": "markdown",
      "metadata": {
        "id": "72fvQg2zBsb5"
      },
      "source": [
        "###Modelo GridSearch - SVM\n",
        "\n",
        "Usando GridSearchCV:"
      ]
    },
    {
      "cell_type": "code",
      "metadata": {
        "id": "6XaG7gkqCYEr"
      },
      "source": [
        "from sklearn import svm"
      ],
      "execution_count": 97,
      "outputs": []
    },
    {
      "cell_type": "code",
      "metadata": {
        "id": "llG6Gqvb7oUT"
      },
      "source": [
        "C_range = np.logspace(start=-3, stop=2, num=4, base=10.0)\n",
        "n_degree = [n for n in range(2, 8)]\n",
        "\n",
        "param_grid = {'C':C_range, \n",
        "              'kernel':('poly','rbf','sigmoid'),  \n",
        "              'degree':n_degree,\n",
        "              'gamma':('scale','auto')}\n",
        "\n",
        "svc = svm.SVC()   # inicializando el modelo\n",
        "\n",
        "modelo_SVM = GridSearchCV(svc, param_grid)  # definiendo el grid de búsqueda sobre el modelo SVM\n",
        "\n",
        "modelo_SVM.fit(X_train, Y_train)   # entrenamiento sobre el grid\n",
        "\n",
        "print(\"Los mejores parametros son %s con un score de %0.2f\"\n",
        "      % (modelo_SVM.best_params_, modelo_SVM.best_score_))"
      ],
      "execution_count": null,
      "outputs": []
    },
    {
      "cell_type": "code",
      "metadata": {
        "id": "8nt7VwThBsHC"
      },
      "source": [
        "svc = svm.SVC()   \n",
        "\n",
        "modelo_SVM = GridSearchCV(svc, param_grid)  \n",
        "\n",
        "modelo_SVM.fit(X_train, Y_train)   \n",
        "\n",
        "print(\"Los mejores parametros son %s con un score de %0.2f\"\n",
        "      % (modelo_SVM.best_params_, modelo_SVM.best_score_))"
      ],
      "execution_count": null,
      "outputs": []
    },
    {
      "cell_type": "code",
      "metadata": {
        "id": "lNutypgvBsDt"
      },
      "source": [
        "SVM2 = svm.SVC(C=100, gamma='scale', kernel='rbf')\n",
        "\n",
        "SVM2.fit(X_train, Y_train)\n",
        "\n",
        "SVM2.score(X_test,Y_test)"
      ],
      "execution_count": null,
      "outputs": []
    },
    {
      "cell_type": "markdown",
      "metadata": {
        "id": "GHJlQWd9FMn7"
      },
      "source": [
        "Usando RandomizedSearchCV:"
      ]
    },
    {
      "cell_type": "code",
      "metadata": {
        "id": "kOXB89lIBsA9"
      },
      "source": [
        "C_range = np.logspace(start=-3, stop=2, num=10, base=10.0)\n",
        "n_degree = [n for n in range(2, 8)]\n",
        "\n",
        "param_grid = {'C':C_range, \n",
        "              'kernel':('poly','rbf','sigmoid'),  \n",
        "              'degree':n_degree,\n",
        "              'gamma':('scale','auto')}\n",
        "\n",
        "svc = svm.SVC()   \n",
        "\n",
        "modelo_SVM =  RandomizedSearchCV(svc, param_distributions=param_grid, cv=3, n_iter=10) \n",
        "\n",
        "modelo_SVM.fit(X_train, Y_train)   \n",
        "\n",
        "print(\"Los mejores parametros son %s con un score de %0.2f\"\n",
        "      % (modelo_SVM.best_params_, modelo_SVM.best_score_))"
      ],
      "execution_count": null,
      "outputs": []
    },
    {
      "cell_type": "code",
      "metadata": {
        "id": "wwd9-8uFBr5T"
      },
      "source": [
        ""
      ],
      "execution_count": null,
      "outputs": []
    },
    {
      "cell_type": "markdown",
      "metadata": {
        "id": "Kn7QBbm3F6J6"
      },
      "source": [
        "**NOTA:** Si tienes mayor capacidad de cómputo lo puedes aprovechar con n_jobs=-1, o el número de cpus que indiques:"
      ]
    },
    {
      "cell_type": "code",
      "metadata": {
        "id": "WJmPptnJ7oQo"
      },
      "source": [
        "import os\n",
        "  \n",
        "n_cpu = os.cpu_count()\n",
        "print(\"Number of CPUs in the system:\", n_cpu)"
      ],
      "execution_count": null,
      "outputs": []
    }
  ]
}