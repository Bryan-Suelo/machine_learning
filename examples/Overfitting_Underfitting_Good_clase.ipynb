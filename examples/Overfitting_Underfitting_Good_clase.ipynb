{
  "nbformat": 4,
  "nbformat_minor": 0,
  "metadata": {
    "colab": {
      "name": "Overfitting_Underfitting_Good_clase.ipynb",
      "provenance": [],
      "collapsed_sections": []
    },
    "kernelspec": {
      "name": "python3",
      "display_name": "Python 3"
    }
  },
  "cells": [
    {
      "cell_type": "markdown",
      "metadata": {
        "id": "czhOX3M6mMpt"
      },
      "source": [
        "#**Ejemplos que generan artificialmente los tres casos**\n",
        "\n"
      ]
    },
    {
      "cell_type": "markdown",
      "metadata": {
        "id": "MAQL_cSJ2IlT"
      },
      "source": [
        "#**Subentrenado**"
      ]
    },
    {
      "cell_type": "code",
      "metadata": {
        "colab": {
          "base_uri": "https://localhost:8080/"
        },
        "id": "JEeer2QhUODF",
        "outputId": "40840c12-6688-48db-9041-f0fcdb180f55"
      },
      "source": [
        "from sklearn.datasets import make_classification\n",
        "\n",
        "X, y = make_classification(n_samples=1000, \n",
        "                           n_features=20, \n",
        "                           flip_y=0.2, \n",
        "                           random_state=17) \n",
        "\n",
        "print(X.shape, y.shape)"
      ],
      "execution_count": null,
      "outputs": [
        {
          "output_type": "stream",
          "name": "stdout",
          "text": [
            "(1000, 20) (1000,)\n"
          ]
        }
      ]
    },
    {
      "cell_type": "code",
      "metadata": {
        "colab": {
          "base_uri": "https://localhost:8080/"
        },
        "id": "sWe24SaiCshw",
        "outputId": "92c5a051-62a4-4331-9cdb-c6ebab5d4e27"
      },
      "source": [
        "X[0:2,:]"
      ],
      "execution_count": null,
      "outputs": [
        {
          "output_type": "execute_result",
          "data": {
            "text/plain": [
              "array([[ 0.30720761,  0.78851574,  1.57775826, -0.83782462, -1.9092439 ,\n",
              "        -0.52486904, -0.59594565, -1.35986902,  1.10949158, -1.87040312,\n",
              "         2.0555414 , -0.1644116 ,  0.05467622, -1.00918284, -1.89062424,\n",
              "         0.27800919,  0.30241122, -0.38344902, -0.57919446, -1.37604018],\n",
              "       [-1.53627982,  0.12338025,  0.07355866,  0.09005639, -0.58258365,\n",
              "         0.32100129,  2.6984525 ,  0.31212436,  0.29067048,  1.77439268,\n",
              "        -1.39129642,  0.22318237,  2.34097438, -1.30102918,  1.07591658,\n",
              "         0.38101488,  0.3963937 ,  0.87694313,  0.29912412,  2.42462292]])"
            ]
          },
          "metadata": {},
          "execution_count": 45
        }
      ]
    },
    {
      "cell_type": "code",
      "metadata": {
        "colab": {
          "base_uri": "https://localhost:8080/"
        },
        "id": "zIxBpOhgDk_y",
        "outputId": "02f8ca22-c7b6-4638-9578-7c4a63ff5238"
      },
      "source": [
        "y[0:10]"
      ],
      "execution_count": null,
      "outputs": [
        {
          "output_type": "execute_result",
          "data": {
            "text/plain": [
              "array([0, 1, 0, 0, 0, 0, 0, 1, 0, 0])"
            ]
          },
          "metadata": {},
          "execution_count": 46
        }
      ]
    },
    {
      "cell_type": "code",
      "metadata": {
        "colab": {
          "base_uri": "https://localhost:8080/"
        },
        "id": "GjcIriT0V0nY",
        "outputId": "fba085c3-3951-46bb-a3fa-f7be7f0874a7"
      },
      "source": [
        "from sklearn.model_selection import train_test_split\n",
        "\n",
        "X_train, X_test, y_train, y_test = train_test_split(X, y, \n",
        "                                                    train_size=0.6, \n",
        "                                                    random_state=11) \n",
        "\n",
        "\n",
        "print(X_train.shape, X_test.shape, y_train.shape, y_test.shape)"
      ],
      "execution_count": null,
      "outputs": [
        {
          "output_type": "stream",
          "name": "stdout",
          "text": [
            "(600, 20) (400, 20) (600,) (400,)\n"
          ]
        }
      ]
    },
    {
      "cell_type": "code",
      "metadata": {
        "colab": {
          "base_uri": "https://localhost:8080/"
        },
        "id": "ZB8uey4dWAPY",
        "outputId": "b606dc7a-bd83-44a0-e72d-b3514f348d9e"
      },
      "source": [
        "neuronas = [i for i in range(1, 50, 5)]\n",
        "\n",
        "print(neuronas)"
      ],
      "execution_count": null,
      "outputs": [
        {
          "output_type": "stream",
          "name": "stdout",
          "text": [
            "[1, 6, 11, 16, 21, 26, 31, 36, 41, 46]\n"
          ]
        }
      ]
    },
    {
      "cell_type": "code",
      "metadata": {
        "id": "QK-Vjf0tWS04"
      },
      "source": [
        "from sklearn.neural_network import MLPClassifier\n",
        "import numpy as np"
      ],
      "execution_count": null,
      "outputs": []
    },
    {
      "cell_type": "code",
      "metadata": {
        "colab": {
          "base_uri": "https://localhost:8080/"
        },
        "id": "bt2LQvXrWjyj",
        "outputId": "00c0dbbf-953a-448e-a1bb-c4981f1deafe"
      },
      "source": [
        "train_scores, test_scores = list(), list()\n",
        "\n",
        "train_errors, test_errors = list(), list()\n",
        "\n",
        "\n",
        "for i in neuronas:\n",
        "\n",
        "  model = MLPClassifier(hidden_layer_sizes=(i,i), \n",
        "                        max_iter=3000, \n",
        "                        alpha=50, \n",
        "                        random_state=42)\n",
        "\n",
        "  model.fit(X_train, y_train)\n",
        "\n",
        "\n",
        "  # Predicciones y métricas con el conjunto de entrenamiento:\n",
        "  train_yhat = model.predict(X_train)\n",
        "\n",
        "  train_loss =  np.mean(abs(y_train - train_yhat))   \n",
        "  train_errors.append(train_loss)\n",
        "\n",
        "  train_acc = 1 - train_loss\n",
        "  train_scores.append(train_acc)\n",
        "\n",
        "  \n",
        "\n",
        "  # Predicciones y métricas con el conjunto de prueba:\n",
        "  test_yhat = model.predict(X_test)\n",
        "  \n",
        "  test_loss = np.mean(abs(y_test - test_yhat))\n",
        "  test_errors.append(test_loss)\n",
        "\n",
        "  test_acc = 1 - test_loss\n",
        "  test_scores.append(test_acc)\n",
        "\n",
        "\n",
        "\n",
        "  # evolución de las métricas durante el entrenamiento ...\n",
        "  print('> %d...\\t trainacc: %.3f, testacc: %.3f, trainloss: %.3f, testloss: %.3f' \n",
        "        % (i, train_acc, test_acc, train_loss, test_loss))"
      ],
      "execution_count": null,
      "outputs": [
        {
          "output_type": "stream",
          "name": "stdout",
          "text": [
            "> 1...\t trainacc: 0.518, testacc: 0.500, trainloss: 0.482, testloss: 0.500\n",
            "> 6...\t trainacc: 0.518, testacc: 0.500, trainloss: 0.482, testloss: 0.500\n",
            "> 11...\t trainacc: 0.518, testacc: 0.500, trainloss: 0.482, testloss: 0.500\n",
            "> 16...\t trainacc: 0.518, testacc: 0.500, trainloss: 0.482, testloss: 0.500\n",
            "> 21...\t trainacc: 0.518, testacc: 0.500, trainloss: 0.482, testloss: 0.500\n",
            "> 26...\t trainacc: 0.518, testacc: 0.500, trainloss: 0.482, testloss: 0.500\n",
            "> 31...\t trainacc: 0.518, testacc: 0.500, trainloss: 0.482, testloss: 0.500\n",
            "> 36...\t trainacc: 0.518, testacc: 0.500, trainloss: 0.482, testloss: 0.500\n",
            "> 41...\t trainacc: 0.518, testacc: 0.500, trainloss: 0.482, testloss: 0.500\n",
            "> 46...\t trainacc: 0.518, testacc: 0.500, trainloss: 0.482, testloss: 0.500\n"
          ]
        }
      ]
    },
    {
      "cell_type": "code",
      "metadata": {
        "colab": {
          "base_uri": "https://localhost:8080/",
          "height": 295
        },
        "id": "AItpe-7jXq0N",
        "outputId": "de5ec4a6-69d3-47c3-c27c-67bedc7a4448"
      },
      "source": [
        "import matplotlib.pyplot as plt \n",
        "\n",
        "plt.plot(neuronas, train_scores, '-o', label='Train')\n",
        "plt.plot(neuronas, test_scores, '-o', label='Test')\n",
        "plt.legend()\n",
        "plt.title('Caso Sub-entrenado / Underfitting')\n",
        "plt.xlabel('neuronas en cada capa, de 2 ocultas')\n",
        "plt.ylabel('exactitud / accuracy')\n",
        "plt.show()"
      ],
      "execution_count": null,
      "outputs": [
        {
          "output_type": "display_data",
          "data": {
            "image/png": "[encoded data removed]",
            "text/plain": [
              "<Figure size 432x288 with 1 Axes>"
            ]
          },
          "metadata": {
            "needs_background": "light"
          }
        }
      ]
    },
    {
      "cell_type": "code",
      "metadata": {
        "colab": {
          "base_uri": "https://localhost:8080/",
          "height": 295
        },
        "id": "3104j4gZXsCZ",
        "outputId": "7542d3dc-4c65-4237-b7ee-755c661ff1d0"
      },
      "source": [
        "plt.plot(neuronas, train_errors, '-o', label='Train')\n",
        "plt.plot(neuronas, test_errors, '-o', label='Test')\n",
        "plt.legend()\n",
        "plt.title('Caso Sub-entrenado / Underfitting')\n",
        "plt.xlabel('neuronas en cada capa, de 2 ocultas')\n",
        "plt.ylabel('error / loss')\n",
        "plt.show()"
      ],
      "execution_count": null,
      "outputs": [
        {
          "output_type": "display_data",
          "data": {
            "image/png": "[encoded data removed]",
            "text/plain": [
              "<Figure size 432x288 with 1 Axes>"
            ]
          },
          "metadata": {
            "needs_background": "light"
          }
        }
      ]
    },
    {
      "cell_type": "markdown",
      "metadata": {
        "id": "15JLhhfT2RTu"
      },
      "source": [
        "#**Sobreentrenado**"
      ]
    },
    {
      "cell_type": "code",
      "metadata": {
        "colab": {
          "base_uri": "https://localhost:8080/"
        },
        "id": "dq50poNh2WKR",
        "outputId": "038b0cb1-7752-4dfc-a89a-6cbe8452f857"
      },
      "source": [
        "from sklearn.datasets import make_classification\n",
        "\n",
        "X, y = make_classification(n_samples=1000, n_features=20, flip_y=0.3, random_state=17)\n",
        "\n",
        "print(X.shape, y.shape)"
      ],
      "execution_count": 2,
      "outputs": [
        {
          "output_type": "stream",
          "name": "stdout",
          "text": [
            "(1000, 20) (1000,)\n"
          ]
        }
      ]
    },
    {
      "cell_type": "code",
      "metadata": {
        "colab": {
          "base_uri": "https://localhost:8080/"
        },
        "id": "_rHZUme32mkV",
        "outputId": "3f1f94ae-2b55-4c72-921b-847dceb7bb4e"
      },
      "source": [
        "from sklearn.model_selection import train_test_split\n",
        "\n",
        "X_train, X_test, y_train, y_test = train_test_split(X, y, train_size=0.8, random_state=11)\n",
        "\n",
        "print(X_train.shape, X_test.shape, y_train.shape, y_test.shape)"
      ],
      "execution_count": 4,
      "outputs": [
        {
          "output_type": "stream",
          "name": "stdout",
          "text": [
            "(800, 20) (200, 20) (800,) (200,)\n"
          ]
        }
      ]
    },
    {
      "cell_type": "code",
      "metadata": {
        "colab": {
          "base_uri": "https://localhost:8080/"
        },
        "id": "vyzQwLzh2vox",
        "outputId": "e6781f57-dd25-4d22-bb76-53ce42532f0d"
      },
      "source": [
        "neuronas = [i for i in range(1, 50, 5)]\n",
        "\n",
        "print(neuronas)"
      ],
      "execution_count": 5,
      "outputs": [
        {
          "output_type": "stream",
          "name": "stdout",
          "text": [
            "[1, 6, 11, 16, 21, 26, 31, 36, 41, 46]\n"
          ]
        }
      ]
    },
    {
      "cell_type": "code",
      "metadata": {
        "id": "L_9C7ctr031U"
      },
      "source": [
        "from sklearn.neural_network import MLPClassifier\n",
        "import numpy as np"
      ],
      "execution_count": 7,
      "outputs": []
    },
    {
      "cell_type": "code",
      "metadata": {
        "colab": {
          "base_uri": "https://localhost:8080/"
        },
        "id": "NVJr0ywq3H9g",
        "outputId": "c5d38a48-4b1d-45db-b96c-0afda60d8081"
      },
      "source": [
        "# define lists to collect scores\n",
        "train_scores, test_scores = list(), list()\n",
        "train_errors, test_errors = list(), list()\n",
        "\n",
        "for i in neuronas:\n",
        "\n",
        "  model = MLPClassifier(hidden_layer_sizes=(i,i), max_iter=3000, alpha=0.15, random_state=42) \n",
        "\n",
        "  model.fit(X_train, y_train)\n",
        "\n",
        "  # TRAIN set\n",
        "  train_yhat = model.predict(X_train)\n",
        "\n",
        "  train_loss = np.mean(abs(y_train - train_yhat))\n",
        "  train_errors.append(train_loss)\n",
        "\n",
        "  train_acc = 1 - train_loss\n",
        "  train_scores.append(train_acc)\n",
        "  \n",
        "\n",
        "  # TEST set\n",
        "  test_yhat = model.predict(X_test)\n",
        "\n",
        "  test_loss =  np.mean(abs(y_test - test_yhat)) \n",
        "  test_errors.append(test_loss)\n",
        "\n",
        "  test_acc = 1 - test_loss\n",
        "  test_scores.append(test_acc)\n",
        "\n",
        "\n",
        "\n",
        "  # progreso de las épocas del entrenamiento ...\n",
        "  print('>%d, train: %.3f, test: %.3f, losstrain: %.3f, losstest: %.3f' % (i, train_acc, test_acc, train_loss, test_loss))"
      ],
      "execution_count": 8,
      "outputs": [
        {
          "output_type": "stream",
          "name": "stdout",
          "text": [
            ">1, train: 0.520, test: 0.515, losstrain: 0.480, losstest: 0.485\n",
            ">6, train: 0.833, test: 0.740, losstrain: 0.168, losstest: 0.260\n",
            ">11, train: 0.921, test: 0.675, losstrain: 0.079, losstest: 0.325\n",
            ">16, train: 0.995, test: 0.715, losstrain: 0.005, losstest: 0.285\n",
            ">21, train: 1.000, test: 0.675, losstrain: 0.000, losstest: 0.325\n",
            ">26, train: 1.000, test: 0.690, losstrain: 0.000, losstest: 0.310\n",
            ">31, train: 1.000, test: 0.710, losstrain: 0.000, losstest: 0.290\n",
            ">36, train: 1.000, test: 0.700, losstrain: 0.000, losstest: 0.300\n",
            ">41, train: 1.000, test: 0.690, losstrain: 0.000, losstest: 0.310\n",
            ">46, train: 1.000, test: 0.705, losstrain: 0.000, losstest: 0.295\n"
          ]
        }
      ]
    },
    {
      "cell_type": "code",
      "metadata": {
        "colab": {
          "base_uri": "https://localhost:8080/",
          "height": 573
        },
        "id": "sNLxlcTS3OnG",
        "outputId": "481c8be4-f00f-48fa-ec56-675252e1fd09"
      },
      "source": [
        "import matplotlib.pyplot as plt \n",
        "\n",
        "plt.plot(neuronas, train_scores, '-o', label='Train')\n",
        "plt.plot(neuronas, test_scores, '-o', label='Test')\n",
        "plt.legend()\n",
        "plt.title('Sobre-entrenado / Overfitting - Sub-entrenado / Underfitting')\n",
        "plt.xlabel('neuronas en capa oculta')\n",
        "plt.ylabel('exactitud / accuracy')\n",
        "plt.show()\n",
        "\n",
        "plt.plot(neuronas, train_errors, '-o', label='Train')\n",
        "plt.plot(neuronas, test_errors, '-o', label='Test')\n",
        "plt.legend()\n",
        "plt.title('f model: T=')\n",
        "plt.xlabel('neuronas en capa oculta')\n",
        "plt.ylabel('error / loss')\n",
        "plt.show()"
      ],
      "execution_count": 11,
      "outputs": [
        {
          "output_type": "display_data",
          "data": {
            "image/png": "[encoded data removed]",
            "text/plain": [
              "<Figure size 432x288 with 1 Axes>"
            ]
          },
          "metadata": {
            "needs_background": "light"
          }
        },
        {
          "output_type": "display_data",
          "data": {
            "image/png": "[encoded data removed]",
            "text/plain": [
              "<Figure size 432x288 with 1 Axes>"
            ]
          },
          "metadata": {
            "needs_background": "light"
          }
        }
      ]
    },
    {
      "cell_type": "markdown",
      "metadata": {
        "id": "7JjQX2Zz3bxa"
      },
      "source": [
        "#**Mejor ajuste**"
      ]
    },
    {
      "cell_type": "code",
      "metadata": {
        "colab": {
          "base_uri": "https://localhost:8080/"
        },
        "id": "1sLtYGdR3gZE",
        "outputId": "1343e3a2-98f1-4430-c25b-eafb1837c686"
      },
      "source": [
        "from sklearn.datasets import make_classification\n",
        "\n",
        "X, y = make_classification(n_samples=10000, n_features=20, flip_y=0.2, random_state=17)  \n",
        "\n",
        "print(X.shape, y.shape)"
      ],
      "execution_count": 12,
      "outputs": [
        {
          "output_type": "stream",
          "name": "stdout",
          "text": [
            "(10000, 20) (10000,)\n"
          ]
        }
      ]
    },
    {
      "cell_type": "code",
      "metadata": {
        "colab": {
          "base_uri": "https://localhost:8080/"
        },
        "id": "-dkLiMhp3mxO",
        "outputId": "8adb31a0-3e94-4662-8333-0e714d1be45c"
      },
      "source": [
        "from sklearn.model_selection import train_test_split\n",
        "\n",
        "X_train, X_test, y_train, y_test = train_test_split(X, y, train_size=0.6, random_state=11) \n",
        "\n",
        "print(X_train.shape, X_test.shape, y_train.shape, y_test.shape)"
      ],
      "execution_count": 13,
      "outputs": [
        {
          "output_type": "stream",
          "name": "stdout",
          "text": [
            "(6000, 20) (4000, 20) (6000,) (4000,)\n"
          ]
        }
      ]
    },
    {
      "cell_type": "code",
      "metadata": {
        "colab": {
          "base_uri": "https://localhost:8080/"
        },
        "id": "DI8Fethu3raO",
        "outputId": "471941c2-4590-4d30-bb7e-3ac67ffa0b4a"
      },
      "source": [
        "neuronas = [i for i in range(1, 50, 5)]\n",
        "\n",
        "print(neuronas)"
      ],
      "execution_count": 14,
      "outputs": [
        {
          "output_type": "stream",
          "name": "stdout",
          "text": [
            "[1, 6, 11, 16, 21, 26, 31, 36, 41, 46]\n"
          ]
        }
      ]
    },
    {
      "cell_type": "code",
      "metadata": {
        "id": "RXTcHCBd3w9G"
      },
      "source": [
        "from sklearn.neural_network import MLPClassifier\n",
        "import numpy as np\n"
      ],
      "execution_count": 16,
      "outputs": []
    },
    {
      "cell_type": "code",
      "metadata": {
        "colab": {
          "base_uri": "https://localhost:8080/"
        },
        "id": "QDQpkBaC32yx",
        "outputId": "76bda13e-1068-48fb-c1b9-cce6eca342f1"
      },
      "source": [
        "train_scores, test_scores = list(), list()\n",
        "train_errors, test_errors = list(), list()\n",
        "\n",
        "for i in neuronas:\n",
        "\n",
        "  model = MLPClassifier(hidden_layer_sizes=(i,i), max_iter=1000, alpha=0.7, random_state=42) \n",
        "\n",
        "  model.fit(X_train, y_train)\n",
        "\n",
        "  # TRAIN set\n",
        "  train_yhat = model.predict(X_train)\n",
        "\n",
        "  train_loss = np.mean(abs(y_train - train_yhat))\n",
        "  train_errors.append(train_loss)\n",
        "\n",
        "  train_acc = 1 - train_loss\n",
        "  train_scores.append(train_acc)\n",
        "\n",
        "\n",
        "  # TEST set\n",
        "  test_yhat = model.predict(X_test)\n",
        "\n",
        "  test_loss = np.mean(abs(y_test - test_yhat))\n",
        "  test_errors.append(test_loss)\n",
        "\n",
        "  test_acc = 1 - test_loss\n",
        "  test_scores.append(test_acc)\n",
        "\n",
        "\n",
        "  # progreso de las épocas del entrenamiento ...\n",
        "  print('>%d, train: %.3f, test: %.3f, losstrain: %.3f, losstest: %.3f' % (i, train_acc, test_acc, train_loss, test_loss))"
      ],
      "execution_count": 17,
      "outputs": [
        {
          "output_type": "stream",
          "name": "stdout",
          "text": [
            ">1, train: 0.502, test: 0.506, losstrain: 0.498, losstest: 0.494\n",
            ">6, train: 0.871, test: 0.871, losstrain: 0.130, losstest: 0.129\n",
            ">11, train: 0.871, test: 0.871, losstrain: 0.129, losstest: 0.129\n",
            ">16, train: 0.873, test: 0.870, losstrain: 0.127, losstest: 0.130\n",
            ">21, train: 0.873, test: 0.869, losstrain: 0.127, losstest: 0.131\n",
            ">26, train: 0.874, test: 0.873, losstrain: 0.126, losstest: 0.127\n",
            ">31, train: 0.876, test: 0.868, losstrain: 0.124, losstest: 0.132\n",
            ">36, train: 0.877, test: 0.868, losstrain: 0.123, losstest: 0.132\n",
            ">41, train: 0.877, test: 0.865, losstrain: 0.123, losstest: 0.135\n",
            ">46, train: 0.876, test: 0.865, losstrain: 0.124, losstest: 0.135\n"
          ]
        }
      ]
    },
    {
      "cell_type": "code",
      "metadata": {
        "colab": {
          "base_uri": "https://localhost:8080/",
          "height": 573
        },
        "id": "kXQo6JXh3_DC",
        "outputId": "d9a4b9ad-70fc-4cc6-cb03-eca0f1e00ef2"
      },
      "source": [
        "import matplotlib.pyplot as plt \n",
        "\n",
        "plt.plot(neuronas, train_scores, '-o', label='Train')\n",
        "plt.plot(neuronas, test_scores, '-o', label='Test')\n",
        "plt.legend()\n",
        "plt.title('Sobre-entrenado / Overfitting - Sub-entrenado / Underfitting')\n",
        "plt.xlabel('neuronas en capa oculta')\n",
        "plt.ylabel('exactitud / accuracy')\n",
        "plt.show()\n",
        "\n",
        "\n",
        "plt.plot(neuronas, train_errors, '-o', label='Train')\n",
        "plt.plot(neuronas, test_errors, '-o', label='Test')\n",
        "plt.legend()\n",
        "plt.title('f model: T=')\n",
        "plt.xlabel('neuronas en capa oculta')\n",
        "plt.ylabel('error / loss')\n",
        "plt.show()"
      ],
      "execution_count": 18,
      "outputs": [
        {
          "output_type": "display_data",
          "data": {
            "image/png": "[encoded data removed]",
            "text/plain": [
              "<Figure size 432x288 with 1 Axes>"
            ]
          },
          "metadata": {
            "needs_background": "light"
          }
        },
        {
          "output_type": "display_data",
          "data": {
            "image/png": "[encoded data removed]",
            "text/plain": [
              "<Figure size 432x288 with 1 Axes>"
            ]
          },
          "metadata": {
            "needs_background": "light"
          }
        }
      ]
    },
    {
      "cell_type": "markdown",
      "metadata": {
        "id": "Kq8IQmNj6nWr"
      },
      "source": [
        "#**Variando el tamaño del conjunto de entenamiento:**"
      ]
    },
    {
      "cell_type": "code",
      "metadata": {
        "colab": {
          "base_uri": "https://localhost:8080/"
        },
        "id": "YrAplzPp6rOT",
        "outputId": "6d274a09-3c50-43e8-fd5f-d16aefcd23e7"
      },
      "source": [
        "from sklearn.datasets import make_classification\n",
        "\n",
        "X, y = make_classification(n_samples=10000, \n",
        "                           n_features=20, \n",
        "                           flip_y=0.2, \n",
        "                           random_state=17) \n",
        "\n",
        "print(X.shape, y.shape)"
      ],
      "execution_count": 20,
      "outputs": [
        {
          "output_type": "stream",
          "name": "stdout",
          "text": [
            "(10000, 20) (10000,)\n"
          ]
        }
      ]
    },
    {
      "cell_type": "code",
      "metadata": {
        "id": "7CCTVLUJ6tv0"
      },
      "source": [
        "from sklearn.neural_network import MLPClassifier\n",
        "from sklearn.model_selection import train_test_split\n",
        "import numpy as np"
      ],
      "execution_count": 19,
      "outputs": []
    },
    {
      "cell_type": "code",
      "metadata": {
        "colab": {
          "base_uri": "https://localhost:8080/"
        },
        "id": "maF2OppL643z",
        "outputId": "e6518341-c8c7-4081-b0e9-f9a99abdba6a"
      },
      "source": [
        "train_scores, test_scores = list(), list()\n",
        "\n",
        "train_errors, test_errors = list(), list()\n",
        "\n",
        "neuronas = 15\n",
        "sz_set = [.05, .1, .3, .5, 0.6, 0.7, 0.8, 0.9, .95]\n",
        "\n",
        "for i in sz_set:\n",
        "\n",
        "  X_train, X_test, y_train, y_test = train_test_split(X, y, \n",
        "                                                    train_size=i, \n",
        "                                                    random_state=11) \n",
        "\n",
        "  model = MLPClassifier(hidden_layer_sizes=(neuronas,neuronas), \n",
        "                        max_iter=3000, \n",
        "                        alpha=.1,\n",
        "                        random_state=42)\n",
        "\n",
        "  model.fit(X_train, y_train)\n",
        "\n",
        "\n",
        "  # Predicciones y métricas con el conjunto de entrenamiento:\n",
        "  train_yhat = model.predict(X_train)\n",
        "\n",
        "  train_loss =  np.mean(abs(y_train - train_yhat))   \n",
        "  train_errors.append(train_loss)\n",
        "\n",
        "  train_acc = 1 - train_loss\n",
        "  train_scores.append(train_acc)\n",
        "\n",
        "  \n",
        "\n",
        "  # Predicciones y métricas con el conjunto de prueba:\n",
        "  test_yhat = model.predict(X_test)\n",
        "  \n",
        "  test_loss = np.mean(abs(y_test - test_yhat))\n",
        "  test_errors.append(test_loss)\n",
        "\n",
        "  test_acc = 1 - test_loss\n",
        "  test_scores.append(test_acc)\n",
        "\n",
        "\n",
        "\n",
        "  # evolución de las métricas durante el entrenamiento ...\n",
        "  print('> %d...\\t trainacc: %.3f, testacc: %.3f, trainloss: %.3f, testloss: %.3f' \n",
        "        % (i, train_acc, test_acc, train_loss, test_loss))"
      ],
      "execution_count": 21,
      "outputs": [
        {
          "output_type": "stream",
          "name": "stdout",
          "text": [
            "> 0...\t trainacc: 1.000, testacc: 0.781, trainloss: 0.000, testloss: 0.219\n",
            "> 0...\t trainacc: 0.996, testacc: 0.753, trainloss: 0.004, testloss: 0.247\n",
            "> 0...\t trainacc: 0.894, testacc: 0.837, trainloss: 0.106, testloss: 0.163\n",
            "> 0...\t trainacc: 0.883, testacc: 0.852, trainloss: 0.117, testloss: 0.148\n",
            "> 0...\t trainacc: 0.875, testacc: 0.865, trainloss: 0.125, testloss: 0.135\n",
            "> 0...\t trainacc: 0.876, testacc: 0.867, trainloss: 0.124, testloss: 0.133\n",
            "> 0...\t trainacc: 0.875, testacc: 0.863, trainloss: 0.125, testloss: 0.138\n",
            "> 0...\t trainacc: 0.877, testacc: 0.857, trainloss: 0.123, testloss: 0.143\n",
            "> 0...\t trainacc: 0.874, testacc: 0.862, trainloss: 0.126, testloss: 0.138\n"
          ]
        }
      ]
    },
    {
      "cell_type": "code",
      "metadata": {
        "colab": {
          "base_uri": "https://localhost:8080/",
          "height": 573
        },
        "id": "nQ1FzYBM688j",
        "outputId": "5498792c-e6d5-4e32-c64c-441c1b2e635d"
      },
      "source": [
        "import matplotlib.pyplot as plt \n",
        "\n",
        "plt.plot(sz_set, train_scores, '-o', label='Train')\n",
        "plt.plot(sz_set, test_scores, '-o', label='Test')\n",
        "plt.legend()\n",
        "plt.title('Accuracy : Learning curves')\n",
        "plt.xlabel('tamaño de muestra')\n",
        "plt.ylabel('exactitud / accuracy')\n",
        "plt.show()\n",
        "\n",
        "\n",
        "plt.plot(sz_set, train_errors, '-o', label='Train')\n",
        "plt.plot(sz_set, test_errors, '-o', label='Test')\n",
        "plt.legend()\n",
        "plt.title('Errors : Learning curves')\n",
        "plt.xlabel('tamaño de muestra')\n",
        "plt.ylabel('error / loss')\n",
        "plt.show()"
      ],
      "execution_count": 22,
      "outputs": [
        {
          "output_type": "display_data",
          "data": {
            "image/png": "[encoded data removed]",
            "text/plain": [
              "<Figure size 432x288 with 1 Axes>"
            ]
          },
          "metadata": {
            "needs_background": "light"
          }
        },
        {
          "output_type": "display_data",
          "data": {
            "image/png": "[encoded data removed]",
            "text/plain": [
              "<Figure size 432x288 with 1 Axes>"
            ]
          },
          "metadata": {
            "needs_background": "light"
          }
        }
      ]
    }
  ]
}