{
  "nbformat": 4,
  "nbformat_minor": 0,
  "metadata": {
    "colab": {
      "name": "LRM_ejemplo_con_modelos_no_lineales_clase.ipynb",
      "provenance": [],
      "collapsed_sections": []
    },
    "kernelspec": {
      "name": "python3",
      "display_name": "Python 3"
    }
  },
  "cells": [
    {
      "cell_type": "markdown",
      "metadata": {
        "id": "vV6lkKoCGJnh"
      },
      "source": [
        "#Ajustes al modelo RLM de las bikes\n",
        "\n",
        "# Modelos NO-Lineales: Polinomial, Logaritmo y sus Residuos.\n",
        "\n",
        "\n",
        "# Particiones, normalización de variables independientes y R2_ajustada en conjunto de prueba.\n",
        "\n",
        "https://archive.ics.uci.edu/ml/datasets/bike+sharing+dataset\n"
      ]
    },
    {
      "cell_type": "code",
      "metadata": {
        "id": "VWCC4TP_KNXY"
      },
      "source": [
        "import numpy as np    # biblioteca para el manejo de vectores y matrices en python.\n",
        "import pandas as pd   # biblioteca para el manejo de datos y tablas.\n",
        "import matplotlib.pyplot as plt   # biblioteca para visualización de datos.\n",
        "import statsmodels.api as sm      # biblioteca para pruebas estadísticas.\n",
        "import seaborn as sns # biblioteca para visualización estadística."
      ],
      "execution_count": null,
      "outputs": []
    },
    {
      "cell_type": "code",
      "metadata": {
        "id": "f8c6SK8pja93",
        "colab": {
          "base_uri": "https://localhost:8080/"
        },
        "outputId": "7fb98c31-5bb8-419d-ae67-713f665bc059"
      },
      "source": [
        "from google.colab import drive\n",
        "drive.mount('/content/drive')"
      ],
      "execution_count": 1,
      "outputs": [
        {
          "output_type": "stream",
          "name": "stdout",
          "text": [
            "Mounted at /content/drive\n"
          ]
        }
      ]
    },
    {
      "cell_type": "code",
      "metadata": {
        "id": "l7OcOUZIjkGV"
      },
      "source": [
        "mypath = \"/content/drive/My Drive/data/bike/day.csv\" "
      ],
      "execution_count": 3,
      "outputs": []
    },
    {
      "cell_type": "code",
      "metadata": {
        "id": "TNp9K78mHlAo",
        "colab": {
          "base_uri": "https://localhost:8080/",
          "height": 206
        },
        "outputId": "64ca0156-0abf-4f69-f033-9e5154ec7dbd"
      },
      "source": [
        "mydata = pd.read_csv(mypath)\n",
        "mydata.head()"
      ],
      "execution_count": 6,
      "outputs": [
        {
          "output_type": "execute_result",
          "data": {
            "text/html": [
              "<div>\n",
              "<style scoped>\n",
              "    .dataframe tbody tr th:only-of-type {\n",
              "        vertical-align: middle;\n",
              "    }\n",
              "\n",
              "    .dataframe tbody tr th {\n",
              "        vertical-align: top;\n",
              "    }\n",
              "\n",
              "    .dataframe thead th {\n",
              "        text-align: right;\n",
              "    }\n",
              "</style>\n",
              "<table border=\"1\" class=\"dataframe\">\n",
              "  <thead>\n",
              "    <tr style=\"text-align: right;\">\n",
              "      <th></th>\n",
              "      <th>instant</th>\n",
              "      <th>dteday</th>\n",
              "      <th>season</th>\n",
              "      <th>yr</th>\n",
              "      <th>mnth</th>\n",
              "      <th>holiday</th>\n",
              "      <th>weekday</th>\n",
              "      <th>workingday</th>\n",
              "      <th>weathersit</th>\n",
              "      <th>temp</th>\n",
              "      <th>atemp</th>\n",
              "      <th>hum</th>\n",
              "      <th>windspeed</th>\n",
              "      <th>casual</th>\n",
              "      <th>registered</th>\n",
              "      <th>cnt</th>\n",
              "    </tr>\n",
              "  </thead>\n",
              "  <tbody>\n",
              "    <tr>\n",
              "      <th>0</th>\n",
              "      <td>1</td>\n",
              "      <td>2011-01-01</td>\n",
              "      <td>1</td>\n",
              "      <td>0</td>\n",
              "      <td>1</td>\n",
              "      <td>0</td>\n",
              "      <td>6</td>\n",
              "      <td>0</td>\n",
              "      <td>2</td>\n",
              "      <td>0.344167</td>\n",
              "      <td>0.363625</td>\n",
              "      <td>0.805833</td>\n",
              "      <td>0.160446</td>\n",
              "      <td>331</td>\n",
              "      <td>654</td>\n",
              "      <td>985</td>\n",
              "    </tr>\n",
              "    <tr>\n",
              "      <th>1</th>\n",
              "      <td>2</td>\n",
              "      <td>2011-01-02</td>\n",
              "      <td>1</td>\n",
              "      <td>0</td>\n",
              "      <td>1</td>\n",
              "      <td>0</td>\n",
              "      <td>0</td>\n",
              "      <td>0</td>\n",
              "      <td>2</td>\n",
              "      <td>0.363478</td>\n",
              "      <td>0.353739</td>\n",
              "      <td>0.696087</td>\n",
              "      <td>0.248539</td>\n",
              "      <td>131</td>\n",
              "      <td>670</td>\n",
              "      <td>801</td>\n",
              "    </tr>\n",
              "    <tr>\n",
              "      <th>2</th>\n",
              "      <td>3</td>\n",
              "      <td>2011-01-03</td>\n",
              "      <td>1</td>\n",
              "      <td>0</td>\n",
              "      <td>1</td>\n",
              "      <td>0</td>\n",
              "      <td>1</td>\n",
              "      <td>1</td>\n",
              "      <td>1</td>\n",
              "      <td>0.196364</td>\n",
              "      <td>0.189405</td>\n",
              "      <td>0.437273</td>\n",
              "      <td>0.248309</td>\n",
              "      <td>120</td>\n",
              "      <td>1229</td>\n",
              "      <td>1349</td>\n",
              "    </tr>\n",
              "    <tr>\n",
              "      <th>3</th>\n",
              "      <td>4</td>\n",
              "      <td>2011-01-04</td>\n",
              "      <td>1</td>\n",
              "      <td>0</td>\n",
              "      <td>1</td>\n",
              "      <td>0</td>\n",
              "      <td>2</td>\n",
              "      <td>1</td>\n",
              "      <td>1</td>\n",
              "      <td>0.200000</td>\n",
              "      <td>0.212122</td>\n",
              "      <td>0.590435</td>\n",
              "      <td>0.160296</td>\n",
              "      <td>108</td>\n",
              "      <td>1454</td>\n",
              "      <td>1562</td>\n",
              "    </tr>\n",
              "    <tr>\n",
              "      <th>4</th>\n",
              "      <td>5</td>\n",
              "      <td>2011-01-05</td>\n",
              "      <td>1</td>\n",
              "      <td>0</td>\n",
              "      <td>1</td>\n",
              "      <td>0</td>\n",
              "      <td>3</td>\n",
              "      <td>1</td>\n",
              "      <td>1</td>\n",
              "      <td>0.226957</td>\n",
              "      <td>0.229270</td>\n",
              "      <td>0.436957</td>\n",
              "      <td>0.186900</td>\n",
              "      <td>82</td>\n",
              "      <td>1518</td>\n",
              "      <td>1600</td>\n",
              "    </tr>\n",
              "  </tbody>\n",
              "</table>\n",
              "</div>"
            ],
            "text/plain": [
              "   instant      dteday  season  yr  ...  windspeed  casual  registered   cnt\n",
              "0        1  2011-01-01       1   0  ...   0.160446     331         654   985\n",
              "1        2  2011-01-02       1   0  ...   0.248539     131         670   801\n",
              "2        3  2011-01-03       1   0  ...   0.248309     120        1229  1349\n",
              "3        4  2011-01-04       1   0  ...   0.160296     108        1454  1562\n",
              "4        5  2011-01-05       1   0  ...   0.186900      82        1518  1600\n",
              "\n",
              "[5 rows x 16 columns]"
            ]
          },
          "metadata": {},
          "execution_count": 6
        }
      ]
    },
    {
      "cell_type": "code",
      "metadata": {
        "id": "qwRuafkFQPHI",
        "colab": {
          "base_uri": "https://localhost:8080/"
        },
        "outputId": "63d54cea-3f02-4e99-f9dc-b2466de7c18a"
      },
      "source": [
        "mydata.shape"
      ],
      "execution_count": 7,
      "outputs": [
        {
          "output_type": "execute_result",
          "data": {
            "text/plain": [
              "(731, 16)"
            ]
          },
          "metadata": {},
          "execution_count": 7
        }
      ]
    },
    {
      "cell_type": "markdown",
      "metadata": {
        "id": "BroyNfymOCoi"
      },
      "source": [
        "### Resumen numérico de las variables y vemos que sí se requerirá transformarlos porque están en muy diferentes escalas:"
      ]
    },
    {
      "cell_type": "code",
      "metadata": {
        "id": "i1TALAuHN36U",
        "colab": {
          "base_uri": "https://localhost:8080/",
          "height": 320
        },
        "outputId": "7b89b45a-deb1-4285-eb9f-7af74883c2e0"
      },
      "source": [
        "mydata.describe()"
      ],
      "execution_count": 8,
      "outputs": [
        {
          "output_type": "execute_result",
          "data": {
            "text/html": [
              "<div>\n",
              "<style scoped>\n",
              "    .dataframe tbody tr th:only-of-type {\n",
              "        vertical-align: middle;\n",
              "    }\n",
              "\n",
              "    .dataframe tbody tr th {\n",
              "        vertical-align: top;\n",
              "    }\n",
              "\n",
              "    .dataframe thead th {\n",
              "        text-align: right;\n",
              "    }\n",
              "</style>\n",
              "<table border=\"1\" class=\"dataframe\">\n",
              "  <thead>\n",
              "    <tr style=\"text-align: right;\">\n",
              "      <th></th>\n",
              "      <th>instant</th>\n",
              "      <th>season</th>\n",
              "      <th>yr</th>\n",
              "      <th>mnth</th>\n",
              "      <th>holiday</th>\n",
              "      <th>weekday</th>\n",
              "      <th>workingday</th>\n",
              "      <th>weathersit</th>\n",
              "      <th>temp</th>\n",
              "      <th>atemp</th>\n",
              "      <th>hum</th>\n",
              "      <th>windspeed</th>\n",
              "      <th>casual</th>\n",
              "      <th>registered</th>\n",
              "      <th>cnt</th>\n",
              "    </tr>\n",
              "  </thead>\n",
              "  <tbody>\n",
              "    <tr>\n",
              "      <th>count</th>\n",
              "      <td>731.000000</td>\n",
              "      <td>731.000000</td>\n",
              "      <td>731.000000</td>\n",
              "      <td>731.000000</td>\n",
              "      <td>731.000000</td>\n",
              "      <td>731.000000</td>\n",
              "      <td>731.000000</td>\n",
              "      <td>731.000000</td>\n",
              "      <td>731.000000</td>\n",
              "      <td>731.000000</td>\n",
              "      <td>731.000000</td>\n",
              "      <td>731.000000</td>\n",
              "      <td>731.000000</td>\n",
              "      <td>731.000000</td>\n",
              "      <td>731.000000</td>\n",
              "    </tr>\n",
              "    <tr>\n",
              "      <th>mean</th>\n",
              "      <td>366.000000</td>\n",
              "      <td>2.496580</td>\n",
              "      <td>0.500684</td>\n",
              "      <td>6.519836</td>\n",
              "      <td>0.028728</td>\n",
              "      <td>2.997264</td>\n",
              "      <td>0.683995</td>\n",
              "      <td>1.395349</td>\n",
              "      <td>0.495385</td>\n",
              "      <td>0.474354</td>\n",
              "      <td>0.627894</td>\n",
              "      <td>0.190486</td>\n",
              "      <td>848.176471</td>\n",
              "      <td>3656.172367</td>\n",
              "      <td>4504.348837</td>\n",
              "    </tr>\n",
              "    <tr>\n",
              "      <th>std</th>\n",
              "      <td>211.165812</td>\n",
              "      <td>1.110807</td>\n",
              "      <td>0.500342</td>\n",
              "      <td>3.451913</td>\n",
              "      <td>0.167155</td>\n",
              "      <td>2.004787</td>\n",
              "      <td>0.465233</td>\n",
              "      <td>0.544894</td>\n",
              "      <td>0.183051</td>\n",
              "      <td>0.162961</td>\n",
              "      <td>0.142429</td>\n",
              "      <td>0.077498</td>\n",
              "      <td>686.622488</td>\n",
              "      <td>1560.256377</td>\n",
              "      <td>1937.211452</td>\n",
              "    </tr>\n",
              "    <tr>\n",
              "      <th>min</th>\n",
              "      <td>1.000000</td>\n",
              "      <td>1.000000</td>\n",
              "      <td>0.000000</td>\n",
              "      <td>1.000000</td>\n",
              "      <td>0.000000</td>\n",
              "      <td>0.000000</td>\n",
              "      <td>0.000000</td>\n",
              "      <td>1.000000</td>\n",
              "      <td>0.059130</td>\n",
              "      <td>0.079070</td>\n",
              "      <td>0.000000</td>\n",
              "      <td>0.022392</td>\n",
              "      <td>2.000000</td>\n",
              "      <td>20.000000</td>\n",
              "      <td>22.000000</td>\n",
              "    </tr>\n",
              "    <tr>\n",
              "      <th>25%</th>\n",
              "      <td>183.500000</td>\n",
              "      <td>2.000000</td>\n",
              "      <td>0.000000</td>\n",
              "      <td>4.000000</td>\n",
              "      <td>0.000000</td>\n",
              "      <td>1.000000</td>\n",
              "      <td>0.000000</td>\n",
              "      <td>1.000000</td>\n",
              "      <td>0.337083</td>\n",
              "      <td>0.337842</td>\n",
              "      <td>0.520000</td>\n",
              "      <td>0.134950</td>\n",
              "      <td>315.500000</td>\n",
              "      <td>2497.000000</td>\n",
              "      <td>3152.000000</td>\n",
              "    </tr>\n",
              "    <tr>\n",
              "      <th>50%</th>\n",
              "      <td>366.000000</td>\n",
              "      <td>3.000000</td>\n",
              "      <td>1.000000</td>\n",
              "      <td>7.000000</td>\n",
              "      <td>0.000000</td>\n",
              "      <td>3.000000</td>\n",
              "      <td>1.000000</td>\n",
              "      <td>1.000000</td>\n",
              "      <td>0.498333</td>\n",
              "      <td>0.486733</td>\n",
              "      <td>0.626667</td>\n",
              "      <td>0.180975</td>\n",
              "      <td>713.000000</td>\n",
              "      <td>3662.000000</td>\n",
              "      <td>4548.000000</td>\n",
              "    </tr>\n",
              "    <tr>\n",
              "      <th>75%</th>\n",
              "      <td>548.500000</td>\n",
              "      <td>3.000000</td>\n",
              "      <td>1.000000</td>\n",
              "      <td>10.000000</td>\n",
              "      <td>0.000000</td>\n",
              "      <td>5.000000</td>\n",
              "      <td>1.000000</td>\n",
              "      <td>2.000000</td>\n",
              "      <td>0.655417</td>\n",
              "      <td>0.608602</td>\n",
              "      <td>0.730209</td>\n",
              "      <td>0.233214</td>\n",
              "      <td>1096.000000</td>\n",
              "      <td>4776.500000</td>\n",
              "      <td>5956.000000</td>\n",
              "    </tr>\n",
              "    <tr>\n",
              "      <th>max</th>\n",
              "      <td>731.000000</td>\n",
              "      <td>4.000000</td>\n",
              "      <td>1.000000</td>\n",
              "      <td>12.000000</td>\n",
              "      <td>1.000000</td>\n",
              "      <td>6.000000</td>\n",
              "      <td>1.000000</td>\n",
              "      <td>3.000000</td>\n",
              "      <td>0.861667</td>\n",
              "      <td>0.840896</td>\n",
              "      <td>0.972500</td>\n",
              "      <td>0.507463</td>\n",
              "      <td>3410.000000</td>\n",
              "      <td>6946.000000</td>\n",
              "      <td>8714.000000</td>\n",
              "    </tr>\n",
              "  </tbody>\n",
              "</table>\n",
              "</div>"
            ],
            "text/plain": [
              "          instant      season  ...   registered          cnt\n",
              "count  731.000000  731.000000  ...   731.000000   731.000000\n",
              "mean   366.000000    2.496580  ...  3656.172367  4504.348837\n",
              "std    211.165812    1.110807  ...  1560.256377  1937.211452\n",
              "min      1.000000    1.000000  ...    20.000000    22.000000\n",
              "25%    183.500000    2.000000  ...  2497.000000  3152.000000\n",
              "50%    366.000000    3.000000  ...  3662.000000  4548.000000\n",
              "75%    548.500000    3.000000  ...  4776.500000  5956.000000\n",
              "max    731.000000    4.000000  ...  6946.000000  8714.000000\n",
              "\n",
              "[8 rows x 15 columns]"
            ]
          },
          "metadata": {},
          "execution_count": 8
        }
      ]
    },
    {
      "cell_type": "markdown",
      "metadata": {
        "id": "6lwFEVILTKZl"
      },
      "source": [
        "Nos quedamos con las variable que ya sabemos no están muy correlacionadas y lo corroboramos con la matriz de correlación: "
      ]
    },
    {
      "cell_type": "code",
      "metadata": {
        "id": "BxJgal__UqBj"
      },
      "source": [
        "dataset = pd.DataFrame(mydata[[\"atemp\",\"cnt\"]])"
      ],
      "execution_count": 9,
      "outputs": []
    },
    {
      "cell_type": "code",
      "metadata": {
        "id": "rTy8GINucIY6",
        "colab": {
          "base_uri": "https://localhost:8080/",
          "height": 112
        },
        "outputId": "c6132d25-e622-42c0-f90c-33b1db2f46cd"
      },
      "source": [
        "dataset.corr(method='pearson')"
      ],
      "execution_count": 10,
      "outputs": [
        {
          "output_type": "execute_result",
          "data": {
            "text/html": [
              "<div>\n",
              "<style scoped>\n",
              "    .dataframe tbody tr th:only-of-type {\n",
              "        vertical-align: middle;\n",
              "    }\n",
              "\n",
              "    .dataframe tbody tr th {\n",
              "        vertical-align: top;\n",
              "    }\n",
              "\n",
              "    .dataframe thead th {\n",
              "        text-align: right;\n",
              "    }\n",
              "</style>\n",
              "<table border=\"1\" class=\"dataframe\">\n",
              "  <thead>\n",
              "    <tr style=\"text-align: right;\">\n",
              "      <th></th>\n",
              "      <th>atemp</th>\n",
              "      <th>cnt</th>\n",
              "    </tr>\n",
              "  </thead>\n",
              "  <tbody>\n",
              "    <tr>\n",
              "      <th>atemp</th>\n",
              "      <td>1.000000</td>\n",
              "      <td>0.631066</td>\n",
              "    </tr>\n",
              "    <tr>\n",
              "      <th>cnt</th>\n",
              "      <td>0.631066</td>\n",
              "      <td>1.000000</td>\n",
              "    </tr>\n",
              "  </tbody>\n",
              "</table>\n",
              "</div>"
            ],
            "text/plain": [
              "          atemp       cnt\n",
              "atemp  1.000000  0.631066\n",
              "cnt    0.631066  1.000000"
            ]
          },
          "metadata": {},
          "execution_count": 10
        }
      ]
    },
    {
      "cell_type": "markdown",
      "metadata": {
        "id": "59TYxBoQ2lgE"
      },
      "source": [
        "# Resumen descriptivo de las variables:"
      ]
    },
    {
      "cell_type": "code",
      "metadata": {
        "id": "8yYK7Xu_2o6h",
        "colab": {
          "base_uri": "https://localhost:8080/",
          "height": 300
        },
        "outputId": "0f9abbc3-0622-404a-f2a1-d49fa87df3a1"
      },
      "source": [
        "dataset.describe()"
      ],
      "execution_count": 11,
      "outputs": [
        {
          "output_type": "execute_result",
          "data": {
            "text/html": [
              "<div>\n",
              "<style scoped>\n",
              "    .dataframe tbody tr th:only-of-type {\n",
              "        vertical-align: middle;\n",
              "    }\n",
              "\n",
              "    .dataframe tbody tr th {\n",
              "        vertical-align: top;\n",
              "    }\n",
              "\n",
              "    .dataframe thead th {\n",
              "        text-align: right;\n",
              "    }\n",
              "</style>\n",
              "<table border=\"1\" class=\"dataframe\">\n",
              "  <thead>\n",
              "    <tr style=\"text-align: right;\">\n",
              "      <th></th>\n",
              "      <th>atemp</th>\n",
              "      <th>cnt</th>\n",
              "    </tr>\n",
              "  </thead>\n",
              "  <tbody>\n",
              "    <tr>\n",
              "      <th>count</th>\n",
              "      <td>731.000000</td>\n",
              "      <td>731.000000</td>\n",
              "    </tr>\n",
              "    <tr>\n",
              "      <th>mean</th>\n",
              "      <td>0.474354</td>\n",
              "      <td>4504.348837</td>\n",
              "    </tr>\n",
              "    <tr>\n",
              "      <th>std</th>\n",
              "      <td>0.162961</td>\n",
              "      <td>1937.211452</td>\n",
              "    </tr>\n",
              "    <tr>\n",
              "      <th>min</th>\n",
              "      <td>0.079070</td>\n",
              "      <td>22.000000</td>\n",
              "    </tr>\n",
              "    <tr>\n",
              "      <th>25%</th>\n",
              "      <td>0.337842</td>\n",
              "      <td>3152.000000</td>\n",
              "    </tr>\n",
              "    <tr>\n",
              "      <th>50%</th>\n",
              "      <td>0.486733</td>\n",
              "      <td>4548.000000</td>\n",
              "    </tr>\n",
              "    <tr>\n",
              "      <th>75%</th>\n",
              "      <td>0.608602</td>\n",
              "      <td>5956.000000</td>\n",
              "    </tr>\n",
              "    <tr>\n",
              "      <th>max</th>\n",
              "      <td>0.840896</td>\n",
              "      <td>8714.000000</td>\n",
              "    </tr>\n",
              "  </tbody>\n",
              "</table>\n",
              "</div>"
            ],
            "text/plain": [
              "            atemp          cnt\n",
              "count  731.000000   731.000000\n",
              "mean     0.474354  4504.348837\n",
              "std      0.162961  1937.211452\n",
              "min      0.079070    22.000000\n",
              "25%      0.337842  3152.000000\n",
              "50%      0.486733  4548.000000\n",
              "75%      0.608602  5956.000000\n",
              "max      0.840896  8714.000000"
            ]
          },
          "metadata": {},
          "execution_count": 11
        }
      ]
    },
    {
      "cell_type": "code",
      "metadata": {
        "id": "V0J1lsnd7n2y"
      },
      "source": [
        "x = dataset[\"atemp\"]\n",
        "y = dataset[\"cnt\"]"
      ],
      "execution_count": 12,
      "outputs": []
    },
    {
      "cell_type": "markdown",
      "metadata": {
        "id": "EhzbBRFQOm5X"
      },
      "source": [
        "## Gráficas de dispersión con la variable dependiente (cnt):"
      ]
    },
    {
      "cell_type": "code",
      "metadata": {
        "id": "TPJFGT0ERMuU"
      },
      "source": [
        "sns.set(rc={'figure.figsize':(6,5)})   # (width, height)"
      ],
      "execution_count": 13,
      "outputs": []
    },
    {
      "cell_type": "code",
      "metadata": {
        "id": "JZibmKRn7uG0",
        "colab": {
          "base_uri": "https://localhost:8080/",
          "height": 338
        },
        "outputId": "9722e3c4-016e-45cb-d94d-c1561561c636"
      },
      "source": [
        "plt.scatter(x,y)\n",
        "plt.title(\"atemp vs cnt\")\n",
        "plt.show()"
      ],
      "execution_count": 14,
      "outputs": [
        {
          "output_type": "display_data",
          "data": {
            "image/png": "[encoded data removed]",
            "text/plain": [
              "<Figure size 432x360 with 1 Axes>"
            ]
          },
          "metadata": {}
        }
      ]
    },
    {
      "cell_type": "markdown",
      "metadata": {
        "id": "pJMcX9-QOjGR"
      },
      "source": [
        "### Primer modelo a analizar:"
      ]
    },
    {
      "cell_type": "code",
      "metadata": {
        "id": "3_5fEVojbNNM",
        "colab": {
          "base_uri": "https://localhost:8080/"
        },
        "outputId": "9e30511c-7da8-4038-8bad-a25b12f1db4c"
      },
      "source": [
        "print(x.shape)\n",
        "print(y.shape)"
      ],
      "execution_count": 15,
      "outputs": [
        {
          "output_type": "stream",
          "name": "stdout",
          "text": [
            "(731,)\n",
            "(731,)\n"
          ]
        }
      ]
    },
    {
      "cell_type": "markdown",
      "metadata": {
        "id": "EoZCnkrhjdPW"
      },
      "source": [
        "## Modelos de regresión lineal simple:"
      ]
    },
    {
      "cell_type": "code",
      "metadata": {
        "id": "OZ7yyR8Nohkt"
      },
      "source": [
        "xones = sm.add_constant(x)"
      ],
      "execution_count": 16,
      "outputs": []
    },
    {
      "cell_type": "code",
      "metadata": {
        "id": "LoXaVzAVn9GL"
      },
      "source": [
        "mimodelo = sm.OLS(y, xones).fit()"
      ],
      "execution_count": 17,
      "outputs": []
    },
    {
      "cell_type": "code",
      "metadata": {
        "id": "sIjYyI5poGKk",
        "colab": {
          "base_uri": "https://localhost:8080/"
        },
        "outputId": "6c2b2076-0e3e-420c-f7f9-3bcb31c9ad7f"
      },
      "source": [
        "print(mimodelo.summary())"
      ],
      "execution_count": 18,
      "outputs": [
        {
          "output_type": "stream",
          "name": "stdout",
          "text": [
            "                            OLS Regression Results                            \n",
            "==============================================================================\n",
            "Dep. Variable:                    cnt   R-squared:                       0.398\n",
            "Model:                            OLS   Adj. R-squared:                  0.397\n",
            "Method:                 Least Squares   F-statistic:                     482.5\n",
            "Date:                Thu, 02 Sep 2021   Prob (F-statistic):           1.85e-82\n",
            "Time:                        23:33:44   Log-Likelihood:                -6384.0\n",
            "No. Observations:                 731   AIC:                         1.277e+04\n",
            "Df Residuals:                     729   BIC:                         1.278e+04\n",
            "Df Model:                           1                                         \n",
            "Covariance Type:            nonrobust                                         \n",
            "==============================================================================\n",
            "                 coef    std err          t      P>|t|      [0.025      0.975]\n",
            "------------------------------------------------------------------------------\n",
            "const        945.8240    171.291      5.522      0.000     609.541    1282.107\n",
            "atemp       7501.8339    341.538     21.965      0.000    6831.318    8172.350\n",
            "==============================================================================\n",
            "Omnibus:                       13.710   Durbin-Watson:                   0.475\n",
            "Prob(Omnibus):                  0.001   Jarque-Bera (JB):                9.448\n",
            "Skew:                           0.150   Prob(JB):                      0.00888\n",
            "Kurtosis:                       2.531   Cond. No.                         7.55\n",
            "==============================================================================\n",
            "\n",
            "Warnings:\n",
            "[1] Standard Errors assume that the covariance matrix of the errors is correctly specified.\n"
          ]
        }
      ]
    },
    {
      "cell_type": "code",
      "metadata": {
        "id": "pUq2UeeX8IRa"
      },
      "source": [
        "pendiente = mimodelo.params[1]\n",
        "ordenada = mimodelo.params[0]"
      ],
      "execution_count": 19,
      "outputs": []
    },
    {
      "cell_type": "code",
      "metadata": {
        "id": "LOHTDXcm85q4"
      },
      "source": [
        "ygorro = x * pendiente + ordenada"
      ],
      "execution_count": 20,
      "outputs": []
    },
    {
      "cell_type": "code",
      "metadata": {
        "id": "xQ-M4ahh8300",
        "colab": {
          "base_uri": "https://localhost:8080/",
          "height": 322
        },
        "outputId": "1a937161-94b2-49c1-e2fc-13afe5f42f15"
      },
      "source": [
        "plt.plot(x, ygorro, color='r')\n",
        "plt.scatter(x,y)\n",
        "plt.show()"
      ],
      "execution_count": 21,
      "outputs": [
        {
          "output_type": "display_data",
          "data": {
            "image/png": "[encoded data removed]",
            "text/plain": [
              "<Figure size 432x360 with 1 Axes>"
            ]
          },
          "metadata": {}
        }
      ]
    },
    {
      "cell_type": "code",
      "metadata": {
        "id": "dh41t1hH9NT4",
        "colab": {
          "base_uri": "https://localhost:8080/"
        },
        "outputId": "9fd11fe4-8871-4173-a1ad-b3aa01810bb5"
      },
      "source": [
        "sse = np.sum(np.square( y - ygorro ))\n",
        "print(sse)\n",
        "print(sse / len(y))  # mse"
      ],
      "execution_count": 22,
      "outputs": [
        {
          "output_type": "stream",
          "name": "stdout",
          "text": [
            "1648532085.3164074\n",
            "2255173.851322035\n"
          ]
        }
      ]
    },
    {
      "cell_type": "code",
      "metadata": {
        "id": "GaYuz0lN-2W5",
        "colab": {
          "base_uri": "https://localhost:8080/"
        },
        "outputId": "797edcec-c3be-4f7f-8fdf-ab6a5a559aa2"
      },
      "source": [
        "y_gorro = mimodelo.predict(xones)   # o bien...\n",
        "sse1 = np.sum(np.square( y - y_gorro ))\n",
        "print(sse1)"
      ],
      "execution_count": 23,
      "outputs": [
        {
          "output_type": "stream",
          "name": "stdout",
          "text": [
            "1648532085.3164074\n"
          ]
        }
      ]
    },
    {
      "cell_type": "markdown",
      "metadata": {
        "id": "N5SuhQtcMiJ2"
      },
      "source": [
        "# Modelo NO-Lineal - cuadrática"
      ]
    },
    {
      "cell_type": "code",
      "metadata": {
        "id": "gcn29azwSPdv"
      },
      "source": [
        "xones2 = xones.copy()   # observa que debes copiar la variable de esta manera para que sean independientes.\n",
        "xones2[\"nonlin2\"] = np.square(xones2[\"atemp\"])"
      ],
      "execution_count": 24,
      "outputs": []
    },
    {
      "cell_type": "code",
      "metadata": {
        "id": "Pinn1RaUBIPt",
        "colab": {
          "base_uri": "https://localhost:8080/",
          "height": 659
        },
        "outputId": "79a9492c-c213-40b6-9c9d-8cf577ee7b56"
      },
      "source": [
        "plt.scatter(xones2[\"atemp\"],y)\n",
        "plt.title(\"atemp vs cnt\")\n",
        "plt.figure()\n",
        "plt.scatter(xones2[\"nonlin2\"],y)\n",
        "plt.title(\"nonlin2 vs cnt\")\n",
        "plt.show()"
      ],
      "execution_count": 26,
      "outputs": [
        {
          "output_type": "display_data",
          "data": {
            "image/png": "[encoded data removed]",
            "text/plain": [
              "<Figure size 432x360 with 1 Axes>"
            ]
          },
          "metadata": {}
        },
        {
          "output_type": "display_data",
          "data": {
            "image/png": "[encoded data removed]",
            "text/plain": [
              "<Figure size 432x360 with 1 Axes>"
            ]
          },
          "metadata": {}
        }
      ]
    },
    {
      "cell_type": "code",
      "metadata": {
        "id": "1Li-zLePC523",
        "colab": {
          "base_uri": "https://localhost:8080/",
          "height": 206
        },
        "outputId": "6d144782-ce84-4889-9e97-d689077ed666"
      },
      "source": [
        "xones2.head()"
      ],
      "execution_count": 28,
      "outputs": [
        {
          "output_type": "execute_result",
          "data": {
            "text/html": [
              "<div>\n",
              "<style scoped>\n",
              "    .dataframe tbody tr th:only-of-type {\n",
              "        vertical-align: middle;\n",
              "    }\n",
              "\n",
              "    .dataframe tbody tr th {\n",
              "        vertical-align: top;\n",
              "    }\n",
              "\n",
              "    .dataframe thead th {\n",
              "        text-align: right;\n",
              "    }\n",
              "</style>\n",
              "<table border=\"1\" class=\"dataframe\">\n",
              "  <thead>\n",
              "    <tr style=\"text-align: right;\">\n",
              "      <th></th>\n",
              "      <th>const</th>\n",
              "      <th>atemp</th>\n",
              "      <th>nonlin2</th>\n",
              "    </tr>\n",
              "  </thead>\n",
              "  <tbody>\n",
              "    <tr>\n",
              "      <th>0</th>\n",
              "      <td>1.0</td>\n",
              "      <td>0.363625</td>\n",
              "      <td>0.132223</td>\n",
              "    </tr>\n",
              "    <tr>\n",
              "      <th>1</th>\n",
              "      <td>1.0</td>\n",
              "      <td>0.353739</td>\n",
              "      <td>0.125131</td>\n",
              "    </tr>\n",
              "    <tr>\n",
              "      <th>2</th>\n",
              "      <td>1.0</td>\n",
              "      <td>0.189405</td>\n",
              "      <td>0.035874</td>\n",
              "    </tr>\n",
              "    <tr>\n",
              "      <th>3</th>\n",
              "      <td>1.0</td>\n",
              "      <td>0.212122</td>\n",
              "      <td>0.044996</td>\n",
              "    </tr>\n",
              "    <tr>\n",
              "      <th>4</th>\n",
              "      <td>1.0</td>\n",
              "      <td>0.229270</td>\n",
              "      <td>0.052565</td>\n",
              "    </tr>\n",
              "  </tbody>\n",
              "</table>\n",
              "</div>"
            ],
            "text/plain": [
              "   const     atemp   nonlin2\n",
              "0    1.0  0.363625  0.132223\n",
              "1    1.0  0.353739  0.125131\n",
              "2    1.0  0.189405  0.035874\n",
              "3    1.0  0.212122  0.044996\n",
              "4    1.0  0.229270  0.052565"
            ]
          },
          "metadata": {},
          "execution_count": 28
        }
      ]
    },
    {
      "cell_type": "code",
      "metadata": {
        "id": "BwXi8lwXBzLX",
        "colab": {
          "base_uri": "https://localhost:8080/"
        },
        "outputId": "03c9d460-9aab-4d8a-eaf6-f6a92d5dad6b"
      },
      "source": [
        "mimodelo2 = sm.OLS(y, xones2).fit()\n",
        "print(mimodelo2.summary())"
      ],
      "execution_count": 29,
      "outputs": [
        {
          "output_type": "stream",
          "name": "stdout",
          "text": [
            "                            OLS Regression Results                            \n",
            "==============================================================================\n",
            "Dep. Variable:                    cnt   R-squared:                       0.449\n",
            "Model:                            OLS   Adj. R-squared:                  0.447\n",
            "Method:                 Least Squares   F-statistic:                     296.5\n",
            "Date:                Thu, 02 Sep 2021   Prob (F-statistic):           6.41e-95\n",
            "Time:                        23:35:25   Log-Likelihood:                -6351.9\n",
            "No. Observations:                 731   AIC:                         1.271e+04\n",
            "Df Residuals:                     728   BIC:                         1.272e+04\n",
            "Df Model:                           2                                         \n",
            "Covariance Type:            nonrobust                                         \n",
            "==============================================================================\n",
            "                 coef    std err          t      P>|t|      [0.025      0.975]\n",
            "------------------------------------------------------------------------------\n",
            "const      -2155.0969    413.033     -5.218      0.000   -2965.976   -1344.218\n",
            "atemp       2.277e+04   1894.533     12.017      0.000     1.9e+04    2.65e+04\n",
            "nonlin2    -1.646e+04   2012.161     -8.180      0.000   -2.04e+04   -1.25e+04\n",
            "==============================================================================\n",
            "Omnibus:                        7.682   Durbin-Watson:                   0.546\n",
            "Prob(Omnibus):                  0.021   Jarque-Bera (JB):                5.166\n",
            "Skew:                           0.009   Prob(JB):                       0.0755\n",
            "Kurtosis:                       2.589   Cond. No.                         59.5\n",
            "==============================================================================\n",
            "\n",
            "Warnings:\n",
            "[1] Standard Errors assume that the covariance matrix of the errors is correctly specified.\n"
          ]
        }
      ]
    },
    {
      "cell_type": "code",
      "metadata": {
        "id": "I9LKzmOQF_4V",
        "colab": {
          "base_uri": "https://localhost:8080/"
        },
        "outputId": "6ae745c8-8d3f-4051-94a4-de7aa6d08217"
      },
      "source": [
        "y_gorro2 = mimodelo2.predict(xones2)   \n",
        "sse1 = np.sum(np.square( y - y_gorro2 ))\n",
        "print(sse1 / len(y))"
      ],
      "execution_count": 30,
      "outputs": [
        {
          "output_type": "stream",
          "name": "stdout",
          "text": [
            "2065322.1714365936\n"
          ]
        }
      ]
    },
    {
      "cell_type": "markdown",
      "metadata": {
        "id": "Sr3XIyV8O3qc"
      },
      "source": [
        "Vemos que el MSE cuadrático es menor que el MSE del modelo solo lineal: 2'255,173.8"
      ]
    },
    {
      "cell_type": "markdown",
      "metadata": {
        "id": "m8O1zwWTEC-o"
      },
      "source": [
        "#Ahora un cúbico ..."
      ]
    },
    {
      "cell_type": "code",
      "metadata": {
        "id": "02vzCVBoEG3D"
      },
      "source": [
        "xones3 = xones2.copy()\n",
        "xones3[\"nonlin3\"] = np.square(xones3[\"atemp\"]) * xones3[\"atemp\"]"
      ],
      "execution_count": 31,
      "outputs": []
    },
    {
      "cell_type": "code",
      "metadata": {
        "id": "bIfWfxF-WFM8",
        "colab": {
          "base_uri": "https://localhost:8080/",
          "height": 206
        },
        "outputId": "1b748d9f-cc66-40ba-898d-fbf71542e793"
      },
      "source": [
        "xones3.head()"
      ],
      "execution_count": 32,
      "outputs": [
        {
          "output_type": "execute_result",
          "data": {
            "text/html": [
              "<div>\n",
              "<style scoped>\n",
              "    .dataframe tbody tr th:only-of-type {\n",
              "        vertical-align: middle;\n",
              "    }\n",
              "\n",
              "    .dataframe tbody tr th {\n",
              "        vertical-align: top;\n",
              "    }\n",
              "\n",
              "    .dataframe thead th {\n",
              "        text-align: right;\n",
              "    }\n",
              "</style>\n",
              "<table border=\"1\" class=\"dataframe\">\n",
              "  <thead>\n",
              "    <tr style=\"text-align: right;\">\n",
              "      <th></th>\n",
              "      <th>const</th>\n",
              "      <th>atemp</th>\n",
              "      <th>nonlin2</th>\n",
              "      <th>nonlin3</th>\n",
              "    </tr>\n",
              "  </thead>\n",
              "  <tbody>\n",
              "    <tr>\n",
              "      <th>0</th>\n",
              "      <td>1.0</td>\n",
              "      <td>0.363625</td>\n",
              "      <td>0.132223</td>\n",
              "      <td>0.048080</td>\n",
              "    </tr>\n",
              "    <tr>\n",
              "      <th>1</th>\n",
              "      <td>1.0</td>\n",
              "      <td>0.353739</td>\n",
              "      <td>0.125131</td>\n",
              "      <td>0.044264</td>\n",
              "    </tr>\n",
              "    <tr>\n",
              "      <th>2</th>\n",
              "      <td>1.0</td>\n",
              "      <td>0.189405</td>\n",
              "      <td>0.035874</td>\n",
              "      <td>0.006795</td>\n",
              "    </tr>\n",
              "    <tr>\n",
              "      <th>3</th>\n",
              "      <td>1.0</td>\n",
              "      <td>0.212122</td>\n",
              "      <td>0.044996</td>\n",
              "      <td>0.009545</td>\n",
              "    </tr>\n",
              "    <tr>\n",
              "      <th>4</th>\n",
              "      <td>1.0</td>\n",
              "      <td>0.229270</td>\n",
              "      <td>0.052565</td>\n",
              "      <td>0.012052</td>\n",
              "    </tr>\n",
              "  </tbody>\n",
              "</table>\n",
              "</div>"
            ],
            "text/plain": [
              "   const     atemp   nonlin2   nonlin3\n",
              "0    1.0  0.363625  0.132223  0.048080\n",
              "1    1.0  0.353739  0.125131  0.044264\n",
              "2    1.0  0.189405  0.035874  0.006795\n",
              "3    1.0  0.212122  0.044996  0.009545\n",
              "4    1.0  0.229270  0.052565  0.012052"
            ]
          },
          "metadata": {},
          "execution_count": 32
        }
      ]
    },
    {
      "cell_type": "markdown",
      "metadata": {
        "id": "fo8CAZKhEuYi"
      },
      "source": [
        "Vemos que mejorará el R2_ajuste pero a costa de ser ahorna no significativos la ordenada en el origen y la lineal de atemp, lo cual para predicciones no nos ayudará... así que mejor nos quedaremos con el modelo cuadrático únicamente."
      ]
    },
    {
      "cell_type": "code",
      "metadata": {
        "id": "uPaZebIYEiCc",
        "colab": {
          "base_uri": "https://localhost:8080/"
        },
        "outputId": "66622f27-afee-4f44-944a-2e3940cc70b5"
      },
      "source": [
        "mimodelo3 = sm.OLS(y, xones3).fit()\n",
        "print(mimodelo3.summary())"
      ],
      "execution_count": 35,
      "outputs": [
        {
          "output_type": "stream",
          "name": "stdout",
          "text": [
            "                            OLS Regression Results                            \n",
            "==============================================================================\n",
            "Dep. Variable:                    cnt   R-squared:                       0.465\n",
            "Model:                            OLS   Adj. R-squared:                  0.463\n",
            "Method:                 Least Squares   F-statistic:                     210.5\n",
            "Date:                Thu, 02 Sep 2021   Prob (F-statistic):           2.90e-98\n",
            "Time:                        23:36:30   Log-Likelihood:                -6341.2\n",
            "No. Observations:                 731   AIC:                         1.269e+04\n",
            "Df Residuals:                     727   BIC:                         1.271e+04\n",
            "Df Model:                           3                                         \n",
            "Covariance Type:            nonrobust                                         \n",
            "==============================================================================\n",
            "                 coef    std err          t      P>|t|      [0.025      0.975]\n",
            "------------------------------------------------------------------------------\n",
            "const       1270.4218    840.760      1.511      0.131    -380.186    2921.029\n",
            "atemp      -4609.8042   6168.105     -0.747      0.455   -1.67e+04    7499.620\n",
            "nonlin2     4.844e+04   1.41e+04      3.441      0.001    2.08e+04    7.61e+04\n",
            "nonlin3    -4.701e+04   1.01e+04     -4.657      0.000   -6.68e+04   -2.72e+04\n",
            "==============================================================================\n",
            "Omnibus:                        5.442   Durbin-Watson:                   0.543\n",
            "Prob(Omnibus):                  0.066   Jarque-Bera (JB):                3.980\n",
            "Skew:                           0.013   Prob(JB):                        0.137\n",
            "Kurtosis:                       2.639   Cond. No.                         401.\n",
            "==============================================================================\n",
            "\n",
            "Warnings:\n",
            "[1] Standard Errors assume that the covariance matrix of the errors is correctly specified.\n"
          ]
        }
      ]
    },
    {
      "cell_type": "markdown",
      "metadata": {
        "id": "hSqQdbtDPh7W"
      },
      "source": [
        "#... más adelante hay que comparar los MSE pero con los datos de validación o los de prueba."
      ]
    },
    {
      "cell_type": "code",
      "metadata": {
        "id": "oz6SvK3MPU2W",
        "colab": {
          "base_uri": "https://localhost:8080/"
        },
        "outputId": "46d8c7e6-a60e-4364-d2fb-c951557a3e75"
      },
      "source": [
        "y_gorro3 = mimodelo3.predict(xones3)   \n",
        "sse3 = np.sum(np.square( y - y_gorro3 ))\n",
        "print(sse3 / len(y))"
      ],
      "execution_count": 36,
      "outputs": [
        {
          "output_type": "stream",
          "name": "stdout",
          "text": [
            "2005488.5919332055\n"
          ]
        }
      ]
    },
    {
      "cell_type": "markdown",
      "metadata": {
        "id": "L3ZxgatQPz-D"
      },
      "source": [
        "# Modelo no-lineal Logaritmo:"
      ]
    },
    {
      "cell_type": "code",
      "metadata": {
        "id": "zhssi-K2P5LV"
      },
      "source": [
        "xones4 = xones.copy()\n",
        "xones4[\"nonlinlog\"] = np.log(xones4[\"atemp\"])"
      ],
      "execution_count": 37,
      "outputs": []
    },
    {
      "cell_type": "code",
      "metadata": {
        "id": "tQFfCU9dQPX_",
        "colab": {
          "base_uri": "https://localhost:8080/",
          "height": 423
        },
        "outputId": "bcac42db-6bb1-455b-ee4f-097802c65aeb"
      },
      "source": [
        "xones4"
      ],
      "execution_count": 38,
      "outputs": [
        {
          "output_type": "execute_result",
          "data": {
            "text/html": [
              "<div>\n",
              "<style scoped>\n",
              "    .dataframe tbody tr th:only-of-type {\n",
              "        vertical-align: middle;\n",
              "    }\n",
              "\n",
              "    .dataframe tbody tr th {\n",
              "        vertical-align: top;\n",
              "    }\n",
              "\n",
              "    .dataframe thead th {\n",
              "        text-align: right;\n",
              "    }\n",
              "</style>\n",
              "<table border=\"1\" class=\"dataframe\">\n",
              "  <thead>\n",
              "    <tr style=\"text-align: right;\">\n",
              "      <th></th>\n",
              "      <th>const</th>\n",
              "      <th>atemp</th>\n",
              "      <th>nonlinlog</th>\n",
              "    </tr>\n",
              "  </thead>\n",
              "  <tbody>\n",
              "    <tr>\n",
              "      <th>0</th>\n",
              "      <td>1.0</td>\n",
              "      <td>0.363625</td>\n",
              "      <td>-1.011632</td>\n",
              "    </tr>\n",
              "    <tr>\n",
              "      <th>1</th>\n",
              "      <td>1.0</td>\n",
              "      <td>0.353739</td>\n",
              "      <td>-1.039196</td>\n",
              "    </tr>\n",
              "    <tr>\n",
              "      <th>2</th>\n",
              "      <td>1.0</td>\n",
              "      <td>0.189405</td>\n",
              "      <td>-1.663868</td>\n",
              "    </tr>\n",
              "    <tr>\n",
              "      <th>3</th>\n",
              "      <td>1.0</td>\n",
              "      <td>0.212122</td>\n",
              "      <td>-1.550594</td>\n",
              "    </tr>\n",
              "    <tr>\n",
              "      <th>4</th>\n",
              "      <td>1.0</td>\n",
              "      <td>0.229270</td>\n",
              "      <td>-1.472855</td>\n",
              "    </tr>\n",
              "    <tr>\n",
              "      <th>...</th>\n",
              "      <td>...</td>\n",
              "      <td>...</td>\n",
              "      <td>...</td>\n",
              "    </tr>\n",
              "    <tr>\n",
              "      <th>726</th>\n",
              "      <td>1.0</td>\n",
              "      <td>0.226642</td>\n",
              "      <td>-1.484384</td>\n",
              "    </tr>\n",
              "    <tr>\n",
              "      <th>727</th>\n",
              "      <td>1.0</td>\n",
              "      <td>0.255046</td>\n",
              "      <td>-1.366311</td>\n",
              "    </tr>\n",
              "    <tr>\n",
              "      <th>728</th>\n",
              "      <td>1.0</td>\n",
              "      <td>0.242400</td>\n",
              "      <td>-1.417166</td>\n",
              "    </tr>\n",
              "    <tr>\n",
              "      <th>729</th>\n",
              "      <td>1.0</td>\n",
              "      <td>0.231700</td>\n",
              "      <td>-1.462312</td>\n",
              "    </tr>\n",
              "    <tr>\n",
              "      <th>730</th>\n",
              "      <td>1.0</td>\n",
              "      <td>0.223487</td>\n",
              "      <td>-1.498402</td>\n",
              "    </tr>\n",
              "  </tbody>\n",
              "</table>\n",
              "<p>731 rows × 3 columns</p>\n",
              "</div>"
            ],
            "text/plain": [
              "     const     atemp  nonlinlog\n",
              "0      1.0  0.363625  -1.011632\n",
              "1      1.0  0.353739  -1.039196\n",
              "2      1.0  0.189405  -1.663868\n",
              "3      1.0  0.212122  -1.550594\n",
              "4      1.0  0.229270  -1.472855\n",
              "..     ...       ...        ...\n",
              "726    1.0  0.226642  -1.484384\n",
              "727    1.0  0.255046  -1.366311\n",
              "728    1.0  0.242400  -1.417166\n",
              "729    1.0  0.231700  -1.462312\n",
              "730    1.0  0.223487  -1.498402\n",
              "\n",
              "[731 rows x 3 columns]"
            ]
          },
          "metadata": {},
          "execution_count": 38
        }
      ]
    },
    {
      "cell_type": "markdown",
      "metadata": {
        "id": "fuTX5pswWsWd"
      },
      "source": [
        "### Veamos este modelo no-lineal..."
      ]
    },
    {
      "cell_type": "code",
      "metadata": {
        "id": "w7fHD2f5Wcck",
        "colab": {
          "base_uri": "https://localhost:8080/"
        },
        "outputId": "8989c63a-f408-4f51-840f-e95c496af97f"
      },
      "source": [
        "mimodelo4 = sm.OLS(y, xones4).fit()\n",
        "print(mimodelo4.summary())"
      ],
      "execution_count": 39,
      "outputs": [
        {
          "output_type": "stream",
          "name": "stdout",
          "text": [
            "                            OLS Regression Results                            \n",
            "==============================================================================\n",
            "Dep. Variable:                    cnt   R-squared:                       0.427\n",
            "Model:                            OLS   Adj. R-squared:                  0.425\n",
            "Method:                 Least Squares   F-statistic:                     270.8\n",
            "Date:                Thu, 02 Sep 2021   Prob (F-statistic):           1.20e-88\n",
            "Time:                        23:37:10   Log-Likelihood:                -6366.4\n",
            "No. Observations:                 731   AIC:                         1.274e+04\n",
            "Df Residuals:                     728   BIC:                         1.275e+04\n",
            "Df Model:                           2                                         \n",
            "Covariance Type:            nonrobust                                         \n",
            "==============================================================================\n",
            "                 coef    std err          t      P>|t|      [0.025      0.975]\n",
            "------------------------------------------------------------------------------\n",
            "const       8034.6334   1193.184      6.734      0.000    5692.141    1.04e+04\n",
            "atemp      -1189.8417   1486.445     -0.800      0.424   -4108.072    1728.389\n",
            "nonlinlog   3630.7624    605.089      6.000      0.000    2442.834    4818.690\n",
            "==============================================================================\n",
            "Omnibus:                       12.041   Durbin-Watson:                   0.526\n",
            "Prob(Omnibus):                  0.002   Jarque-Bera (JB):                7.517\n",
            "Skew:                           0.071   Prob(JB):                       0.0233\n",
            "Kurtosis:                       2.524   Cond. No.                         51.0\n",
            "==============================================================================\n",
            "\n",
            "Warnings:\n",
            "[1] Standard Errors assume that the covariance matrix of the errors is correctly specified.\n"
          ]
        }
      ]
    },
    {
      "cell_type": "code",
      "metadata": {
        "id": "wnxixvGxZqiC",
        "colab": {
          "base_uri": "https://localhost:8080/"
        },
        "outputId": "70830d66-3129-4a1c-82ac-e5f9b736c352"
      },
      "source": [
        "y_gorro4 = mimodelo4.predict(xones4)   \n",
        "sse4 = np.sum(np.square( y - y_gorro4 ))\n",
        "print(sse4 / len(y))"
      ],
      "execution_count": 40,
      "outputs": [
        {
          "output_type": "stream",
          "name": "stdout",
          "text": [
            "2148896.418192861\n"
          ]
        }
      ]
    },
    {
      "cell_type": "markdown",
      "metadata": {
        "id": "rhByJ6PLW170"
      },
      "source": [
        "# Veamos entonces puro logaritmo:"
      ]
    },
    {
      "cell_type": "code",
      "metadata": {
        "id": "CF2Ub9gFW6MW"
      },
      "source": [
        "xones5 = xones.copy()\n",
        "xones5[\"nonlinlog\"] = np.log(xones[\"atemp\"])\n",
        "xones5 = xones5.drop([\"atemp\"], axis=1)"
      ],
      "execution_count": 41,
      "outputs": []
    },
    {
      "cell_type": "code",
      "metadata": {
        "id": "mdsY65hSXcZS",
        "colab": {
          "base_uri": "https://localhost:8080/",
          "height": 423
        },
        "outputId": "c71af2c8-dce5-4703-b472-7b66f08547f1"
      },
      "source": [
        "xones5"
      ],
      "execution_count": 42,
      "outputs": [
        {
          "output_type": "execute_result",
          "data": {
            "text/html": [
              "<div>\n",
              "<style scoped>\n",
              "    .dataframe tbody tr th:only-of-type {\n",
              "        vertical-align: middle;\n",
              "    }\n",
              "\n",
              "    .dataframe tbody tr th {\n",
              "        vertical-align: top;\n",
              "    }\n",
              "\n",
              "    .dataframe thead th {\n",
              "        text-align: right;\n",
              "    }\n",
              "</style>\n",
              "<table border=\"1\" class=\"dataframe\">\n",
              "  <thead>\n",
              "    <tr style=\"text-align: right;\">\n",
              "      <th></th>\n",
              "      <th>const</th>\n",
              "      <th>nonlinlog</th>\n",
              "    </tr>\n",
              "  </thead>\n",
              "  <tbody>\n",
              "    <tr>\n",
              "      <th>0</th>\n",
              "      <td>1.0</td>\n",
              "      <td>-1.011632</td>\n",
              "    </tr>\n",
              "    <tr>\n",
              "      <th>1</th>\n",
              "      <td>1.0</td>\n",
              "      <td>-1.039196</td>\n",
              "    </tr>\n",
              "    <tr>\n",
              "      <th>2</th>\n",
              "      <td>1.0</td>\n",
              "      <td>-1.663868</td>\n",
              "    </tr>\n",
              "    <tr>\n",
              "      <th>3</th>\n",
              "      <td>1.0</td>\n",
              "      <td>-1.550594</td>\n",
              "    </tr>\n",
              "    <tr>\n",
              "      <th>4</th>\n",
              "      <td>1.0</td>\n",
              "      <td>-1.472855</td>\n",
              "    </tr>\n",
              "    <tr>\n",
              "      <th>...</th>\n",
              "      <td>...</td>\n",
              "      <td>...</td>\n",
              "    </tr>\n",
              "    <tr>\n",
              "      <th>726</th>\n",
              "      <td>1.0</td>\n",
              "      <td>-1.484384</td>\n",
              "    </tr>\n",
              "    <tr>\n",
              "      <th>727</th>\n",
              "      <td>1.0</td>\n",
              "      <td>-1.366311</td>\n",
              "    </tr>\n",
              "    <tr>\n",
              "      <th>728</th>\n",
              "      <td>1.0</td>\n",
              "      <td>-1.417166</td>\n",
              "    </tr>\n",
              "    <tr>\n",
              "      <th>729</th>\n",
              "      <td>1.0</td>\n",
              "      <td>-1.462312</td>\n",
              "    </tr>\n",
              "    <tr>\n",
              "      <th>730</th>\n",
              "      <td>1.0</td>\n",
              "      <td>-1.498402</td>\n",
              "    </tr>\n",
              "  </tbody>\n",
              "</table>\n",
              "<p>731 rows × 2 columns</p>\n",
              "</div>"
            ],
            "text/plain": [
              "     const  nonlinlog\n",
              "0      1.0  -1.011632\n",
              "1      1.0  -1.039196\n",
              "2      1.0  -1.663868\n",
              "3      1.0  -1.550594\n",
              "4      1.0  -1.472855\n",
              "..     ...        ...\n",
              "726    1.0  -1.484384\n",
              "727    1.0  -1.366311\n",
              "728    1.0  -1.417166\n",
              "729    1.0  -1.462312\n",
              "730    1.0  -1.498402\n",
              "\n",
              "[731 rows x 2 columns]"
            ]
          },
          "metadata": {},
          "execution_count": 42
        }
      ]
    },
    {
      "cell_type": "markdown",
      "metadata": {
        "id": "YJQ6X0_xYdDs"
      },
      "source": [
        "### Se obtiene un resultado de R2_aj análogo. Es mejor que la lineal inicial, pero no mejor que la cuadrática."
      ]
    },
    {
      "cell_type": "code",
      "metadata": {
        "id": "2TO1FjONYA7K",
        "colab": {
          "base_uri": "https://localhost:8080/"
        },
        "outputId": "5b19110f-e4d2-44ab-dce7-3f0e83e82ea5"
      },
      "source": [
        "mimodelo5 = sm.OLS(y, xones5).fit()\n",
        "print(mimodelo5.summary())"
      ],
      "execution_count": 43,
      "outputs": [
        {
          "output_type": "stream",
          "name": "stdout",
          "text": [
            "                            OLS Regression Results                            \n",
            "==============================================================================\n",
            "Dep. Variable:                    cnt   R-squared:                       0.426\n",
            "Model:                            OLS   Adj. R-squared:                  0.425\n",
            "Method:                 Least Squares   F-statistic:                     541.3\n",
            "Date:                Thu, 02 Sep 2021   Prob (F-statistic):           5.64e-90\n",
            "Time:                        23:38:16   Log-Likelihood:                -6366.7\n",
            "No. Observations:                 731   AIC:                         1.274e+04\n",
            "Df Residuals:                     729   BIC:                         1.275e+04\n",
            "Df Model:                           1                                         \n",
            "Covariance Type:            nonrobust                                         \n",
            "==============================================================================\n",
            "                 coef    std err          t      P>|t|      [0.025      0.975]\n",
            "------------------------------------------------------------------------------\n",
            "const       7084.6678    123.497     57.367      0.000    6842.215    7327.120\n",
            "nonlinlog   3158.7691    135.775     23.265      0.000    2892.213    3425.325\n",
            "==============================================================================\n",
            "Omnibus:                       11.935   Durbin-Watson:                   0.520\n",
            "Prob(Omnibus):                  0.003   Jarque-Bera (JB):                7.552\n",
            "Skew:                           0.079   Prob(JB):                       0.0229\n",
            "Kurtosis:                       2.527   Cond. No.                         4.34\n",
            "==============================================================================\n",
            "\n",
            "Warnings:\n",
            "[1] Standard Errors assume that the covariance matrix of the errors is correctly specified.\n"
          ]
        }
      ]
    },
    {
      "cell_type": "code",
      "metadata": {
        "id": "_b-SHejNZycn",
        "colab": {
          "base_uri": "https://localhost:8080/"
        },
        "outputId": "0f13877a-235c-48c0-8318-ad182bb200d1"
      },
      "source": [
        "y_gorro5 = mimodelo5.predict(xones5)   \n",
        "sse5 = np.sum(np.square( y - y_gorro5 ))\n",
        "print(sse5 / len(y))"
      ],
      "execution_count": 44,
      "outputs": [
        {
          "output_type": "stream",
          "name": "stdout",
          "text": [
            "2150787.7367280303\n"
          ]
        }
      ]
    },
    {
      "cell_type": "markdown",
      "metadata": {
        "id": "gLvQPGWmZHHF"
      },
      "source": [
        "# Veamos ahora R2_ajustada con partición:\n",
        "\n",
        "## Usaremos el modelo cuadrátio en el ejemplo."
      ]
    },
    {
      "cell_type": "code",
      "metadata": {
        "id": "ChZ9Ma5nmiR7"
      },
      "source": [
        "from sklearn.model_selection import train_test_split"
      ],
      "execution_count": 45,
      "outputs": []
    },
    {
      "cell_type": "code",
      "metadata": {
        "id": "psycIZ5_ZQl4",
        "colab": {
          "base_uri": "https://localhost:8080/"
        },
        "outputId": "b2ba20b7-a96f-4b51-d225-d9266bff77af"
      },
      "source": [
        "X_train, X_test, y_train, y_test = train_test_split(xones2, y, test_size=0.2, random_state=0)\n",
        "print(X_train.shape, y_train.shape)\n",
        "print(X_test.shape, y_test.shape)"
      ],
      "execution_count": 46,
      "outputs": [
        {
          "output_type": "stream",
          "name": "stdout",
          "text": [
            "(584, 3) (584,)\n",
            "(147, 3) (147,)\n"
          ]
        }
      ]
    },
    {
      "cell_type": "code",
      "metadata": {
        "id": "OG4wCUh-nl1o",
        "colab": {
          "base_uri": "https://localhost:8080/",
          "height": 423
        },
        "outputId": "dc58a692-e52a-4f12-f04e-599317f8c693"
      },
      "source": [
        "X_train"
      ],
      "execution_count": 47,
      "outputs": [
        {
          "output_type": "execute_result",
          "data": {
            "text/html": [
              "<div>\n",
              "<style scoped>\n",
              "    .dataframe tbody tr th:only-of-type {\n",
              "        vertical-align: middle;\n",
              "    }\n",
              "\n",
              "    .dataframe tbody tr th {\n",
              "        vertical-align: top;\n",
              "    }\n",
              "\n",
              "    .dataframe thead th {\n",
              "        text-align: right;\n",
              "    }\n",
              "</style>\n",
              "<table border=\"1\" class=\"dataframe\">\n",
              "  <thead>\n",
              "    <tr style=\"text-align: right;\">\n",
              "      <th></th>\n",
              "      <th>const</th>\n",
              "      <th>atemp</th>\n",
              "      <th>nonlin2</th>\n",
              "    </tr>\n",
              "  </thead>\n",
              "  <tbody>\n",
              "    <tr>\n",
              "      <th>97</th>\n",
              "      <td>1.0</td>\n",
              "      <td>0.324479</td>\n",
              "      <td>0.105287</td>\n",
              "    </tr>\n",
              "    <tr>\n",
              "      <th>503</th>\n",
              "      <td>1.0</td>\n",
              "      <td>0.551121</td>\n",
              "      <td>0.303734</td>\n",
              "    </tr>\n",
              "    <tr>\n",
              "      <th>642</th>\n",
              "      <td>1.0</td>\n",
              "      <td>0.607975</td>\n",
              "      <td>0.369634</td>\n",
              "    </tr>\n",
              "    <tr>\n",
              "      <th>498</th>\n",
              "      <td>1.0</td>\n",
              "      <td>0.585238</td>\n",
              "      <td>0.342504</td>\n",
              "    </tr>\n",
              "    <tr>\n",
              "      <th>303</th>\n",
              "      <td>1.0</td>\n",
              "      <td>0.356063</td>\n",
              "      <td>0.126781</td>\n",
              "    </tr>\n",
              "    <tr>\n",
              "      <th>...</th>\n",
              "      <td>...</td>\n",
              "      <td>...</td>\n",
              "      <td>...</td>\n",
              "    </tr>\n",
              "    <tr>\n",
              "      <th>707</th>\n",
              "      <td>1.0</td>\n",
              "      <td>0.389508</td>\n",
              "      <td>0.151716</td>\n",
              "    </tr>\n",
              "    <tr>\n",
              "      <th>192</th>\n",
              "      <td>1.0</td>\n",
              "      <td>0.739275</td>\n",
              "      <td>0.546528</td>\n",
              "    </tr>\n",
              "    <tr>\n",
              "      <th>629</th>\n",
              "      <td>1.0</td>\n",
              "      <td>0.571971</td>\n",
              "      <td>0.327151</td>\n",
              "    </tr>\n",
              "    <tr>\n",
              "      <th>559</th>\n",
              "      <td>1.0</td>\n",
              "      <td>0.667933</td>\n",
              "      <td>0.446134</td>\n",
              "    </tr>\n",
              "    <tr>\n",
              "      <th>684</th>\n",
              "      <td>1.0</td>\n",
              "      <td>0.324492</td>\n",
              "      <td>0.105295</td>\n",
              "    </tr>\n",
              "  </tbody>\n",
              "</table>\n",
              "<p>584 rows × 3 columns</p>\n",
              "</div>"
            ],
            "text/plain": [
              "     const     atemp   nonlin2\n",
              "97     1.0  0.324479  0.105287\n",
              "503    1.0  0.551121  0.303734\n",
              "642    1.0  0.607975  0.369634\n",
              "498    1.0  0.585238  0.342504\n",
              "303    1.0  0.356063  0.126781\n",
              "..     ...       ...       ...\n",
              "707    1.0  0.389508  0.151716\n",
              "192    1.0  0.739275  0.546528\n",
              "629    1.0  0.571971  0.327151\n",
              "559    1.0  0.667933  0.446134\n",
              "684    1.0  0.324492  0.105295\n",
              "\n",
              "[584 rows x 3 columns]"
            ]
          },
          "metadata": {},
          "execution_count": 47
        }
      ]
    },
    {
      "cell_type": "code",
      "metadata": {
        "id": "gpUEFARpoVjC",
        "colab": {
          "base_uri": "https://localhost:8080/"
        },
        "outputId": "3daf1d53-2479-4424-8edb-de295c7b1861"
      },
      "source": [
        "mimodelop = sm.OLS(y_train, X_train).fit()\n",
        "print(mimodelop.summary())"
      ],
      "execution_count": 48,
      "outputs": [
        {
          "output_type": "stream",
          "name": "stdout",
          "text": [
            "                            OLS Regression Results                            \n",
            "==============================================================================\n",
            "Dep. Variable:                    cnt   R-squared:                       0.454\n",
            "Model:                            OLS   Adj. R-squared:                  0.452\n",
            "Method:                 Least Squares   F-statistic:                     241.9\n",
            "Date:                Thu, 02 Sep 2021   Prob (F-statistic):           3.82e-77\n",
            "Time:                        23:38:40   Log-Likelihood:                -5061.6\n",
            "No. Observations:                 584   AIC:                         1.013e+04\n",
            "Df Residuals:                     581   BIC:                         1.014e+04\n",
            "Df Model:                           2                                         \n",
            "Covariance Type:            nonrobust                                         \n",
            "==============================================================================\n",
            "                 coef    std err          t      P>|t|      [0.025      0.975]\n",
            "------------------------------------------------------------------------------\n",
            "const      -1952.8628    450.042     -4.339      0.000   -2836.770   -1068.955\n",
            "atemp       2.205e+04   2073.898     10.633      0.000     1.8e+04    2.61e+04\n",
            "nonlin2    -1.583e+04   2205.929     -7.175      0.000   -2.02e+04   -1.15e+04\n",
            "==============================================================================\n",
            "Omnibus:                        2.139   Durbin-Watson:                   2.074\n",
            "Prob(Omnibus):                  0.343   Jarque-Bera (JB):                1.900\n",
            "Skew:                           0.033   Prob(JB):                        0.387\n",
            "Kurtosis:                       2.728   Cond. No.                         59.4\n",
            "==============================================================================\n",
            "\n",
            "Warnings:\n",
            "[1] Standard Errors assume that the covariance matrix of the errors is correctly specified.\n"
          ]
        }
      ]
    },
    {
      "cell_type": "code",
      "metadata": {
        "id": "ZF8Z2Lytozi-",
        "colab": {
          "base_uri": "https://localhost:8080/"
        },
        "outputId": "1f56084e-f04f-40e7-91af-d97ded24c696"
      },
      "source": [
        "y_gorrop = mimodelop.predict(X_train)   \n",
        "ssep = np.sum(np.square( y_train - y_gorrop ))\n",
        "print(ssep / len(y_train))"
      ],
      "execution_count": 49,
      "outputs": [
        {
          "output_type": "stream",
          "name": "stdout",
          "text": [
            "1975397.9836182036\n"
          ]
        }
      ]
    },
    {
      "cell_type": "code",
      "metadata": {
        "id": "85QWZfgNpNia",
        "colab": {
          "base_uri": "https://localhost:8080/"
        },
        "outputId": "4a7eaf79-e29d-4897-84ce-bb3ad95b6e52"
      },
      "source": [
        "y_gorrot = mimodelop.predict(X_test)   \n",
        "sset = np.sum(np.square( y_test - y_gorrot ))\n",
        "print(sset / len(y_test))"
      ],
      "execution_count": 50,
      "outputs": [
        {
          "output_type": "stream",
          "name": "stdout",
          "text": [
            "2428586.5967392134\n"
          ]
        }
      ]
    },
    {
      "cell_type": "code",
      "metadata": {
        "id": "IQmK3hRpp28G",
        "colab": {
          "base_uri": "https://localhost:8080/",
          "height": 322
        },
        "outputId": "d9b05680-341c-4f2f-f80e-ab685c830018"
      },
      "source": [
        "b2 = mimodelop.params[2]\n",
        "b1 = mimodelop.params[1]\n",
        "b0 = mimodelop.params[0]\n",
        "ygorrop =  X_train[\"nonlin2\"] * b2 +  X_train[\"atemp\"] * b1 + b0\n",
        "plt.plot(X_train[\"atemp\"], ygorrop, 'ro')\n",
        "plt.scatter(X_train[\"atemp\"],y_train)\n",
        "plt.show()"
      ],
      "execution_count": 51,
      "outputs": [
        {
          "output_type": "display_data",
          "data": {
            "image/png": "[encoded data removed]",
            "text/plain": [
              "<Figure size 432x360 with 1 Axes>"
            ]
          },
          "metadata": {}
        }
      ]
    },
    {
      "cell_type": "markdown",
      "metadata": {
        "id": "EnTjPTDZypmd"
      },
      "source": [
        "# Obtengamos las R2_ajustadas"
      ]
    },
    {
      "cell_type": "code",
      "metadata": {
        "id": "bbJ_J0vlrv9M",
        "colab": {
          "base_uri": "https://localhost:8080/"
        },
        "outputId": "2d9476f9-8291-47c7-e133-960d2a646074"
      },
      "source": [
        "syyt = np.sum(np.square( y_test - np.mean(y_test) ))\n",
        "syyt"
      ],
      "execution_count": 52,
      "outputs": [
        {
          "output_type": "execute_result",
          "data": {
            "text/plain": [
              "625211995.3061225"
            ]
          },
          "metadata": {},
          "execution_count": 52
        }
      ]
    },
    {
      "cell_type": "code",
      "metadata": {
        "id": "D4cs5JUZziyf",
        "colab": {
          "base_uri": "https://localhost:8080/"
        },
        "outputId": "b1858e3b-dc2f-4497-9218-06522ec6b74e"
      },
      "source": [
        "R2test = 1 - sset / syyt\n",
        "R2test"
      ],
      "execution_count": 53,
      "outputs": [
        {
          "output_type": "execute_result",
          "data": {
            "text/plain": [
              "0.42899011471162607"
            ]
          },
          "metadata": {},
          "execution_count": 53
        }
      ]
    },
    {
      "cell_type": "code",
      "metadata": {
        "id": "0x7Y8o6tzuUl",
        "colab": {
          "base_uri": "https://localhost:8080/"
        },
        "outputId": "8d78ee41-727a-4304-f1f8-5beb8de0f1cc"
      },
      "source": [
        "R2testadj = 1 - (len(y_test)-1) * (1 - R2test) / (len(y_test) - 1 - mimodelop.df_model)\n",
        "R2testadj"
      ],
      "execution_count": 54,
      "outputs": [
        {
          "output_type": "execute_result",
          "data": {
            "text/plain": [
              "0.4210594218603987"
            ]
          },
          "metadata": {},
          "execution_count": 54
        }
      ]
    },
    {
      "cell_type": "markdown",
      "metadata": {
        "id": "2QFqiBcd0yhg"
      },
      "source": [
        "# Gráfica de los Residuos:"
      ]
    },
    {
      "cell_type": "code",
      "metadata": {
        "id": "yJ5_MPt90x5j",
        "colab": {
          "base_uri": "https://localhost:8080/",
          "height": 338
        },
        "outputId": "4b24a235-303f-4b1c-8763-492a54de6bc0"
      },
      "source": [
        "xx = a = [x for x in range(len(y_train))]\n",
        "epsk = y_train - ygorrop\n",
        "plt.scatter(xx,epsk)\n",
        "plt.title(\"Residuos del modelo cuadrático\")\n",
        "plt.show()"
      ],
      "execution_count": 55,
      "outputs": [
        {
          "output_type": "display_data",
          "data": {
            "image/png": "[encoded data removed]",
            "text/plain": [
              "<Figure size 432x360 with 1 Axes>"
            ]
          },
          "metadata": {}
        }
      ]
    },
    {
      "cell_type": "markdown",
      "metadata": {
        "id": "C_xE5Ive67ud"
      },
      "source": [
        "# Modelo Lineal y R2_ajustada"
      ]
    },
    {
      "cell_type": "code",
      "metadata": {
        "id": "lluD-MIu67PG",
        "colab": {
          "base_uri": "https://localhost:8080/"
        },
        "outputId": "19b2c984-07c2-4dbd-f8bd-044f52188e0e"
      },
      "source": [
        "X_trainlin, X_testlin, y_trainlin, y_testlin = train_test_split(xones, y, test_size=0.2, random_state=0)\n",
        "mimodeloplin = sm.OLS(y_trainlin, X_trainlin).fit()\n",
        "print(mimodeloplin.summary())"
      ],
      "execution_count": 56,
      "outputs": [
        {
          "output_type": "stream",
          "name": "stdout",
          "text": [
            "                            OLS Regression Results                            \n",
            "==============================================================================\n",
            "Dep. Variable:                    cnt   R-squared:                       0.406\n",
            "Model:                            OLS   Adj. R-squared:                  0.405\n",
            "Method:                 Least Squares   F-statistic:                     397.7\n",
            "Date:                Thu, 02 Sep 2021   Prob (F-statistic):           7.84e-68\n",
            "Time:                        23:39:16   Log-Likelihood:                -5086.4\n",
            "No. Observations:                 584   AIC:                         1.018e+04\n",
            "Df Residuals:                     582   BIC:                         1.019e+04\n",
            "Df Model:                           1                                         \n",
            "Covariance Type:            nonrobust                                         \n",
            "==============================================================================\n",
            "                 coef    std err          t      P>|t|      [0.025      0.975]\n",
            "------------------------------------------------------------------------------\n",
            "const       1015.1256    184.787      5.493      0.000     652.195    1378.056\n",
            "atemp       7392.4409    370.674     19.943      0.000    6664.420    8120.462\n",
            "==============================================================================\n",
            "Omnibus:                        6.427   Durbin-Watson:                   2.081\n",
            "Prob(Omnibus):                  0.040   Jarque-Bera (JB):                5.345\n",
            "Skew:                           0.150   Prob(JB):                       0.0691\n",
            "Kurtosis:                       2.640   Cond. No.                         7.48\n",
            "==============================================================================\n",
            "\n",
            "Warnings:\n",
            "[1] Standard Errors assume that the covariance matrix of the errors is correctly specified.\n"
          ]
        }
      ]
    },
    {
      "cell_type": "code",
      "metadata": {
        "id": "Y-8JSwsa72Nj",
        "colab": {
          "base_uri": "https://localhost:8080/"
        },
        "outputId": "eb7667c5-1085-4a90-a00b-6e6bacb75343"
      },
      "source": [
        "syytlin = np.sum(np.square( y_testlin - np.mean(y_testlin) ))\n",
        "\n",
        "y_gorrotlin = mimodeloplin.predict(X_testlin)   \n",
        "ssetlin = np.sum(np.square( y_testlin - y_gorrotlin ))\n",
        "\n",
        "R2testlin = 1 - ssetlin / syytlin\n",
        "R2testlin"
      ],
      "execution_count": 57,
      "outputs": [
        {
          "output_type": "execute_result",
          "data": {
            "text/plain": [
              "0.371195182962035"
            ]
          },
          "metadata": {},
          "execution_count": 57
        }
      ]
    },
    {
      "cell_type": "code",
      "metadata": {
        "id": "WTxRPWN_8Uj1",
        "colab": {
          "base_uri": "https://localhost:8080/"
        },
        "outputId": "8a29e642-e1c2-4fee-cf60-e5f921caa290"
      },
      "source": [
        "R2testadjlin = 1 - (len(y_testlin)-1) * (1 - R2testlin) / (len(y_testlin) - 1 - mimodeloplin.df_model)\n",
        "R2testadjlin"
      ],
      "execution_count": 58,
      "outputs": [
        {
          "output_type": "execute_result",
          "data": {
            "text/plain": [
              "0.36685859801694554"
            ]
          },
          "metadata": {},
          "execution_count": 58
        }
      ]
    },
    {
      "cell_type": "code",
      "metadata": {
        "id": "cY6f7NOS8uiH"
      },
      "source": [
        "b1lin = mimodeloplin.params[1]\n",
        "b0lin = mimodeloplin.params[0]\n",
        "ygorroplin =  X_trainlin[\"atemp\"] * b1lin + b0lin"
      ],
      "execution_count": 59,
      "outputs": []
    },
    {
      "cell_type": "code",
      "metadata": {
        "id": "99M_yRTQ8c8x",
        "colab": {
          "base_uri": "https://localhost:8080/",
          "height": 338
        },
        "outputId": "fb86ee12-776e-4932-9f32-0842b7b1477d"
      },
      "source": [
        "epsklin = y_trainlin - ygorroplin\n",
        "plt.scatter(xx,epsklin)\n",
        "plt.title(\"Residuos del modelo lineal-train\")\n",
        "plt.show()"
      ],
      "execution_count": 60,
      "outputs": [
        {
          "output_type": "display_data",
          "data": {
            "image/png": "[encoded data removed]",
            "text/plain": [
              "<Figure size 432x360 with 1 Axes>"
            ]
          },
          "metadata": {}
        }
      ]
    },
    {
      "cell_type": "code",
      "metadata": {
        "id": "LZi2pcXG9Dne",
        "colab": {
          "base_uri": "https://localhost:8080/"
        },
        "outputId": "ddb0d556-44a9-4ee0-b27e-5dd20b4dc6ed"
      },
      "source": [
        "ssetlin # SSE del modelo lineal"
      ],
      "execution_count": 61,
      "outputs": [
        {
          "output_type": "execute_result",
          "data": {
            "text/plain": [
              "393136314.3184074"
            ]
          },
          "metadata": {},
          "execution_count": 61
        }
      ]
    },
    {
      "cell_type": "code",
      "metadata": {
        "id": "GfeQQVuK9JVo",
        "colab": {
          "base_uri": "https://localhost:8080/"
        },
        "outputId": "a4ccac67-6884-4e66-e2dd-e5e3c42e2069"
      },
      "source": [
        "sset   # SSE del modelo cuadrático: el cuadrático es más pequeño ;)"
      ],
      "execution_count": 62,
      "outputs": [
        {
          "output_type": "execute_result",
          "data": {
            "text/plain": [
              "357002229.7206644"
            ]
          },
          "metadata": {},
          "execution_count": 62
        }
      ]
    },
    {
      "cell_type": "markdown",
      "metadata": {
        "id": "G3p6rysP-Ayf"
      },
      "source": [
        "# Boxplot de los residuos:"
      ]
    },
    {
      "cell_type": "code",
      "metadata": {
        "id": "DLb_I-ru-UDO",
        "colab": {
          "base_uri": "https://localhost:8080/",
          "height": 338
        },
        "outputId": "86bad2fc-eef6-4426-8e1d-e334a28a2f87"
      },
      "source": [
        "plt.boxplot(epsklin, vert=True)\n",
        "plt.title(\"modelo lineal - bike\")\n",
        "plt.ylabel('Total de bicicletas rentadas',fontsize=12)\n",
        "plt.show()"
      ],
      "execution_count": 63,
      "outputs": [
        {
          "output_type": "display_data",
          "data": {
            "image/png": "[encoded data removed]",
            "text/plain": [
              "<Figure size 432x360 with 1 Axes>"
            ]
          },
          "metadata": {}
        }
      ]
    },
    {
      "cell_type": "code",
      "metadata": {
        "id": "5Jwh14CU_PM_",
        "colab": {
          "base_uri": "https://localhost:8080/",
          "height": 338
        },
        "outputId": "c522a975-4c76-4bfa-ab29-3b6ea8fab752"
      },
      "source": [
        "plt.boxplot(epsk, vert=True)\n",
        "plt.title(\"modelo cuadrático - bike\")\n",
        "plt.ylabel('Total de bicicletas rentadas',fontsize=12)\n",
        "plt.show()"
      ],
      "execution_count": 64,
      "outputs": [
        {
          "output_type": "display_data",
          "data": {
            "image/png": "[encoded data removed]",
            "text/plain": [
              "<Figure size 432x360 with 1 Axes>"
            ]
          },
          "metadata": {}
        }
      ]
    }
  ]
}