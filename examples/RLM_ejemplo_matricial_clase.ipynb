{
  "nbformat": 4,
  "nbformat_minor": 0,
  "metadata": {
    "colab": {
      "name": "RLM_ejemplo_matricial_clase.ipynb",
      "provenance": [],
      "collapsed_sections": []
    },
    "kernelspec": {
      "name": "python3",
      "display_name": "Python 3"
    }
  },
  "cells": [
    {
      "cell_type": "markdown",
      "metadata": {
        "id": "LqkD2_SguwJ8"
      },
      "source": [
        "#**Ejemplo básico con solución matricial**"
      ]
    },
    {
      "cell_type": "code",
      "metadata": {
        "id": "5rgiBcf0j401"
      },
      "source": [
        "import pandas as pd\n",
        "import statsmodels.api as sm\n",
        "import matplotlib.pyplot as plt\n",
        "import numpy as np"
      ],
      "execution_count": null,
      "outputs": []
    },
    {
      "cell_type": "code",
      "metadata": {
        "id": "pTwij8yAiKDI"
      },
      "source": [
        "mydata = {'x1':[1,-2,5,0,-4,2,3],\n",
        "          'x2':[4,2,-3,5,7,-1,-5],\n",
        "          'x3':[2,4,1,3,-2,-3,-4],\n",
        "          'y':[5,-10,15,-1,-5,12,20]}"
      ],
      "execution_count": 2,
      "outputs": []
    },
    {
      "cell_type": "code",
      "metadata": {
        "id": "u1-UMhqjjyb3"
      },
      "source": [
        "df = pd.DataFrame(mydata)\n",
        "df.head(7)"
      ],
      "execution_count": null,
      "outputs": []
    },
    {
      "cell_type": "code",
      "metadata": {
        "id": "Qr_7dgRTv2_Z"
      },
      "source": [
        "df.corr(method='pearson')"
      ],
      "execution_count": null,
      "outputs": []
    },
    {
      "cell_type": "markdown",
      "metadata": {
        "id": "U6gjfIR5l7fN"
      },
      "source": [
        "###**Definimos la matriz de los datos de entrada X (variables independientes) y la de la variable de salida Y (variable dependiente):**"
      ]
    },
    {
      "cell_type": "code",
      "metadata": {
        "id": "SQHFTHyemLYu"
      },
      "source": [
        "x = df[['x1','x2','x3']]\n",
        "y = df[['y']]"
      ],
      "execution_count": 5,
      "outputs": []
    },
    {
      "cell_type": "code",
      "metadata": {
        "id": "IEvp9qccnZF6"
      },
      "source": [
        "x.head()"
      ],
      "execution_count": null,
      "outputs": []
    },
    {
      "cell_type": "code",
      "metadata": {
        "id": "KfxJB-DUt0OK"
      },
      "source": [
        "y.head()"
      ],
      "execution_count": null,
      "outputs": []
    },
    {
      "cell_type": "markdown",
      "metadata": {
        "id": "dzRyNMoGlJBm"
      },
      "source": [
        "###**Agregamos la columna de 1s:**"
      ]
    },
    {
      "cell_type": "code",
      "metadata": {
        "id": "VNJbpiVIlWPa"
      },
      "source": [
        "Xones = sm.add_constant(x)\n",
        "Xones.head()"
      ],
      "execution_count": null,
      "outputs": []
    },
    {
      "cell_type": "code",
      "metadata": {
        "id": "hASF_4aKnq6h"
      },
      "source": [
        "np.asarray(Xones)"
      ],
      "execution_count": null,
      "outputs": []
    },
    {
      "cell_type": "markdown",
      "metadata": {
        "id": "SHqdESMLuQwy"
      },
      "source": [
        "## Usando librería:"
      ]
    },
    {
      "cell_type": "code",
      "metadata": {
        "id": "jzg6Gh94uVUg"
      },
      "source": [
        "model = sm.OLS(y, Xones).fit()\n",
        "print(model.summary())"
      ],
      "execution_count": null,
      "outputs": []
    },
    {
      "cell_type": "markdown",
      "metadata": {
        "id": "u9vYcpmYvLVD"
      },
      "source": [
        "###**Usamos el Coeficiente de Correlación de Pearson para evaluar el desempeño del modelo:**"
      ]
    },
    {
      "cell_type": "code",
      "metadata": {
        "id": "LS_BCjRdvTt2"
      },
      "source": [
        "predictions = model.predict(Xones) \n",
        "np.corrcoef(predictions, y.T)"
      ],
      "execution_count": null,
      "outputs": []
    },
    {
      "cell_type": "code",
      "metadata": {
        "id": "ttyr8WYc0bjL"
      },
      "source": [
        "print(predictions)\n",
        "print(y)"
      ],
      "execution_count": null,
      "outputs": []
    },
    {
      "cell_type": "markdown",
      "metadata": {
        "id": "aMzjbQGY0_hm"
      },
      "source": [
        "#**Matricialmente**"
      ]
    },
    {
      "cell_type": "code",
      "metadata": {
        "id": "K5mMXP2h1CQy"
      },
      "source": [
        "Xplus = np.linalg.pinv(Xones)  # matriz inversa de Moore-Penrose"
      ],
      "execution_count": null,
      "outputs": []
    },
    {
      "cell_type": "markdown",
      "metadata": {
        "id": "jXiwZJzj45Ts"
      },
      "source": [
        "###**O bien, la obtenemos mediante productos matriciales, la matriz de Moore-Penrose:**\n",
        "\n",
        "$(X^T * X)^{-1} * X^T$"
      ]
    },
    {
      "cell_type": "code",
      "metadata": {
        "id": "koVXQqyU2Lzg"
      },
      "source": [
        "mp = np.matmul(np.linalg.inv(np.matmul(np.array(Xones.T), np.array(Xones))), Xones.T)\n",
        "mp"
      ],
      "execution_count": null,
      "outputs": []
    },
    {
      "cell_type": "markdown",
      "metadata": {
        "id": "0IoASPZW7iyA"
      },
      "source": [
        "###**Coeficientes de regresión:**\n",
        "\n",
        "\n",
        "$\\hat{\\beta} = (X^T * X)^{-1} * X^T * Y$"
      ]
    },
    {
      "cell_type": "code",
      "metadata": {
        "id": "osTQbins3fl3"
      },
      "source": [
        "beta = np.matmul(np.array(mp), np.array(y))\n",
        "beta"
      ],
      "execution_count": null,
      "outputs": []
    },
    {
      "cell_type": "markdown",
      "metadata": {
        "id": "AlUJSUES7AnH"
      },
      "source": [
        "###**Es decir, la ecuación de regresión es:**\n",
        "\n",
        "$\\hat{y} = 2.9405 + 3.0837x_1 + 0.18803x_2 - 1.6945x_3$"
      ]
    },
    {
      "cell_type": "markdown",
      "metadata": {
        "id": "2-pHweqeEFGi"
      },
      "source": [
        "#**Predicciones:**"
      ]
    },
    {
      "cell_type": "code",
      "metadata": {
        "id": "4o3lo_KR7DdV"
      },
      "source": [
        "print(np.matmul(np.array(Xones), np.array(beta)))\n",
        "print(predictions)\n"
      ],
      "execution_count": null,
      "outputs": []
    },
    {
      "cell_type": "markdown",
      "metadata": {
        "id": "McC2ciiWxDaC"
      },
      "source": [
        "###**Suma de Cuadrados**"
      ]
    },
    {
      "cell_type": "code",
      "metadata": {
        "id": "g9hZoc_wFUoF"
      },
      "source": [
        "SSE = np.sum(np.power(predictions - y.values.reshape(7,), 2), axis=0)\n",
        "SSE"
      ],
      "execution_count": null,
      "outputs": []
    },
    {
      "cell_type": "code",
      "metadata": {
        "id": "1tsF3dpKxx75"
      },
      "source": [
        "Syy =  np.sum(np.power(y.values - np.mean(y.values), 2))\n",
        "Syy"
      ],
      "execution_count": null,
      "outputs": []
    },
    {
      "cell_type": "code",
      "metadata": {
        "id": "Qhm_2SVSy_be"
      },
      "source": [
        "R2 = 1 - SSE/Syy\n",
        "R2"
      ],
      "execution_count": null,
      "outputs": []
    },
    {
      "cell_type": "code",
      "metadata": {
        "id": "Cfbx3tXO1kv9"
      },
      "source": [
        "N = x.shape[0]\n",
        "k = x.shape[1]\n",
        "\n",
        "R2_ajustada = 1 - (N-1)*(1-R2) / (N-k-1)\n",
        "R2_ajustada"
      ],
      "execution_count": null,
      "outputs": []
    }
  ]
}