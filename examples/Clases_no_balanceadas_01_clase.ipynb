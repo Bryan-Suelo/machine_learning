{
  "nbformat": 4,
  "nbformat_minor": 0,
  "metadata": {
    "colab": {
      "name": "Clases_no_balanceadas_01_clase.ipynb",
      "provenance": [],
      "collapsed_sections": []
    },
    "kernelspec": {
      "name": "python3",
      "display_name": "Python 3"
    },
    "language_info": {
      "name": "python"
    }
  },
  "cells": [
    {
      "cell_type": "code",
      "metadata": {
        "id": "I71z03pM7e6R"
      },
      "source": [
        "from sklearn.datasets import make_classification   # para generar datos sintéticos desbalanceados\n",
        "from collections import Counter \n",
        "\n",
        "from sklearn.model_selection import train_test_split\n",
        "\n",
        "from sklearn.model_selection import RepeatedStratifiedKFold, cross_val_score, cross_val_predict\n",
        "from sklearn.linear_model import LogisticRegression\n",
        "from sklearn.metrics import confusion_matrix\n",
        "\n",
        "\n",
        "import matplotlib.pyplot as plt\n",
        "\n",
        "import numpy as np\n",
        "from numpy import where \n",
        "\n"
      ],
      "execution_count": 1,
      "outputs": []
    },
    {
      "cell_type": "markdown",
      "metadata": {
        "id": "eooC4kva__UF"
      },
      "source": [
        "Generemos un problema de n-clases desbalanceado: \n",
        "\n",
        "Genera nubes de distribución normal con std=1.\n",
        "\n",
        "https://scikit-learn.org/stable/modules/generated/sklearn.datasets.make_classification.html  \n"
      ]
    },
    {
      "cell_type": "code",
      "metadata": {
        "colab": {
          "base_uri": "https://localhost:8080/"
        },
        "id": "qX23wlN_7VAg",
        "outputId": "2a5421fd-dfcf-4ae2-d82b-7effddbc8f3c"
      },
      "source": [
        "X, y = make_classification(n_samples=10000, \n",
        "                           n_features=2,  # variables de entrada\n",
        "                           n_redundant=0, # si deseas features redundantes (que una sea combinación lineal de otras)   \n",
        "                           n_clusters_per_class=1, \n",
        "                           weights=[0.99],  # para generar las clases desbalanceadas: [0.7,0.3]\n",
        "                           flip_y=0.0,      # Introduce ruido en cada clase, cambiando su etiqueta.\n",
        "                           random_state=17)\n",
        "\n",
        "print(X.shape)\n",
        "print(y.shape)"
      ],
      "execution_count": 100,
      "outputs": [
        {
          "output_type": "stream",
          "name": "stdout",
          "text": [
            "(10000, 2)\n",
            "(10000,)\n"
          ]
        }
      ]
    },
    {
      "cell_type": "code",
      "metadata": {
        "colab": {
          "base_uri": "https://localhost:8080/"
        },
        "id": "S7wVv28KFtAQ",
        "outputId": "49a65819-fd3c-4644-e149-e32bbbcab81e"
      },
      "source": [
        "X[0:4,:]"
      ],
      "execution_count": 96,
      "outputs": [
        {
          "output_type": "execute_result",
          "data": {
            "text/plain": [
              "array([[-0.51655345, -1.22440796],\n",
              "       [-2.08535462, -0.48147323],\n",
              "       [ 0.13775898, -1.46554355],\n",
              "       [-2.31487575, -0.30636689]])"
            ]
          },
          "metadata": {},
          "execution_count": 96
        }
      ]
    },
    {
      "cell_type": "code",
      "metadata": {
        "colab": {
          "base_uri": "https://localhost:8080/"
        },
        "id": "SNoakNWnFvbI",
        "outputId": "0e4f6c8a-77e3-48ca-bec0-19caecd59be9"
      },
      "source": [
        "y[0:4]"
      ],
      "execution_count": 13,
      "outputs": [
        {
          "output_type": "execute_result",
          "data": {
            "text/plain": [
              "array([0, 0, 0, 0])"
            ]
          },
          "metadata": {},
          "execution_count": 13
        }
      ]
    },
    {
      "cell_type": "code",
      "metadata": {
        "colab": {
          "base_uri": "https://localhost:8080/"
        },
        "id": "ajNTvUyf7omw",
        "outputId": "f86bba7e-fb22-4b08-e20b-185ab931feed"
      },
      "source": [
        "counter = Counter(y)\n",
        "print(counter)"
      ],
      "execution_count": 97,
      "outputs": [
        {
          "output_type": "stream",
          "name": "stdout",
          "text": [
            "Counter({0: 99, 1: 1})\n"
          ]
        }
      ]
    },
    {
      "cell_type": "code",
      "metadata": {
        "colab": {
          "base_uri": "https://localhost:8080/",
          "height": 265
        },
        "id": "L2x9vwKY72G2",
        "outputId": "bf59a70b-bf09-4170-b33a-57439bf38fd2"
      },
      "source": [
        "for label, _ in counter.items():   # label (tuple): 0 y 1\n",
        "  idxs = where(y == label)[0]      # obtenemos el renglón de cada registro en la clase indicada\n",
        "  plt.scatter(X[idxs, 0], X[idxs, 1], label=str(label))\n",
        "  \n",
        "plt.legend()\n",
        "plt.show()"
      ],
      "execution_count": 101,
      "outputs": [
        {
          "output_type": "display_data",
          "data": {
            "image/png": "[encoded data removed]",
            "text/plain": [
              "<Figure size 432x288 with 1 Axes>"
            ]
          },
          "metadata": {
            "needs_background": "light"
          }
        }
      ]
    },
    {
      "cell_type": "code",
      "metadata": {
        "id": "HUZ6EPjxbOyF"
      },
      "source": [
        "# Modelo base:\n",
        "# Todo nuevo dato de entrada lo clasificamos como de la clase del 0\n",
        "# Con una exactitud del 99%  "
      ],
      "execution_count": null,
      "outputs": []
    },
    {
      "cell_type": "markdown",
      "metadata": {
        "id": "BemQS5Ok7oIx"
      },
      "source": [
        "###**Partición con estratificación con respecto a la varible de etiquetas reales:**"
      ]
    },
    {
      "cell_type": "code",
      "metadata": {
        "colab": {
          "base_uri": "https://localhost:8080/"
        },
        "id": "6ZRVnugi5tHo",
        "outputId": "6a85d7d7-b680-4f45-b6a1-e6f8f03cbd03"
      },
      "source": [
        "X_train, X_test, y_train, y_test = train_test_split(X, y, train_size=0.6, stratify=y)  \n",
        "\n",
        "print(Counter(y_train))\n",
        "print(Counter(y_test))"
      ],
      "execution_count": 102,
      "outputs": [
        {
          "output_type": "stream",
          "name": "stdout",
          "text": [
            "Counter({0: 5940, 1: 60})\n",
            "Counter({0: 3960, 1: 40})\n"
          ]
        }
      ]
    },
    {
      "cell_type": "markdown",
      "metadata": {
        "id": "uTGcRlbFG8QF"
      },
      "source": [
        "###**KFold vs StratifiedKFold vs RepeatedStratifiedKFold**\n",
        "\n",
        "https://scikit-learn.org/stable/modules/generated/sklearn.model_selection.KFold.html\n",
        "\n",
        "https://scikit-learn.org/stable/modules/generated/sklearn.model_selection.StratifiedKFold.html\n",
        "\n",
        "https://scikit-learn.org/stable/modules/generated/sklearn.model_selection.RepeatedStratifiedKFold.html"
      ]
    },
    {
      "cell_type": "code",
      "metadata": {
        "colab": {
          "base_uri": "https://localhost:8080/"
        },
        "id": "1M4mv-sDJWti",
        "outputId": "d05892c4-34ed-4d63-d88e-810706369eed"
      },
      "source": [
        "modelo_LR = LogisticRegression(class_weight={0:1, 1:99},      # class_weight={0:1, 1:99} <--- matriz de costo\n",
        "                               penalty='l2',\n",
        "                               C=1.0,\n",
        "                               solver='lbfgs',\n",
        "                               max_iter=1000,\n",
        "                               tol=0.0001)   \n",
        "\n",
        "cv = RepeatedStratifiedKFold(n_splits=10, n_repeats=3)\n",
        "\n",
        "#scores = cross_val_score(modelo_LR, X_train, y_train, scoring='accuracy', cv=cv)\n",
        "scores = cross_val_score(modelo_LR, X_train, y_train, scoring='recall', cv=cv)\n",
        "#scores = cross_val_score(modelo_LR, X_train, y_train, scoring='precision', cv=cv)\n",
        "#scores = cross_val_score(modelo_LR, X_train, y_train, scoring='f1', cv=cv)\n",
        "\n",
        "print('Métrica : Valor promedio CV: %.2f%%' % (np.mean(scores)*100))"
      ],
      "execution_count": 70,
      "outputs": [
        {
          "output_type": "stream",
          "name": "stdout",
          "text": [
            "Métrica : Valor promedio CV: 92.78%\n"
          ]
        }
      ]
    },
    {
      "cell_type": "code",
      "metadata": {
        "colab": {
          "base_uri": "https://localhost:8080/",
          "height": 265
        },
        "id": "bSi7CxphM7hb",
        "outputId": "94cd4526-64af-4441-eb5e-35362912fbe1"
      },
      "source": [
        "plt.boxplot(scores, labels=['LR'], showmeans=True)\n",
        "plt.show()"
      ],
      "execution_count": 66,
      "outputs": [
        {
          "output_type": "display_data",
          "data": {
            "image/png": "[encoded data removed]",
            "text/plain": [
              "<Figure size 432x288 with 1 Axes>"
            ]
          },
          "metadata": {
            "needs_background": "light"
          }
        }
      ]
    },
    {
      "cell_type": "code",
      "metadata": {
        "colab": {
          "base_uri": "https://localhost:8080/"
        },
        "id": "UvI9XyxROR2B",
        "outputId": "5e52157d-3bfd-47c2-fcf8-4f48003612cb"
      },
      "source": [
        "modelo_LR.fit(X_train, y_train)\n",
        "\n",
        "pred=modelo_LR.predict(X_test)\n",
        "\n",
        "cm = confusion_matrix(y_test, pred)\n",
        "print(cm)\n",
        "\n",
        "t = cm.sum()\n",
        "print(cm[0,0]/t, cm[0,1]/t)\n",
        "print(cm[1,0]/t, cm[1,1]/t)"
      ],
      "execution_count": 71,
      "outputs": [
        {
          "output_type": "stream",
          "name": "stdout",
          "text": [
            "[[3367  593]\n",
            " [   1   39]]\n",
            "0.84175 0.14825\n",
            "0.00025 0.00975\n"
          ]
        }
      ]
    },
    {
      "cell_type": "code",
      "metadata": {
        "id": "tIq84W_1-aR3"
      },
      "source": [
        "from sklearn.metrics import f1_score\n",
        "from sklearn.metrics import precision_score\n",
        "from sklearn.metrics import recall_score"
      ],
      "execution_count": 55,
      "outputs": []
    },
    {
      "cell_type": "code",
      "metadata": {
        "colab": {
          "base_uri": "https://localhost:8080/"
        },
        "id": "G13FqbeW9VEI",
        "outputId": "b4ae9b1e-3e0a-4d0d-9e8b-9debdd4d92fe"
      },
      "source": [
        "recall_score(y_test, pred)  # del segundo renglón de cm: 5/40"
      ],
      "execution_count": 72,
      "outputs": [
        {
          "output_type": "execute_result",
          "data": {
            "text/plain": [
              "0.975"
            ]
          },
          "metadata": {},
          "execution_count": 72
        }
      ]
    },
    {
      "cell_type": "code",
      "metadata": {
        "colab": {
          "base_uri": "https://localhost:8080/"
        },
        "id": "yqg64AKD-V5u",
        "outputId": "c7259c79-69f3-4710-ca52-d35e4a7203a4"
      },
      "source": [
        "precision_score(y_test,pred)   # de la segunda columna de cm: 5/6"
      ],
      "execution_count": 73,
      "outputs": [
        {
          "output_type": "execute_result",
          "data": {
            "text/plain": [
              "0.061708860759493674"
            ]
          },
          "metadata": {},
          "execution_count": 73
        }
      ]
    },
    {
      "cell_type": "code",
      "metadata": {
        "colab": {
          "base_uri": "https://localhost:8080/"
        },
        "id": "41XIwSBMoL23",
        "outputId": "626fca82-d324-4000-a247-58d8ae6bbec1"
      },
      "source": [
        "f1_score(y_test, pred)"
      ],
      "execution_count": 74,
      "outputs": [
        {
          "output_type": "execute_result",
          "data": {
            "text/plain": [
              "0.11607142857142858"
            ]
          },
          "metadata": {},
          "execution_count": 74
        }
      ]
    },
    {
      "cell_type": "markdown",
      "metadata": {
        "id": "tE4W34w6a_SV"
      },
      "source": [
        "###**Métrica F2-score y F1/2-score**"
      ]
    },
    {
      "cell_type": "code",
      "metadata": {
        "id": "nDT04bxSbSuD"
      },
      "source": [
        "from sklearn.metrics import fbeta_score\n",
        "from sklearn.metrics import make_scorer"
      ],
      "execution_count": 76,
      "outputs": []
    },
    {
      "cell_type": "code",
      "metadata": {
        "id": "KwDf-tQMbFvE"
      },
      "source": [
        "def fb_score(y_true, y_pred):\n",
        "  return fbeta_score(y_true, y_pred, beta=.5)"
      ],
      "execution_count": 81,
      "outputs": []
    },
    {
      "cell_type": "code",
      "metadata": {
        "colab": {
          "base_uri": "https://localhost:8080/"
        },
        "id": "fj6821O2bhGk",
        "outputId": "d29386f4-5ed1-490e-e0fb-331ff41d311e"
      },
      "source": [
        "modelo_LRfb = LogisticRegression(class_weight={0:1, 1:99})   # class_weight={0:1, 1:99}\n",
        "\n",
        "cv = RepeatedStratifiedKFold(n_splits=10, n_repeats=3)\n",
        "\n",
        "metricafb = make_scorer(fb_score)\n",
        "\n",
        "scores = cross_val_score(modelo_LRfb, X, y, scoring=metricafb, cv=cv)\n",
        "\n",
        "print('Métrica : Valor promedio CV: %.2f%%' % (np.mean(scores)*100))"
      ],
      "execution_count": 82,
      "outputs": [
        {
          "output_type": "stream",
          "name": "stdout",
          "text": [
            "Métrica : Valor promedio CV: 7.32%\n"
          ]
        }
      ]
    },
    {
      "cell_type": "code",
      "metadata": {
        "colab": {
          "base_uri": "https://localhost:8080/"
        },
        "id": "Si_eAqGUcFjz",
        "outputId": "3b232fa3-2205-4e8c-bce8-985ccc80ffa2"
      },
      "source": [
        "modelo_LRfb.fit(X_train,y_train)\n",
        "\n",
        "pred=modelo_LRfb.predict(X_test)\n",
        "\n",
        "cm = confusion_matrix(y_test, pred)\n",
        "print(cm)\n",
        "\n",
        "t = cm.sum()\n",
        "print(cm[0,0]/t, cm[0,1]/t)\n",
        "print(cm[1,0]/t, cm[1,1]/t)"
      ],
      "execution_count": 83,
      "outputs": [
        {
          "output_type": "stream",
          "name": "stdout",
          "text": [
            "[[3367  593]\n",
            " [   1   39]]\n",
            "0.84175 0.14825\n",
            "0.00025 0.00975\n"
          ]
        }
      ]
    },
    {
      "cell_type": "code",
      "metadata": {
        "colab": {
          "base_uri": "https://localhost:8080/"
        },
        "id": "cOZ3ialXErBl",
        "outputId": "14fb0124-067a-48b9-ec3c-9c9194e8f5f1"
      },
      "source": [
        "f1 = fbeta_score(y_test, pred, beta=1.0)   # le da igual importancia a minimizar FN y FP\n",
        "f2 = fbeta_score(y_test, pred, beta=2.0)   # le da mayor importancia a minimizar los FN\n",
        "f05 = fbeta_score(y_test, pred, beta=0.5)  # le da mayor importancia a minimizar los FP\n",
        "\n",
        "print('Result: f1=%.3f, f2=%.3f, f05=%.3f' % (f1, f2, f05))"
      ],
      "execution_count": 84,
      "outputs": [
        {
          "output_type": "stream",
          "name": "stdout",
          "text": [
            "Result: f1=0.116, f2=0.246, f05=0.076\n"
          ]
        }
      ]
    },
    {
      "cell_type": "markdown",
      "metadata": {
        "id": "cigD_kshF-N0"
      },
      "source": [
        "#**KNN**"
      ]
    },
    {
      "cell_type": "code",
      "metadata": {
        "id": "LTi__gazGA-9"
      },
      "source": [
        "from sklearn.neighbors import KNeighborsClassifier"
      ],
      "execution_count": 85,
      "outputs": []
    },
    {
      "cell_type": "code",
      "metadata": {
        "colab": {
          "base_uri": "https://localhost:8080/"
        },
        "id": "peyo33ZuGLPk",
        "outputId": "7c0c7e58-e25a-46e9-be3c-dd8ab6151e2c"
      },
      "source": [
        "modelo_kNN = KNeighborsClassifier(n_neighbors=3, weights='distance')\n",
        "\n",
        "modelo_kNN.fit(X_train, y_train)\n",
        "\n",
        "modelo_kNN.score(X_test, y_test)"
      ],
      "execution_count": 86,
      "outputs": [
        {
          "output_type": "execute_result",
          "data": {
            "text/plain": [
              "0.99125"
            ]
          },
          "metadata": {},
          "execution_count": 86
        }
      ]
    },
    {
      "cell_type": "code",
      "metadata": {
        "colab": {
          "base_uri": "https://localhost:8080/"
        },
        "id": "qvatLB8nGTxs",
        "outputId": "ea40da1d-eb6e-44f0-a0bf-a476c2cf3ad1"
      },
      "source": [
        "pred = modelo_kNN.predict(X_test)\n",
        "\n",
        "cm = confusion_matrix(y_test, pred)\n",
        "print(cm)"
      ],
      "execution_count": 87,
      "outputs": [
        {
          "output_type": "stream",
          "name": "stdout",
          "text": [
            "[[3950   10]\n",
            " [  25   15]]\n"
          ]
        }
      ]
    },
    {
      "cell_type": "code",
      "metadata": {
        "colab": {
          "base_uri": "https://localhost:8080/"
        },
        "id": "gDwy0Af4GzAV",
        "outputId": "bc2557bb-5a40-454e-8f48-8ba49f5d94f9"
      },
      "source": [
        "recall_score(y_test, pred) "
      ],
      "execution_count": 88,
      "outputs": [
        {
          "output_type": "execute_result",
          "data": {
            "text/plain": [
              "0.375"
            ]
          },
          "metadata": {},
          "execution_count": 88
        }
      ]
    },
    {
      "cell_type": "code",
      "metadata": {
        "colab": {
          "base_uri": "https://localhost:8080/"
        },
        "id": "JTYvK06FG3jq",
        "outputId": "6217dd61-9528-432b-bbef-1bcc412ab26b"
      },
      "source": [
        "precision_score(y_test,pred)"
      ],
      "execution_count": 89,
      "outputs": [
        {
          "output_type": "execute_result",
          "data": {
            "text/plain": [
              "0.6"
            ]
          },
          "metadata": {},
          "execution_count": 89
        }
      ]
    },
    {
      "cell_type": "code",
      "metadata": {
        "id": "nhC5lOqzHeyT"
      },
      "source": [
        "f1 = fbeta_score(y_test, pred, beta=1.0)   # le da igual importancia a minimizar FN y FP\n",
        "f2 = fbeta_score(y_test, pred, beta=2.0)   # le da mayor importancia a minimizar los FN\n",
        "f05 = fbeta_score(y_test, pred, beta=0.5)  # le da mayor importancia a minimizar los FP\n",
        "\n",
        "print('Result: f1=%.3f, f2=%.3f, f05=%.3f' % (f1, f2, f05))"
      ],
      "execution_count": null,
      "outputs": []
    },
    {
      "cell_type": "code",
      "metadata": {
        "id": "ZibSmEmMYDNW"
      },
      "source": [
        "from sklearn import svm\n",
        "\n",
        "from sklearn.model_selection import GridSearchCV, RandomizedSearchCV"
      ],
      "execution_count": 91,
      "outputs": []
    },
    {
      "cell_type": "code",
      "metadata": {
        "colab": {
          "base_uri": "https://localhost:8080/"
        },
        "id": "rRbULU3sYH6c",
        "outputId": "7a68627d-09d5-4962-e3b1-b3ddd0a2a3ab"
      },
      "source": [
        "C_range = np.logspace(start=-3, stop=2, num=4, base=10.0)\n",
        "n_degree = [n for n in range(2, 8)]\n",
        "\n",
        "param_grid = {'C':C_range, \n",
        "              'kernel':('poly','rbf','sigmoid'),  \n",
        "              'degree':n_degree,\n",
        "              'gamma':('scale','auto')}\n",
        "\n",
        "modelo_SVM = svm.SVC(class_weight={0:1,1:99})   # inicializando el modelo\n",
        "\n",
        "modelo_SVM = RandomizedSearchCV(modelo_SVM, param_distributions=param_grid, \n",
        "                                cv=3,  # Cross-Validation \n",
        "                                n_iter=10) # n_iter=total de valores seleccionados del grid\n",
        "\n",
        "mm = modelo_SVM.fit(X_train, y_train)   # entrenamiento sobre el grid\n",
        "\n",
        "print(\"Los mejores parametros son %s con un score de %0.2f\"\n",
        "      % (mm.best_params_, mm.best_score_))"
      ],
      "execution_count": 92,
      "outputs": [
        {
          "output_type": "stream",
          "name": "stdout",
          "text": [
            "Los mejores parametros son {'kernel': 'rbf', 'gamma': 'auto', 'degree': 6, 'C': 2.1544346900318843} con un score de 0.87\n"
          ]
        }
      ]
    },
    {
      "cell_type": "code",
      "metadata": {
        "id": "F8wPYmR4us07"
      },
      "source": [
        ""
      ],
      "execution_count": null,
      "outputs": []
    },
    {
      "cell_type": "code",
      "metadata": {
        "colab": {
          "base_uri": "https://localhost:8080/"
        },
        "id": "2am2b7Y6YKWw",
        "outputId": "a0b69dfa-f22e-4924-88dc-448961f46a09"
      },
      "source": [
        "pred = mm.predict(X_test)\n",
        "\n",
        "cm = confusion_matrix(y_test, pred)\n",
        "print(cm)"
      ],
      "execution_count": 93,
      "outputs": [
        {
          "output_type": "stream",
          "name": "stdout",
          "text": [
            "[[3493  467]\n",
            " [   0   40]]\n"
          ]
        }
      ]
    },
    {
      "cell_type": "code",
      "metadata": {
        "colab": {
          "base_uri": "https://localhost:8080/"
        },
        "id": "52ve2fSWs_Hd",
        "outputId": "d4cda916-ed7c-4985-eec7-78e475aef948"
      },
      "source": [
        "recall_score(y_test,pred)"
      ],
      "execution_count": 94,
      "outputs": [
        {
          "output_type": "execute_result",
          "data": {
            "text/plain": [
              "1.0"
            ]
          },
          "metadata": {},
          "execution_count": 94
        }
      ]
    }
  ]
}