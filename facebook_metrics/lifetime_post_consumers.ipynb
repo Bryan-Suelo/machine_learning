{
 "cells": [
  {
   "cell_type": "code",
   "execution_count": 130,
   "id": "88180a72",
   "metadata": {},
   "outputs": [],
   "source": [
    "import pandas as pd\n",
    "from pandas import DataFrame\n",
    "\n",
    "import datetime as dt\n",
    "import seaborn as sns\n",
    "import matplotlib.pyplot as plt\n",
    "\n",
    "import numpy as np\n",
    "from numpy import mean\n",
    "from numpy import std\n",
    "\n",
    "import scipy\n",
    "from scipy.stats import shapiro\n",
    "\n",
    "import statsmodels\n",
    "from statsmodels.graphics.gofplots import qqplot\n",
    "from scipy import stats\n",
    "\n",
    "import sklearn\n",
    "from sklearn import preprocessing\n",
    "from sklearn.model_selection import train_test_split\n",
    "from sklearn import linear_model\n",
    "from sklearn.metrics import r2_score\n",
    "from sklearn.preprocessing import StandardScaler\n",
    "from sklearn.preprocessing import PowerTransformer\n",
    "from sklearn.preprocessing import MinMaxScaler\n",
    "from sklearn.pipeline import Pipeline\n",
    "\n",
    "encoder = preprocessing.LabelEncoder()"
   ]
  },
  {
   "cell_type": "code",
   "execution_count": 138,
   "id": "f1cff989",
   "metadata": {},
   "outputs": [
    {
     "name": "stdout",
     "output_type": "stream",
     "text": [
      "<class 'pandas.core.frame.DataFrame'>\n",
      "RangeIndex: 500 entries, 0 to 499\n",
      "Data columns (total 19 columns):\n",
      " #   Column                                                               Non-Null Count  Dtype  \n",
      "---  ------                                                               --------------  -----  \n",
      " 0   Page total likes                                                     500 non-null    int64  \n",
      " 1   Type                                                                 500 non-null    object \n",
      " 2   Category                                                             500 non-null    int64  \n",
      " 3   Post Month                                                           500 non-null    int64  \n",
      " 4   Post Weekday                                                         500 non-null    int64  \n",
      " 5   Post Hour                                                            500 non-null    int64  \n",
      " 6   Paid                                                                 499 non-null    float64\n",
      " 7   Lifetime Post Total Reach                                            500 non-null    int64  \n",
      " 8   Lifetime Post Total Impressions                                      500 non-null    int64  \n",
      " 9   Lifetime Engaged Users                                               500 non-null    int64  \n",
      " 10  Lifetime Post Consumers                                              500 non-null    int64  \n",
      " 11  Lifetime Post Consumptions                                           500 non-null    int64  \n",
      " 12  Lifetime Post Impressions by people who have liked your Page         500 non-null    int64  \n",
      " 13  Lifetime Post reach by people who like your Page                     500 non-null    int64  \n",
      " 14  Lifetime People who have liked your Page and engaged with your post  500 non-null    int64  \n",
      " 15  comment                                                              500 non-null    int64  \n",
      " 16  like                                                                 499 non-null    float64\n",
      " 17  share                                                                496 non-null    float64\n",
      " 18  Total Interactions                                                   500 non-null    int64  \n",
      "dtypes: float64(3), int64(15), object(1)\n",
      "memory usage: 74.3+ KB\n"
     ]
    }
   ],
   "source": [
    "data = pd.read_csv(\"dataset_Facebook.csv\", delimiter=';')\n",
    "data.info()"
   ]
  },
  {
   "cell_type": "markdown",
   "id": "95bb4cd2",
   "metadata": {},
   "source": [
    "### Pre-processing"
   ]
  },
  {
   "cell_type": "markdown",
   "id": "18754305",
   "metadata": {},
   "source": [
    "Algunos valores estan con valores NAN, entonces se remplazaran con ceros"
   ]
  },
  {
   "cell_type": "code",
   "execution_count": 139,
   "id": "de6ca958",
   "metadata": {
    "scrolled": true
   },
   "outputs": [
    {
     "name": "stdout",
     "output_type": "stream",
     "text": [
      "<class 'pandas.core.frame.DataFrame'>\n",
      "RangeIndex: 500 entries, 0 to 499\n",
      "Data columns (total 19 columns):\n",
      " #   Column                                                               Non-Null Count  Dtype  \n",
      "---  ------                                                               --------------  -----  \n",
      " 0   Page total likes                                                     500 non-null    int64  \n",
      " 1   Type                                                                 500 non-null    int64  \n",
      " 2   Category                                                             500 non-null    int64  \n",
      " 3   Post Month                                                           500 non-null    int64  \n",
      " 4   Post Weekday                                                         500 non-null    int64  \n",
      " 5   Post Hour                                                            500 non-null    int64  \n",
      " 6   Paid                                                                 500 non-null    float64\n",
      " 7   Lifetime Post Total Reach                                            500 non-null    int64  \n",
      " 8   Lifetime Post Total Impressions                                      500 non-null    int64  \n",
      " 9   Lifetime Engaged Users                                               500 non-null    int64  \n",
      " 10  Lifetime Post Consumers                                              500 non-null    int64  \n",
      " 11  Lifetime Post Consumptions                                           500 non-null    int64  \n",
      " 12  Lifetime Post Impressions by people who have liked your Page         500 non-null    int64  \n",
      " 13  Lifetime Post reach by people who like your Page                     500 non-null    int64  \n",
      " 14  Lifetime People who have liked your Page and engaged with your post  500 non-null    int64  \n",
      " 15  comment                                                              500 non-null    int64  \n",
      " 16  like                                                                 500 non-null    float64\n",
      " 17  share                                                                500 non-null    float64\n",
      " 18  Total Interactions                                                   500 non-null    int64  \n",
      "dtypes: float64(3), int64(16)\n",
      "memory usage: 74.3 KB\n"
     ]
    }
   ],
   "source": [
    "data['like'].fillna(0,inplace=True)\n",
    "data['share'].fillna(0,inplace=True)\n",
    "data['Paid'].fillna(0,inplace=True)\n",
    "data['Type'] = encoder.fit_transform(data['Type'].astype(str))\n",
    "data.info()"
   ]
  },
  {
   "cell_type": "markdown",
   "id": "55c917ce",
   "metadata": {},
   "source": [
    "Eliminar las variables que no seran utilizadas"
   ]
  },
  {
   "cell_type": "code",
   "execution_count": 140,
   "id": "ef9df4ae",
   "metadata": {},
   "outputs": [],
   "source": [
    "ndata = data"
   ]
  },
  {
   "cell_type": "code",
   "execution_count": 141,
   "id": "d27ba9d7",
   "metadata": {},
   "outputs": [
    {
     "data": {
      "text/html": [
       "<div>\n",
       "<style scoped>\n",
       "    .dataframe tbody tr th:only-of-type {\n",
       "        vertical-align: middle;\n",
       "    }\n",
       "\n",
       "    .dataframe tbody tr th {\n",
       "        vertical-align: top;\n",
       "    }\n",
       "\n",
       "    .dataframe thead th {\n",
       "        text-align: right;\n",
       "    }\n",
       "</style>\n",
       "<table border=\"1\" class=\"dataframe\">\n",
       "  <thead>\n",
       "    <tr style=\"text-align: right;\">\n",
       "      <th></th>\n",
       "      <th>Page total likes</th>\n",
       "      <th>Type</th>\n",
       "      <th>Category</th>\n",
       "      <th>Post Month</th>\n",
       "      <th>Post Weekday</th>\n",
       "      <th>Post Hour</th>\n",
       "      <th>Paid</th>\n",
       "      <th>Lifetime Post Consumers</th>\n",
       "      <th>Lifetime Post Consumptions</th>\n",
       "      <th>Lifetime People who have liked your Page and engaged with your post</th>\n",
       "      <th>like</th>\n",
       "    </tr>\n",
       "  </thead>\n",
       "  <tbody>\n",
       "    <tr>\n",
       "      <th>0</th>\n",
       "      <td>139441</td>\n",
       "      <td>1</td>\n",
       "      <td>2</td>\n",
       "      <td>12</td>\n",
       "      <td>4</td>\n",
       "      <td>3</td>\n",
       "      <td>0.0</td>\n",
       "      <td>109</td>\n",
       "      <td>159</td>\n",
       "      <td>119</td>\n",
       "      <td>79.0</td>\n",
       "    </tr>\n",
       "    <tr>\n",
       "      <th>1</th>\n",
       "      <td>139441</td>\n",
       "      <td>2</td>\n",
       "      <td>2</td>\n",
       "      <td>12</td>\n",
       "      <td>3</td>\n",
       "      <td>10</td>\n",
       "      <td>0.0</td>\n",
       "      <td>1361</td>\n",
       "      <td>1674</td>\n",
       "      <td>1108</td>\n",
       "      <td>130.0</td>\n",
       "    </tr>\n",
       "    <tr>\n",
       "      <th>2</th>\n",
       "      <td>139441</td>\n",
       "      <td>1</td>\n",
       "      <td>3</td>\n",
       "      <td>12</td>\n",
       "      <td>3</td>\n",
       "      <td>3</td>\n",
       "      <td>0.0</td>\n",
       "      <td>113</td>\n",
       "      <td>154</td>\n",
       "      <td>132</td>\n",
       "      <td>66.0</td>\n",
       "    </tr>\n",
       "    <tr>\n",
       "      <th>3</th>\n",
       "      <td>139441</td>\n",
       "      <td>1</td>\n",
       "      <td>2</td>\n",
       "      <td>12</td>\n",
       "      <td>2</td>\n",
       "      <td>10</td>\n",
       "      <td>1.0</td>\n",
       "      <td>790</td>\n",
       "      <td>1119</td>\n",
       "      <td>1386</td>\n",
       "      <td>1572.0</td>\n",
       "    </tr>\n",
       "    <tr>\n",
       "      <th>4</th>\n",
       "      <td>139441</td>\n",
       "      <td>1</td>\n",
       "      <td>2</td>\n",
       "      <td>12</td>\n",
       "      <td>2</td>\n",
       "      <td>3</td>\n",
       "      <td>0.0</td>\n",
       "      <td>410</td>\n",
       "      <td>580</td>\n",
       "      <td>396</td>\n",
       "      <td>325.0</td>\n",
       "    </tr>\n",
       "  </tbody>\n",
       "</table>\n",
       "</div>"
      ],
      "text/plain": [
       "   Page total likes  Type  Category  Post Month  Post Weekday  Post Hour  \\\n",
       "0            139441     1         2          12             4          3   \n",
       "1            139441     2         2          12             3         10   \n",
       "2            139441     1         3          12             3          3   \n",
       "3            139441     1         2          12             2         10   \n",
       "4            139441     1         2          12             2          3   \n",
       "\n",
       "   Paid  Lifetime Post Consumers  Lifetime Post Consumptions  \\\n",
       "0   0.0                      109                         159   \n",
       "1   0.0                     1361                        1674   \n",
       "2   0.0                      113                         154   \n",
       "3   1.0                      790                        1119   \n",
       "4   0.0                      410                         580   \n",
       "\n",
       "   Lifetime People who have liked your Page and engaged with your post    like  \n",
       "0                                                119                      79.0  \n",
       "1                                               1108                     130.0  \n",
       "2                                                132                      66.0  \n",
       "3                                               1386                    1572.0  \n",
       "4                                                396                     325.0  "
      ]
     },
     "execution_count": 141,
     "metadata": {},
     "output_type": "execute_result"
    }
   ],
   "source": [
    "ndata.drop([\"Lifetime Post Total Reach\",\n",
    "\"Lifetime Post Total Impressions\",\n",
    "\"Lifetime Engaged Users\",\n",
    "\"Lifetime Post Impressions by people who have liked your Page\",\n",
    "\"Lifetime Post reach by people who like your Page\",\n",
    "\"comment\",\n",
    "\"share\",\n",
    "\"Total Interactions\"], axis=1, inplace= True)\n",
    "\n",
    "ndata.head()"
   ]
  },
  {
   "cell_type": "markdown",
   "id": "f8c4a6bc",
   "metadata": {},
   "source": [
    "### a) Shapiro-Wilk \n",
    "#### Lifetime Post Consumers"
   ]
  },
  {
   "cell_type": "code",
   "execution_count": 142,
   "id": "dc0cb825",
   "metadata": {},
   "outputs": [],
   "source": [
    "data_mean, data_std = mean(ndata['Lifetime Post Consumers']), std(ndata['Lifetime Post Consumers'])"
   ]
  },
  {
   "cell_type": "code",
   "execution_count": 143,
   "id": "c7cc70fb",
   "metadata": {},
   "outputs": [
    {
     "name": "stdout",
     "output_type": "stream",
     "text": [
      "ShapiroResult(statistic=0.6197054386138916, pvalue=9.94599405965207e-32)\n"
     ]
    }
   ],
   "source": [
    "print(shapiro(ndata['Lifetime Post Consumers']))"
   ]
  },
  {
   "cell_type": "code",
   "execution_count": 144,
   "id": "d902d7b1",
   "metadata": {
    "scrolled": true
   },
   "outputs": [
    {
     "name": "stderr",
     "output_type": "stream",
     "text": [
      "/home/bryan/.local/lib/python3.6/site-packages/seaborn/distributions.py:2619: FutureWarning: `distplot` is a deprecated function and will be removed in a future version. Please adapt your code to use either `displot` (a figure-level function with similar flexibility) or `histplot` (an axes-level function for histograms).\n",
      "  warnings.warn(msg, FutureWarning)\n"
     ]
    },
    {
     "data": {
      "text/plain": [
       "(0.0, 4000.0)"
      ]
     },
     "execution_count": 144,
     "metadata": {},
     "output_type": "execute_result"
    },
    {
     "data": {
      "image/png": "[encoded data removed]",
      "text/plain": [
       "<Figure size 432x288 with 1 Axes>"
      ]
     },
     "metadata": {
      "needs_background": "light"
     },
     "output_type": "display_data"
    }
   ],
   "source": [
    "sns.distplot(ndata['Lifetime Post Consumers'],bins=100)\n",
    "plt.xlim(0,4000)"
   ]
  },
  {
   "cell_type": "code",
   "execution_count": 145,
   "id": "157806d9",
   "metadata": {},
   "outputs": [
    {
     "data": {
      "image/png": "[encoded data removed]",
      "text/plain": [
       "<Figure size 432x288 with 1 Axes>"
      ]
     },
     "metadata": {
      "needs_background": "light"
     },
     "output_type": "display_data"
    }
   ],
   "source": [
    "qqplot(ndata['Lifetime Post Consumers'], line='s')\n",
    "plt.show()"
   ]
  },
  {
   "cell_type": "code",
   "execution_count": null,
   "id": "5c2d9d64",
   "metadata": {},
   "outputs": [],
   "source": []
  },
  {
   "cell_type": "markdown",
   "id": "44a96660",
   "metadata": {},
   "source": [
    "### b) Analisis descriptivo "
   ]
  },
  {
   "cell_type": "code",
   "execution_count": null,
   "id": "18c628ff",
   "metadata": {},
   "outputs": [],
   "source": [
    "plt.figure(figsize=(12,10))\n",
    "sns.heatmap(data.corr(),cmap='viridis',annot=True,cbar=False)"
   ]
  },
  {
   "cell_type": "markdown",
   "id": "0bfccf45",
   "metadata": {},
   "source": [
    "Todas las métricas lifetime parecen tener una alta correlación con las métricas de participación: likes, comments, shares, total interactions (una suma de las 3 características anteriores). Esto sugiere que un modelo de regresión que predice el total de usuarios comprometidos podría tener un rendimiento adecuado."
   ]
  },
  {
   "cell_type": "code",
   "execution_count": null,
   "id": "1c1bd37c",
   "metadata": {},
   "outputs": [],
   "source": []
  },
  {
   "cell_type": "markdown",
   "id": "35070b59",
   "metadata": {},
   "source": [
    "### b) Transformaciones"
   ]
  },
  {
   "cell_type": "code",
   "execution_count": null,
   "id": "8922adb3",
   "metadata": {},
   "outputs": [],
   "source": [
    "def boxcox_transform(data_column):\n",
    "    fitted_data, fitted_lambda = stats.boxcox(data_column)\n",
    "    fig, ax = plt.subplots(1,2)\n",
    "    \n",
    "    sns.distplot(data_column, hist = False, kde = True,\n",
    "                kde_kws = {'shade': True, 'linewidth': 2},\n",
    "                label = \"Non-Normal\", color = \"green\", ax = ax[0])\n",
    "    \n",
    "    sns.distplot(fitted_data, hist = False, kde = True,\n",
    "                kde_kws = {'shade': True, 'linewidth': 2}, \n",
    "                label = \"Normal\", color =\"green\", ax = ax[1])\n",
    "\n",
    "    plt.legend(loc = \"upper right\")\n",
    "\n",
    "    # rescaling the subplots\n",
    "    fig.set_figheight(5)\n",
    "    fig.set_figwidth(10)\n",
    "\n",
    "    print(f\"Lambda value used for Transformation: {fitted_lambda}\")"
   ]
  },
  {
   "cell_type": "code",
   "execution_count": 131,
   "id": "c4aee445",
   "metadata": {},
   "outputs": [],
   "source": [
    "scaler = MinMaxScaler(feature_range=(1, 2))\n",
    "power = PowerTransformer(method='box-cox')\n",
    "pipeline = Pipeline(steps=[('s', scaler),('p', power)])\n",
    "ndata = pipeline.fit_transform(ndata)"
   ]
  },
  {
   "cell_type": "code",
   "execution_count": 137,
   "id": "ab6aa534",
   "metadata": {},
   "outputs": [
    {
     "data": {
      "text/html": [
       "<div>\n",
       "<style scoped>\n",
       "    .dataframe tbody tr th:only-of-type {\n",
       "        vertical-align: middle;\n",
       "    }\n",
       "\n",
       "    .dataframe tbody tr th {\n",
       "        vertical-align: top;\n",
       "    }\n",
       "\n",
       "    .dataframe thead th {\n",
       "        text-align: right;\n",
       "    }\n",
       "</style>\n",
       "<table border=\"1\" class=\"dataframe\">\n",
       "  <thead>\n",
       "    <tr style=\"text-align: right;\">\n",
       "      <th></th>\n",
       "      <th>0</th>\n",
       "      <th>1</th>\n",
       "      <th>2</th>\n",
       "      <th>3</th>\n",
       "      <th>4</th>\n",
       "      <th>5</th>\n",
       "      <th>6</th>\n",
       "      <th>7</th>\n",
       "      <th>8</th>\n",
       "      <th>9</th>\n",
       "      <th>10</th>\n",
       "    </tr>\n",
       "  </thead>\n",
       "  <tbody>\n",
       "    <tr>\n",
       "      <th>0</th>\n",
       "      <td>1.26774</td>\n",
       "      <td>-0.104880</td>\n",
       "      <td>0.320848</td>\n",
       "      <td>1.519399</td>\n",
       "      <td>-0.074479</td>\n",
       "      <td>-1.137386</td>\n",
       "      <td>-0.620517</td>\n",
       "      <td>-1.594217</td>\n",
       "      <td>-1.492237</td>\n",
       "      <td>-1.600601</td>\n",
       "      <td>-0.428788</td>\n",
       "    </tr>\n",
       "    <tr>\n",
       "      <th>1</th>\n",
       "      <td>1.26774</td>\n",
       "      <td>2.005007</td>\n",
       "      <td>0.320848</td>\n",
       "      <td>1.519399</td>\n",
       "      <td>-0.567301</td>\n",
       "      <td>0.553964</td>\n",
       "      <td>-0.620517</td>\n",
       "      <td>1.237807</td>\n",
       "      <td>0.817459</td>\n",
       "      <td>1.376721</td>\n",
       "      <td>0.150361</td>\n",
       "    </tr>\n",
       "    <tr>\n",
       "      <th>2</th>\n",
       "      <td>1.26774</td>\n",
       "      <td>-0.104880</td>\n",
       "      <td>1.231389</td>\n",
       "      <td>1.519399</td>\n",
       "      <td>-0.567301</td>\n",
       "      <td>-1.137386</td>\n",
       "      <td>-0.620517</td>\n",
       "      <td>-1.576986</td>\n",
       "      <td>-1.504623</td>\n",
       "      <td>-1.516740</td>\n",
       "      <td>-0.600540</td>\n",
       "    </tr>\n",
       "    <tr>\n",
       "      <th>3</th>\n",
       "      <td>1.26774</td>\n",
       "      <td>-0.104880</td>\n",
       "      <td>0.320848</td>\n",
       "      <td>1.519399</td>\n",
       "      <td>-1.059834</td>\n",
       "      <td>0.553964</td>\n",
       "      <td>1.611559</td>\n",
       "      <td>0.421402</td>\n",
       "      <td>0.232552</td>\n",
       "      <td>1.634990</td>\n",
       "      <td>2.333561</td>\n",
       "    </tr>\n",
       "    <tr>\n",
       "      <th>4</th>\n",
       "      <td>1.26774</td>\n",
       "      <td>-0.104880</td>\n",
       "      <td>0.320848</td>\n",
       "      <td>1.519399</td>\n",
       "      <td>-1.059834</td>\n",
       "      <td>-1.137386</td>\n",
       "      <td>-0.620517</td>\n",
       "      <td>-0.503397</td>\n",
       "      <td>-0.592545</td>\n",
       "      <td>-0.195415</td>\n",
       "      <td>1.428962</td>\n",
       "    </tr>\n",
       "  </tbody>\n",
       "</table>\n",
       "</div>"
      ],
      "text/plain": [
       "        0         1         2         3         4         5         6   \\\n",
       "0  1.26774 -0.104880  0.320848  1.519399 -0.074479 -1.137386 -0.620517   \n",
       "1  1.26774  2.005007  0.320848  1.519399 -0.567301  0.553964 -0.620517   \n",
       "2  1.26774 -0.104880  1.231389  1.519399 -0.567301 -1.137386 -0.620517   \n",
       "3  1.26774 -0.104880  0.320848  1.519399 -1.059834  0.553964  1.611559   \n",
       "4  1.26774 -0.104880  0.320848  1.519399 -1.059834 -1.137386 -0.620517   \n",
       "\n",
       "         7         8         9         10  \n",
       "0 -1.594217 -1.492237 -1.600601 -0.428788  \n",
       "1  1.237807  0.817459  1.376721  0.150361  \n",
       "2 -1.576986 -1.504623 -1.516740 -0.600540  \n",
       "3  0.421402  0.232552  1.634990  2.333561  \n",
       "4 -0.503397 -0.592545 -0.195415  1.428962  "
      ]
     },
     "execution_count": 137,
     "metadata": {},
     "output_type": "execute_result"
    }
   ],
   "source": [
    "dataset = DataFrame(ndata)\n",
    "dataset.head()"
   ]
  },
  {
   "cell_type": "code",
   "execution_count": 134,
   "id": "dbecf781",
   "metadata": {},
   "outputs": [
    {
     "data": {
      "image/png": "[encoded data removed]",
      "text/plain": [
       "<Figure size 432x288 with 12 Axes>"
      ]
     },
     "metadata": {
      "needs_background": "light"
     },
     "output_type": "display_data"
    }
   ],
   "source": [
    "dataset.hist()\n",
    "plt.show()"
   ]
  },
  {
   "cell_type": "code",
   "execution_count": 136,
   "id": "90c2e980",
   "metadata": {},
   "outputs": [
    {
     "ename": "KeyError",
     "evalue": "'Page total likes'",
     "output_type": "error",
     "traceback": [
      "\u001b[0;31m---------------------------------------------------------------------------\u001b[0m",
      "\u001b[0;31mKeyError\u001b[0m                                  Traceback (most recent call last)",
      "\u001b[0;32m<ipython-input-136-95571c014249>\u001b[0m in \u001b[0;36m<module>\u001b[0;34m\u001b[0m\n\u001b[0;32m----> 1\u001b[0;31m ndataset = np.array([dataset['Page total likes'], dataset['Type'], dataset['Category'],\n\u001b[0m\u001b[1;32m      2\u001b[0m            dataset['Post Month'], dataset['Post Weekday'], dataset['Post Hour'], dataset['Paid']]) \n",
      "\u001b[0;32m~/.local/lib/python3.6/site-packages/pandas/core/frame.py\u001b[0m in \u001b[0;36m__getitem__\u001b[0;34m(self, key)\u001b[0m\n\u001b[1;32m   2904\u001b[0m             \u001b[0;32mif\u001b[0m \u001b[0mself\u001b[0m\u001b[0;34m.\u001b[0m\u001b[0mcolumns\u001b[0m\u001b[0;34m.\u001b[0m\u001b[0mnlevels\u001b[0m \u001b[0;34m>\u001b[0m \u001b[0;36m1\u001b[0m\u001b[0;34m:\u001b[0m\u001b[0;34m\u001b[0m\u001b[0;34m\u001b[0m\u001b[0m\n\u001b[1;32m   2905\u001b[0m                 \u001b[0;32mreturn\u001b[0m \u001b[0mself\u001b[0m\u001b[0;34m.\u001b[0m\u001b[0m_getitem_multilevel\u001b[0m\u001b[0;34m(\u001b[0m\u001b[0mkey\u001b[0m\u001b[0;34m)\u001b[0m\u001b[0;34m\u001b[0m\u001b[0;34m\u001b[0m\u001b[0m\n\u001b[0;32m-> 2906\u001b[0;31m             \u001b[0mindexer\u001b[0m \u001b[0;34m=\u001b[0m \u001b[0mself\u001b[0m\u001b[0;34m.\u001b[0m\u001b[0mcolumns\u001b[0m\u001b[0;34m.\u001b[0m\u001b[0mget_loc\u001b[0m\u001b[0;34m(\u001b[0m\u001b[0mkey\u001b[0m\u001b[0;34m)\u001b[0m\u001b[0;34m\u001b[0m\u001b[0;34m\u001b[0m\u001b[0m\n\u001b[0m\u001b[1;32m   2907\u001b[0m             \u001b[0;32mif\u001b[0m \u001b[0mis_integer\u001b[0m\u001b[0;34m(\u001b[0m\u001b[0mindexer\u001b[0m\u001b[0;34m)\u001b[0m\u001b[0;34m:\u001b[0m\u001b[0;34m\u001b[0m\u001b[0;34m\u001b[0m\u001b[0m\n\u001b[1;32m   2908\u001b[0m                 \u001b[0mindexer\u001b[0m \u001b[0;34m=\u001b[0m \u001b[0;34m[\u001b[0m\u001b[0mindexer\u001b[0m\u001b[0;34m]\u001b[0m\u001b[0;34m\u001b[0m\u001b[0;34m\u001b[0m\u001b[0m\n",
      "\u001b[0;32m~/.local/lib/python3.6/site-packages/pandas/core/indexes/range.py\u001b[0m in \u001b[0;36mget_loc\u001b[0;34m(self, key, method, tolerance)\u001b[0m\n\u001b[1;32m    356\u001b[0m                 \u001b[0;32mexcept\u001b[0m \u001b[0mValueError\u001b[0m \u001b[0;32mas\u001b[0m \u001b[0merr\u001b[0m\u001b[0;34m:\u001b[0m\u001b[0;34m\u001b[0m\u001b[0;34m\u001b[0m\u001b[0m\n\u001b[1;32m    357\u001b[0m                     \u001b[0;32mraise\u001b[0m \u001b[0mKeyError\u001b[0m\u001b[0;34m(\u001b[0m\u001b[0mkey\u001b[0m\u001b[0;34m)\u001b[0m \u001b[0;32mfrom\u001b[0m \u001b[0merr\u001b[0m\u001b[0;34m\u001b[0m\u001b[0;34m\u001b[0m\u001b[0m\n\u001b[0;32m--> 358\u001b[0;31m             \u001b[0;32mraise\u001b[0m \u001b[0mKeyError\u001b[0m\u001b[0;34m(\u001b[0m\u001b[0mkey\u001b[0m\u001b[0;34m)\u001b[0m\u001b[0;34m\u001b[0m\u001b[0;34m\u001b[0m\u001b[0m\n\u001b[0m\u001b[1;32m    359\u001b[0m         \u001b[0;32mreturn\u001b[0m \u001b[0msuper\u001b[0m\u001b[0;34m(\u001b[0m\u001b[0;34m)\u001b[0m\u001b[0;34m.\u001b[0m\u001b[0mget_loc\u001b[0m\u001b[0;34m(\u001b[0m\u001b[0mkey\u001b[0m\u001b[0;34m,\u001b[0m \u001b[0mmethod\u001b[0m\u001b[0;34m=\u001b[0m\u001b[0mmethod\u001b[0m\u001b[0;34m,\u001b[0m \u001b[0mtolerance\u001b[0m\u001b[0;34m=\u001b[0m\u001b[0mtolerance\u001b[0m\u001b[0;34m)\u001b[0m\u001b[0;34m\u001b[0m\u001b[0;34m\u001b[0m\u001b[0m\n\u001b[1;32m    360\u001b[0m \u001b[0;34m\u001b[0m\u001b[0m\n",
      "\u001b[0;31mKeyError\u001b[0m: 'Page total likes'"
     ]
    }
   ],
   "source": []
  },
  {
   "cell_type": "code",
   "execution_count": null,
   "id": "0937b8fc",
   "metadata": {},
   "outputs": [],
   "source": []
  }
 ],
 "metadata": {
  "kernelspec": {
   "display_name": "Python 3",
   "language": "python",
   "name": "python3"
  },
  "language_info": {
   "codemirror_mode": {
    "name": "ipython",
    "version": 3
   },
   "file_extension": ".py",
   "mimetype": "text/x-python",
   "name": "python",
   "nbconvert_exporter": "python",
   "pygments_lexer": "ipython3",
   "version": "3.6.9"
  }
 },
 "nbformat": 4,
 "nbformat_minor": 5
}
