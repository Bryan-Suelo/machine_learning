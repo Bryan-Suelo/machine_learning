{
 "cells": [
  {
   "cell_type": "markdown",
   "metadata": {},
   "source": [
    "# HOG + SVM Classifier"
   ]
  },
  {
   "cell_type": "code",
   "execution_count": 84,
   "metadata": {},
   "outputs": [],
   "source": [
    "from PIL import Image\n",
    "import cv2\n",
    "import glob\n",
    "import random"
   ]
  },
  {
   "cell_type": "markdown",
   "metadata": {},
   "source": [
    "## Processing images"
   ]
  },
  {
   "cell_type": "markdown",
   "metadata": {},
   "source": [
    "https://www.thiscodeworks.com/importing-images-from-a-directory-python-to-list-or-dictionary-python/6200a02e4dd44f0015f3cd26 </p>\n",
    "https://www.quora.com/How-can-I-read-multiple-images-in-Python-presented-in-a-folder </p>\n",
    "https://stackoverflow.com/questions/26392336/importing-images-from-a-directory-python-to-list-or-dictionary"
   ]
  },
  {
   "cell_type": "markdown",
   "metadata": {},
   "source": [
    "\"\"\" path = '/home/sueloc/Desktop/machine_learning/hog_svm-classifier/images'\n",
    "data_path = os.path.join(path, '*.jpg')\n",
    "dataframe = []\n",
    "files = glob.glob(data_path)\n",
    "for filename in files:\n",
    "    im = cv.imread(filename)\n",
    "    dataframe.append(im) \"\"\""
   ]
  },
  {
   "cell_type": "code",
   "execution_count": 85,
   "metadata": {},
   "outputs": [],
   "source": [
    "image_list = []\n",
    "\n",
    "for filename in glob.glob('/home/sueloc/Desktop/machine_learning/hog_svm-classifier/images/*.jpg'):\n",
    "    im = Image.open(filename).convert('L')\n",
    "    resized_img = im.resize((128, 64))\n",
    "    image_list.append(resized_img)"
   ]
  },
  {
   "cell_type": "code",
   "execution_count": 89,
   "metadata": {},
   "outputs": [
    {
     "name": "stdout",
     "output_type": "stream",
     "text": [
      "13158\n"
     ]
    },
    {
     "data": {
      "image/png": "[encoded data removed]",
      "text/plain": [
       "<PIL.Image.Image image mode=L size=128x64 at 0x7F4E258EFDF0>"
      ]
     },
     "execution_count": 89,
     "metadata": {},
     "output_type": "execute_result"
    }
   ],
   "source": [
    "print(len(image_list))\n",
    "image_list[0]"
   ]
  },
  {
   "cell_type": "markdown",
   "metadata": {},
   "source": [
    "## Random partition"
   ]
  },
  {
   "cell_type": "code",
   "execution_count": 90,
   "metadata": {},
   "outputs": [],
   "source": [
    "def partitionRankings(testPercent):\n",
    "    howManyNumbers = int(round(testPercent*len(image_list)))\n",
    "    shuffled = image_list[:]\n",
    "    random.shuffle(shuffled)\n",
    "    return np.array(shuffled[howManyNumbers:])"
   ]
  },
  {
   "cell_type": "code",
   "execution_count": 91,
   "metadata": {},
   "outputs": [
    {
     "name": "stderr",
     "output_type": "stream",
     "text": [
      "/tmp/ipykernel_3434/117683674.py:5: FutureWarning: The input object of type 'Image' is an array-like implementing one of the corresponding protocols (`__array__`, `__array_interface__` or `__array_struct__`); but not a sequence (or 0-D). In the future, this object will be coerced as if it was first converted using `np.array(obj)`. To retain the old behaviour, you have to either modify the type 'Image', or assign to an empty array created with `np.empty(correct_shape, dtype=object)`.\n",
      "  return np.array(shuffled[howManyNumbers:])\n",
      "/tmp/ipykernel_3434/117683674.py:5: VisibleDeprecationWarning: Creating an ndarray from ragged nested sequences (which is a list-or-tuple of lists-or-tuples-or ndarrays with different lengths or shapes) is deprecated. If you meant to do this, you must specify 'dtype=object' when creating the ndarray.\n",
      "  return np.array(shuffled[howManyNumbers:])\n"
     ]
    }
   ],
   "source": [
    "train = partitionRankings(0.2)\n",
    "test = partitionRankings(0.8)"
   ]
  },
  {
   "cell_type": "code",
   "execution_count": 92,
   "metadata": {},
   "outputs": [
    {
     "name": "stdout",
     "output_type": "stream",
     "text": [
      "10526\n",
      "<class 'numpy.ndarray'>\n"
     ]
    },
    {
     "data": {
      "text/plain": [
       "array([<PIL.Image.Image image mode=L size=128x64 at 0x7F4E1F6A1970>,\n",
       "       <PIL.Image.Image image mode=L size=128x64 at 0x7F4E1FEB7DC0>,\n",
       "       <PIL.Image.Image image mode=L size=128x64 at 0x7F4E1F5ACD30>, ...,\n",
       "       <PIL.Image.Image image mode=L size=128x64 at 0x7F4E1FE708E0>,\n",
       "       <PIL.Image.Image image mode=L size=128x64 at 0x7F4E1F579DF0>,\n",
       "       <PIL.Image.Image image mode=L size=128x64 at 0x7F4E1F9EB0A0>],\n",
       "      dtype=object)"
      ]
     },
     "execution_count": 92,
     "metadata": {},
     "output_type": "execute_result"
    }
   ],
   "source": [
    "print(len(train))\n",
    "print(type(train))\n",
    "train"
   ]
  },
  {
   "cell_type": "code",
   "execution_count": 93,
   "metadata": {},
   "outputs": [
    {
     "name": "stdout",
     "output_type": "stream",
     "text": [
      "2632\n",
      "<class 'numpy.ndarray'>\n"
     ]
    },
    {
     "data": {
      "text/plain": [
       "array([<PIL.Image.Image image mode=L size=128x64 at 0x7F4E1F917FD0>,\n",
       "       <PIL.Image.Image image mode=L size=128x64 at 0x7F4E1F470280>,\n",
       "       <PIL.Image.Image image mode=L size=128x64 at 0x7F4E1F5326D0>, ...,\n",
       "       <PIL.Image.Image image mode=L size=128x64 at 0x7F4E1FE15700>,\n",
       "       <PIL.Image.Image image mode=L size=128x64 at 0x7F4E1FE3C130>,\n",
       "       <PIL.Image.Image image mode=L size=128x64 at 0x7F4E1FEB7E20>],\n",
       "      dtype=object)"
      ]
     },
     "execution_count": 93,
     "metadata": {},
     "output_type": "execute_result"
    }
   ],
   "source": [
    "print(len(test))\n",
    "print(type(test))\n",
    "test"
   ]
  },
  {
   "cell_type": "markdown",
   "metadata": {},
   "source": [
    "## HOG feature vector"
   ]
  },
  {
   "cell_type": "code",
   "execution_count": 94,
   "metadata": {},
   "outputs": [],
   "source": [
    "from skimage.io import imread\n",
    "from skimage.transform import resize\n",
    "from skimage.feature import hog\n",
    "from skimage import exposure\n",
    "import matplotlib.pyplot as plt\n",
    "import numpy as np\n",
    "from sklearn.model_selection import train_test_split"
   ]
  },
  {
   "cell_type": "code",
   "execution_count": 109,
   "metadata": {},
   "outputs": [],
   "source": [
    "hog_features = []\n",
    "hog_images = []"
   ]
  },
  {
   "cell_type": "code",
   "execution_count": 110,
   "metadata": {},
   "outputs": [
    {
     "name": "stderr",
     "output_type": "stream",
     "text": [
      "/tmp/ipykernel_3434/3324371994.py:2: FutureWarning: `multichannel` is a deprecated argument name for `hog`. It will be removed in version 1.0. Please use `channel_axis` instead.\n",
      "  fd, hog_image = hog(image, orientations=9, pixels_per_cell=(8, 8), cells_per_block=(2, 2), visualize=True, multichannel=False)\n"
     ]
    }
   ],
   "source": [
    "for image in test:\n",
    "    fd, hog_image = hog(image, orientations=9, pixels_per_cell=(8, 8), cells_per_block=(2, 2), visualize=True, multichannel=False)\n",
    "    hog_features.append(fd)\n",
    "    hog_images.append(hog_image)"
   ]
  },
  {
   "cell_type": "code",
   "execution_count": 111,
   "metadata": {},
   "outputs": [
    {
     "name": "stdout",
     "output_type": "stream",
     "text": [
      "<class 'list'>\n",
      "2632\n"
     ]
    }
   ],
   "source": [
    "print(type(hog_features))\n",
    "print(len(hog_features))"
   ]
  },
  {
   "cell_type": "code",
   "execution_count": 112,
   "metadata": {},
   "outputs": [
    {
     "name": "stderr",
     "output_type": "stream",
     "text": [
      "/tmp/ipykernel_3434/2684739557.py:2: FutureWarning: `multichannel` is a deprecated argument name for `hog`. It will be removed in version 1.0. Please use `channel_axis` instead.\n",
      "  fd, hog_image = hog(image, orientations=9, pixels_per_cell=(8, 8), cells_per_block=(2, 2), visualize=True, multichannel=False)\n"
     ]
    }
   ],
   "source": [
    "for image in train:\n",
    "    fd, hog_image = hog(image, orientations=9, pixels_per_cell=(8, 8), cells_per_block=(2, 2), visualize=True, multichannel=False)\n",
    "    hog_features.append(fd)\n",
    "    hog_images.append(hog_image)"
   ]
  },
  {
   "cell_type": "code",
   "execution_count": 113,
   "metadata": {},
   "outputs": [
    {
     "name": "stdout",
     "output_type": "stream",
     "text": [
      "<class 'list'>\n",
      "13158\n"
     ]
    }
   ],
   "source": [
    "print(type(hog_features))\n",
    "print(len(hog_features))"
   ]
  },
  {
   "cell_type": "code",
   "execution_count": null,
   "metadata": {},
   "outputs": [],
   "source": []
  }
 ],
 "metadata": {
  "interpreter": {
   "hash": "3ed4723a48909b5f53aa60c9fb567fd0ce640a0b92cd5b0c4d4f2b2a674101c2"
  },
  "kernelspec": {
   "display_name": "Python 3.8.10 ('venv')",
   "language": "python",
   "name": "python3"
  },
  "language_info": {
   "codemirror_mode": {
    "name": "ipython",
    "version": 3
   },
   "file_extension": ".py",
   "mimetype": "text/x-python",
   "name": "python",
   "nbconvert_exporter": "python",
   "pygments_lexer": "ipython3",
   "version": "3.8.10"
  },
  "orig_nbformat": 4
 },
 "nbformat": 4,
 "nbformat_minor": 2
}
