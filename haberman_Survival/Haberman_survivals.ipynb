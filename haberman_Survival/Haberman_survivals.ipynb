{
 "cells": [
  {
   "cell_type": "code",
   "execution_count": 78,
   "id": "b59aeba5",
   "metadata": {},
   "outputs": [],
   "source": [
    "import numpy as np\n",
    "import pandas as pd\n",
    "import seaborn as sns\n",
    "import matplotlib as plt\n",
    "import matplotlib.pyplot as plt"
   ]
  },
  {
   "cell_type": "markdown",
   "id": "591eccde",
   "metadata": {},
   "source": [
    "### Open dataset"
   ]
  },
  {
   "cell_type": "code",
   "execution_count": 79,
   "id": "522d08f1",
   "metadata": {},
   "outputs": [],
   "source": [
    "file = \"haberman.csv\"\n",
    "columns = ['age', 'year', 'nodes', 'class']\n",
    "hab_df = pd.read_csv(file, header=None, names=columns)"
   ]
  },
  {
   "cell_type": "markdown",
   "id": "bd78e0f4",
   "metadata": {},
   "source": [
    "#### Dataset summary"
   ]
  },
  {
   "cell_type": "code",
   "execution_count": 80,
   "id": "7c42320e",
   "metadata": {},
   "outputs": [
    {
     "name": "stdout",
     "output_type": "stream",
     "text": [
      "<class 'pandas.core.frame.DataFrame'>\n",
      "RangeIndex: 306 entries, 0 to 305\n",
      "Data columns (total 4 columns):\n",
      " #   Column  Non-Null Count  Dtype\n",
      "---  ------  --------------  -----\n",
      " 0   age     306 non-null    int64\n",
      " 1   year    306 non-null    int64\n",
      " 2   nodes   306 non-null    int64\n",
      " 3   class   306 non-null    int64\n",
      "dtypes: int64(4)\n",
      "memory usage: 9.7 KB\n"
     ]
    }
   ],
   "source": [
    "hab_df.info()"
   ]
  },
  {
   "cell_type": "markdown",
   "id": "831a1935",
   "metadata": {},
   "source": [
    "#### Nan value"
   ]
  },
  {
   "cell_type": "code",
   "execution_count": 81,
   "id": "2ef180b2",
   "metadata": {},
   "outputs": [
    {
     "name": "stdout",
     "output_type": "stream",
     "text": [
      "False\n"
     ]
    }
   ],
   "source": [
    "print(hab_df.isnull().values.any())"
   ]
  },
  {
   "cell_type": "markdown",
   "id": "fdcf90f3",
   "metadata": {},
   "source": [
    "#### Dataset description"
   ]
  },
  {
   "cell_type": "code",
   "execution_count": 82,
   "id": "bbaf82e4",
   "metadata": {},
   "outputs": [
    {
     "name": "stdout",
     "output_type": "stream",
     "text": [
      "              age        year       nodes       class\n",
      "count  306.000000  306.000000  306.000000  306.000000\n",
      "mean    52.457516   62.852941    4.026144    1.264706\n",
      "std     10.803452    3.249405    7.189654    0.441899\n",
      "min     30.000000   58.000000    0.000000    1.000000\n",
      "25%     44.000000   60.000000    0.000000    1.000000\n",
      "50%     52.000000   63.000000    1.000000    1.000000\n",
      "75%     60.750000   65.750000    4.000000    2.000000\n",
      "max     83.000000   69.000000   52.000000    2.000000\n"
     ]
    }
   ],
   "source": [
    "print(hab_df.describe())"
   ]
  },
  {
   "cell_type": "markdown",
   "id": "5f4c38ce",
   "metadata": {},
   "source": [
    "#### Distribution of output variable"
   ]
  },
  {
   "cell_type": "code",
   "execution_count": 83,
   "id": "32906ee5",
   "metadata": {},
   "outputs": [
    {
     "name": "stdout",
     "output_type": "stream",
     "text": [
      "Class=1, Count=225, Percentage=73.529%\n",
      "Class=2, Count=81, Percentage=26.471%\n"
     ]
    }
   ],
   "source": [
    "from collections import Counter\n",
    "\n",
    "target = hab_df['class'].values\n",
    "counter = Counter(target)\n",
    "for k,v in counter.items():\n",
    "    per = v / len(target) * 100\n",
    "    print('Class=%d, Count=%d, Percentage=%.3f%%' % (k, v, per))"
   ]
  },
  {
   "cell_type": "markdown",
   "id": "a1f3707e",
   "metadata": {},
   "source": [
    "### Graphical analysis"
   ]
  },
  {
   "cell_type": "markdown",
   "id": "d8b34e6c",
   "metadata": {},
   "source": [
    "#### Calculate skewness"
   ]
  },
  {
   "cell_type": "code",
   "execution_count": 84,
   "id": "ae45e3e8",
   "metadata": {},
   "outputs": [
    {
     "data": {
      "text/html": [
       "<div>\n",
       "<style scoped>\n",
       "    .dataframe tbody tr th:only-of-type {\n",
       "        vertical-align: middle;\n",
       "    }\n",
       "\n",
       "    .dataframe tbody tr th {\n",
       "        vertical-align: top;\n",
       "    }\n",
       "\n",
       "    .dataframe thead th {\n",
       "        text-align: right;\n",
       "    }\n",
       "</style>\n",
       "<table border=\"1\" class=\"dataframe\">\n",
       "  <thead>\n",
       "    <tr style=\"text-align: right;\">\n",
       "      <th></th>\n",
       "      <th>skew</th>\n",
       "    </tr>\n",
       "  </thead>\n",
       "  <tbody>\n",
       "    <tr>\n",
       "      <th>age</th>\n",
       "      <td>0.146505</td>\n",
       "    </tr>\n",
       "    <tr>\n",
       "      <th>year</th>\n",
       "      <td>0.078755</td>\n",
       "    </tr>\n",
       "    <tr>\n",
       "      <th>nodes</th>\n",
       "      <td>2.983823</td>\n",
       "    </tr>\n",
       "    <tr>\n",
       "      <th>class</th>\n",
       "      <td>1.071928</td>\n",
       "    </tr>\n",
       "  </tbody>\n",
       "</table>\n",
       "</div>"
      ],
      "text/plain": [
       "           skew\n",
       "age    0.146505\n",
       "year   0.078755\n",
       "nodes  2.983823\n",
       "class  1.071928"
      ]
     },
     "execution_count": 84,
     "metadata": {},
     "output_type": "execute_result"
    }
   ],
   "source": [
    "hab_df.agg(['skew']).transpose()"
   ]
  },
  {
   "cell_type": "code",
   "execution_count": 19,
   "id": "bcce4bf4",
   "metadata": {},
   "outputs": [
    {
     "data": {
      "image/png": "[encoded data removed]",
      "text/plain": [
       "<Figure size 432x288 with 4 Axes>"
      ]
     },
     "metadata": {
      "needs_background": "light"
     },
     "output_type": "display_data"
    }
   ],
   "source": [
    "hab_df.hist()\n",
    "plt.show()"
   ]
  },
  {
   "cell_type": "code",
   "execution_count": null,
   "id": "65fb1fcb",
   "metadata": {},
   "outputs": [],
   "source": [
    "sns.FacetGrid(hab_df, hue = \"class\", size = 5).map(sns.distplot, \"age\").add_legend()\n",
    "plt.title(\"Histogram of age\")\n",
    "plt.ylabel(\"Density\")\n",
    "plt.show()"
   ]
  },
  {
   "cell_type": "code",
   "execution_count": null,
   "id": "a94d320c",
   "metadata": {},
   "outputs": [],
   "source": [
    "sns.boxplot(x='class',y='age', data=hab_df)\n",
    "plt.show()"
   ]
  },
  {
   "cell_type": "code",
   "execution_count": null,
   "id": "4cd292d3",
   "metadata": {},
   "outputs": [],
   "source": [
    "sns.FacetGrid(hab_df, hue = \"class\", size = 5). map(sns.distplot, \"year\").add_legend()\n",
    "plt.title(\"Histogram of operation_year\")\n",
    "plt.ylabel(\"Density\")\n",
    "plt.show()"
   ]
  },
  {
   "cell_type": "code",
   "execution_count": null,
   "id": "7a017ef2",
   "metadata": {},
   "outputs": [],
   "source": [
    "sns.boxplot(x='class',y='year', data=hab_df)\n",
    "plt.show()"
   ]
  },
  {
   "cell_type": "code",
   "execution_count": null,
   "id": "c54c5733",
   "metadata": {},
   "outputs": [],
   "source": [
    "sns.FacetGrid(hab_df, hue = \"survival_status\", size = 5).map(sns.distplot, \"nodes\").add_legend()\n",
    "plt.title(\"Histogram of axillary_lymph_node\")\n",
    "plt.ylabel(\"Density\")\n",
    "plt.show()"
   ]
  },
  {
   "cell_type": "code",
   "execution_count": null,
   "id": "72bf0d4e",
   "metadata": {},
   "outputs": [],
   "source": [
    "sns.boxplot(x='class',y='nodes', data=hab_df)\n",
    "plt.show()"
   ]
  },
  {
   "cell_type": "code",
   "execution_count": null,
   "metadata": {},
   "outputs": [],
   "source": [
    "sns.color_palette(\"viridis\", as_cmap=True)\n",
    "sns.pairplot(hab_df, hue='class', height=4,vars=['age', 'nodes','year'])\n",
    "plt.show()"
   ]
  },
  {
   "cell_type": "code",
   "execution_count": null,
   "metadata": {},
   "outputs": [],
   "source": [
    "corr_mat = hab_df.corr()\n",
    "plt.figure(figsize = [20,12])\n",
    "sns.heatmap(corr_mat, annot = True, cmap = 'RdYlBu_r')\n",
    "plt.title('Correlation Matrix')\n",
    "plt.show()"
   ]
  },
  {
   "cell_type": "markdown",
   "metadata": {},
   "source": [
    "### Data preprocessing"
   ]
  },
  {
   "cell_type": "markdown",
   "metadata": {},
   "source": [
    "#### split into input and output elements"
   ]
  },
  {
   "cell_type": "code",
   "execution_count": 85,
   "metadata": {},
   "outputs": [],
   "source": [
    "X = hab_df.drop('class',axis=1)\n",
    "y = hab_df['class']"
   ]
  },
  {
   "cell_type": "markdown",
   "metadata": {},
   "source": [
    "#### Encode output variable"
   ]
  },
  {
   "cell_type": "code",
   "execution_count": 86,
   "metadata": {},
   "outputs": [],
   "source": [
    "from sklearn.preprocessing import LabelEncoder\n",
    "y = LabelEncoder().fit_transform(y)"
   ]
  },
  {
   "cell_type": "code",
   "execution_count": null,
   "metadata": {},
   "outputs": [],
   "source": [
    "hab_df.head()"
   ]
  },
  {
   "cell_type": "markdown",
   "metadata": {},
   "source": [
    "#### Split data in train and test"
   ]
  },
  {
   "cell_type": "code",
   "execution_count": 88,
   "metadata": {},
   "outputs": [
    {
     "name": "stdout",
     "output_type": "stream",
     "text": [
      "(244, 3)\n",
      "(244,)\n",
      "(62, 3)\n",
      "(62,)\n"
     ]
    }
   ],
   "source": [
    "from sklearn.model_selection import train_test_split\n",
    "x_train, x_test, y_train, y_test = train_test_split(X, y, train_size=.80, random_state=11)\n",
    "\n",
    "print(x_train.shape)\n",
    "print(y_train.shape)\n",
    "print(x_test.shape)\n",
    "print(y_test.shape)"
   ]
  },
  {
   "cell_type": "markdown",
   "metadata": {},
   "source": [
    "### Evaluate models"
   ]
  },
  {
   "cell_type": "code",
   "execution_count": 130,
   "metadata": {},
   "outputs": [],
   "source": [
    "from numpy import mean\n",
    "from numpy import std\n",
    "from sklearn.linear_model import LogisticRegression\n",
    "from sklearn.neural_network import MLPClassifier\n",
    "from sklearn.neighbors import KNeighborsClassifier\n",
    "from sklearn.svm import SVC\n",
    "from sklearn.preprocessing import StandardScaler\n",
    "from sklearn.pipeline import Pipeline\n",
    "from sklearn.model_selection import RepeatedStratifiedKFold\n",
    "from sklearn.model_selection import cross_val_score"
   ]
  },
  {
   "cell_type": "code",
   "execution_count": 136,
   "metadata": {},
   "outputs": [],
   "source": [
    "models = [LogisticRegression(solver='lbfgs', class_weight='balanced'), \n",
    "        SVC(class_weight='balanced'), \n",
    "        MLPClassifier(hidden_layer_sizes=(4,),activation=\"relu\",random_state=1, solver='adam'), \n",
    "        KNeighborsClassifier(n_neighbors=3, weights='distance')]"
   ]
  },
  {
   "cell_type": "code",
   "execution_count": 137,
   "metadata": {},
   "outputs": [
    {
     "name": "stdout",
     "output_type": "stream",
     "text": [
      ">Logisti 0.732 (0.071)\n",
      ">SVC 0.685 (0.101)\n",
      ">MLPClas 0.574 (0.077)\n",
      ">KNeighb 0.649 (0.090)\n"
     ]
    },
    {
     "data": {
      "image/png": "[encoded data removed]",
      "text/plain": [
       "<Figure size 432x288 with 1 Axes>"
      ]
     },
     "metadata": {
      "needs_background": "light"
     },
     "output_type": "display_data"
    }
   ],
   "source": [
    "names, values = list(), list()\n",
    "cv = RepeatedStratifiedKFold(n_splits=10, n_repeats=3, random_state=1)\n",
    "\n",
    "for model in models:\n",
    "\t# get a name for the model\n",
    "\tname = type(model).__name__[:7]\n",
    "\t# create a pipeline\n",
    "\tpip = Pipeline(steps=[('t', StandardScaler()),('m',model)])\n",
    "\t# evaluate the model and store results\n",
    "    \n",
    "\tscores = cross_val_score(pip, x_train, y_train, scoring='accuracy', cv=cv, n_jobs=-1)\n",
    "\t# summarize and store\n",
    "\tprint('>%s %.3f (%.3f)' % (name, mean(scores), std(scores)))\n",
    "\tnames.append(name)\n",
    "\tvalues.append(scores)\n",
    "\n",
    "plt.boxplot(values, labels=names, showmeans=True)\n",
    "plt.show()"
   ]
  },
  {
   "cell_type": "code",
   "execution_count": 140,
   "metadata": {},
   "outputs": [
    {
     "name": "stdout",
     "output_type": "stream",
     "text": [
      ">Logisti 0.176 (0.159)\n",
      ">SVC 0.248 (0.143)\n",
      ">MLPClas 0.252 (0.131)\n",
      ">KNeighb 0.229 (0.146)\n"
     ]
    },
    {
     "data": {
      "image/png": "[encoded data removed]",
      "text/plain": [
       "<Figure size 432x288 with 1 Axes>"
      ]
     },
     "metadata": {
      "needs_background": "light"
     },
     "output_type": "display_data"
    }
   ],
   "source": [
    "names, values = list(), list()\n",
    "cv = RepeatedStratifiedKFold(n_splits=10, n_repeats=3, random_state=1)\n",
    "\n",
    "for model in models:\n",
    "\t# get a name for the model\n",
    "\tname = type(model).__name__[:7]\n",
    "\t# create a pipeline\n",
    "\tpip = Pipeline(steps=[('t', StandardScaler()),('m',model)])\n",
    "\t# evaluate the model and store results\n",
    "    \n",
    "\tscores = cross_val_score(pip, x_train, y_train, scoring='recall', cv=cv, n_jobs=-1)\n",
    "\t# summarize and store\n",
    "\tprint('>%s %.3f (%.3f)' % (name, mean(scores), std(scores)))\n",
    "\tnames.append(name)\n",
    "\tvalues.append(scores)\n",
    "\n",
    "plt.boxplot(values, labels=names, showmeans=True)\n",
    "plt.show()"
   ]
  },
  {
   "cell_type": "code",
   "execution_count": 138,
   "metadata": {},
   "outputs": [],
   "source": [
    "models = [LogisticRegression(solver='lbfgs'), \n",
    "        SVC(), \n",
    "        MLPClassifier(hidden_layer_sizes=(4,),activation=\"relu\",random_state=1, solver='adam'), \n",
    "        KNeighborsClassifier()]"
   ]
  },
  {
   "cell_type": "code",
   "execution_count": 139,
   "metadata": {},
   "outputs": [
    {
     "name": "stdout",
     "output_type": "stream",
     "text": [
      ">Logisti 0.725 (0.040)\n",
      ">SVC 0.724 (0.056)\n",
      ">MLPClas 0.569 (0.086)\n",
      ">KNeighb 0.660 (0.066)\n"
     ]
    },
    {
     "data": {
      "image/png": "[encoded data removed]",
      "text/plain": [
       "<Figure size 432x288 with 1 Axes>"
      ]
     },
     "metadata": {
      "needs_background": "light"
     },
     "output_type": "display_data"
    }
   ],
   "source": [
    "names, values = list(), list()\n",
    "cv = RepeatedStratifiedKFold(n_splits=10, n_repeats=5, random_state=1)\n",
    "\n",
    "for model in models:\n",
    "\t# get a name for the model\n",
    "\tname = type(model).__name__[:7]\n",
    "\t# create a pipeline\n",
    "\tpip = Pipeline(steps=[('t', StandardScaler()),('m',model)])\n",
    "\t# evaluate the model and store results\n",
    "    \n",
    "\tscores = cross_val_score(pip, x_train, y_train, scoring='accuracy', cv=cv, n_jobs=-1)\n",
    "\t# summarize and store\n",
    "\tprint('>%s %.3f (%.3f)' % (name, mean(scores), std(scores)))\n",
    "\tnames.append(name)\n",
    "\tvalues.append(scores)\n",
    "\n",
    "plt.boxplot(values, labels=names, showmeans=True)\n",
    "plt.show()"
   ]
  },
  {
   "cell_type": "code",
   "execution_count": null,
   "metadata": {},
   "outputs": [],
   "source": []
  }
 ],
 "metadata": {
  "interpreter": {
   "hash": "3dfd377c3d3677a474b5cf8f6dd32fa1c1a08e6aa07916ba770f4885d77aecd9"
  },
  "kernelspec": {
   "display_name": "Python 3.6.9 64-bit ('env': venv)",
   "name": "python3"
  },
  "language_info": {
   "codemirror_mode": {
    "name": "ipython",
    "version": 3
   },
   "file_extension": ".py",
   "mimetype": "text/x-python",
   "name": "python",
   "nbconvert_exporter": "python",
   "pygments_lexer": "ipython3",
   "version": "3.6.9"
  }
 },
 "nbformat": 4,
 "nbformat_minor": 5
}
